{
 "cells": [
  {
   "cell_type": "markdown",
   "id": "0ea46013",
   "metadata": {},
   "source": [
    "<div style=\"background-color: #e6f7ff; padding: 20px; border-radius: 10px; box-shadow: 2px 2px 10px #b8daff;\">\n",
    "    <h1>Instacart Market Basket Analysis</h1>\n",
    "    <h2>Project Overview</h2>\n",
    "    <p>This project explores the shopping habits of customers using Instacart, a grocery delivery platform. The data, sourced from a Kaggle competition and modified for this analysis, will be used to gain insights into customer behaviors and trends.</p>\n",
    "    <h2>Objectives</h2>\n",
    "    <ul>\n",
    "        <li>Clean the dataset by addressing missing values, duplicates, and data types.</li>\n",
    "        <li>Analyze shopping patterns based on order times and days.</li>\n",
    "        <li>Identify the most frequently purchased and reordered products.</li>\n",
    "    </ul>\n",
    "    <h2>Data Description</h2>\n",
    "    <p>The dataset consists of five CSV files that cover orders, products, departments, aisles, and order-products details. It includes information such as order times, product names, and reordering data, which will be crucial in understanding customer purchase patterns.</p>\n",
    "    <h2>Initial Observations</h2>\n",
    "    <ul>\n",
    "        <li>The <code>orders</code> dataset contains some duplicate entries which need to be removed to avoid biased results.</li>\n",
    "        <li>The <code>products</code> dataset has missing product names, all associated with aisle ID 100 and department ID 21.</li>\n",
    "        <li>Preliminary analysis indicates that certain products, like bananas and organic avocados, are top sellers.</li>\n",
    "    </ul>\n",
    "</div>\n",
    "\n"
   ]
  },
  {
   "cell_type": "code",
   "execution_count": 49,
   "id": "4eb189a4",
   "metadata": {},
   "outputs": [],
   "source": [
    "import pandas as pd\n",
    "import matplotlib.pyplot as plt"
   ]
  },
  {
   "cell_type": "code",
   "execution_count": 50,
   "id": "7263bfdf",
   "metadata": {},
   "outputs": [],
   "source": [
    "orders = pd.read_csv('/datasets/instacart_orders.csv', sep=';')\n",
    "products = pd.read_csv('/datasets/products.csv', sep=';')\n",
    "departments = pd.read_csv('/datasets/departments.csv', sep=';')\n",
    "aisles = pd.read_csv('/datasets/aisles.csv', sep=';')\n",
    "order_products = pd.read_csv('/datasets/order_products.csv', sep=';')"
   ]
  },
  {
   "cell_type": "code",
   "execution_count": 51,
   "id": "9913f62c",
   "metadata": {},
   "outputs": [
    {
     "data": {
      "text/plain": [
       "15"
      ]
     },
     "execution_count": 51,
     "metadata": {},
     "output_type": "execute_result"
    }
   ],
   "source": [
    "# Check for duplicated orders\n",
    "orders.duplicated().sum()"
   ]
  },
  {
   "cell_type": "code",
   "execution_count": 52,
   "id": "d6301f29",
   "metadata": {},
   "outputs": [
    {
     "data": {
      "text/html": [
       "<div>\n",
       "<style scoped>\n",
       "    .dataframe tbody tr th:only-of-type {\n",
       "        vertical-align: middle;\n",
       "    }\n",
       "\n",
       "    .dataframe tbody tr th {\n",
       "        vertical-align: top;\n",
       "    }\n",
       "\n",
       "    .dataframe thead th {\n",
       "        text-align: right;\n",
       "    }\n",
       "</style>\n",
       "<table border=\"1\" class=\"dataframe\">\n",
       "  <thead>\n",
       "    <tr style=\"text-align: right;\">\n",
       "      <th></th>\n",
       "      <th>order_id</th>\n",
       "      <th>user_id</th>\n",
       "      <th>order_number</th>\n",
       "      <th>order_dow</th>\n",
       "      <th>order_hour_of_day</th>\n",
       "      <th>days_since_prior_order</th>\n",
       "    </tr>\n",
       "  </thead>\n",
       "  <tbody>\n",
       "    <tr>\n",
       "      <th>1295</th>\n",
       "      <td>1474941</td>\n",
       "      <td>115569</td>\n",
       "      <td>5</td>\n",
       "      <td>2</td>\n",
       "      <td>2</td>\n",
       "      <td>28.0</td>\n",
       "    </tr>\n",
       "    <tr>\n",
       "      <th>2391</th>\n",
       "      <td>1640269</td>\n",
       "      <td>173965</td>\n",
       "      <td>15</td>\n",
       "      <td>2</td>\n",
       "      <td>2</td>\n",
       "      <td>2.0</td>\n",
       "    </tr>\n",
       "    <tr>\n",
       "      <th>2550</th>\n",
       "      <td>1223696</td>\n",
       "      <td>55276</td>\n",
       "      <td>11</td>\n",
       "      <td>2</td>\n",
       "      <td>2</td>\n",
       "      <td>30.0</td>\n",
       "    </tr>\n",
       "    <tr>\n",
       "      <th>5965</th>\n",
       "      <td>579194</td>\n",
       "      <td>85018</td>\n",
       "      <td>14</td>\n",
       "      <td>2</td>\n",
       "      <td>2</td>\n",
       "      <td>11.0</td>\n",
       "    </tr>\n",
       "    <tr>\n",
       "      <th>17680</th>\n",
       "      <td>2004230</td>\n",
       "      <td>203121</td>\n",
       "      <td>4</td>\n",
       "      <td>2</td>\n",
       "      <td>2</td>\n",
       "      <td>8.0</td>\n",
       "    </tr>\n",
       "    <tr>\n",
       "      <th>...</th>\n",
       "      <td>...</td>\n",
       "      <td>...</td>\n",
       "      <td>...</td>\n",
       "      <td>...</td>\n",
       "      <td>...</td>\n",
       "      <td>...</td>\n",
       "    </tr>\n",
       "    <tr>\n",
       "      <th>457660</th>\n",
       "      <td>1562381</td>\n",
       "      <td>19378</td>\n",
       "      <td>5</td>\n",
       "      <td>2</td>\n",
       "      <td>2</td>\n",
       "      <td>6.0</td>\n",
       "    </tr>\n",
       "    <tr>\n",
       "      <th>460316</th>\n",
       "      <td>1986084</td>\n",
       "      <td>117453</td>\n",
       "      <td>81</td>\n",
       "      <td>2</td>\n",
       "      <td>2</td>\n",
       "      <td>8.0</td>\n",
       "    </tr>\n",
       "    <tr>\n",
       "      <th>462676</th>\n",
       "      <td>1362113</td>\n",
       "      <td>19654</td>\n",
       "      <td>20</td>\n",
       "      <td>2</td>\n",
       "      <td>2</td>\n",
       "      <td>21.0</td>\n",
       "    </tr>\n",
       "    <tr>\n",
       "      <th>472800</th>\n",
       "      <td>1746383</td>\n",
       "      <td>88484</td>\n",
       "      <td>19</td>\n",
       "      <td>2</td>\n",
       "      <td>2</td>\n",
       "      <td>5.0</td>\n",
       "    </tr>\n",
       "    <tr>\n",
       "      <th>472923</th>\n",
       "      <td>1519815</td>\n",
       "      <td>149345</td>\n",
       "      <td>1</td>\n",
       "      <td>2</td>\n",
       "      <td>2</td>\n",
       "      <td>NaN</td>\n",
       "    </tr>\n",
       "  </tbody>\n",
       "</table>\n",
       "<p>136 rows × 6 columns</p>\n",
       "</div>"
      ],
      "text/plain": [
       "        order_id  user_id  order_number  order_dow  order_hour_of_day  \\\n",
       "1295     1474941   115569             5          2                  2   \n",
       "2391     1640269   173965            15          2                  2   \n",
       "2550     1223696    55276            11          2                  2   \n",
       "5965      579194    85018            14          2                  2   \n",
       "17680    2004230   203121             4          2                  2   \n",
       "...          ...      ...           ...        ...                ...   \n",
       "457660   1562381    19378             5          2                  2   \n",
       "460316   1986084   117453            81          2                  2   \n",
       "462676   1362113    19654            20          2                  2   \n",
       "472800   1746383    88484            19          2                  2   \n",
       "472923   1519815   149345             1          2                  2   \n",
       "\n",
       "        days_since_prior_order  \n",
       "1295                      28.0  \n",
       "2391                       2.0  \n",
       "2550                      30.0  \n",
       "5965                      11.0  \n",
       "17680                      8.0  \n",
       "...                        ...  \n",
       "457660                     6.0  \n",
       "460316                     8.0  \n",
       "462676                    21.0  \n",
       "472800                     5.0  \n",
       "472923                     NaN  \n",
       "\n",
       "[136 rows x 6 columns]"
      ]
     },
     "execution_count": 52,
     "metadata": {},
     "output_type": "execute_result"
    }
   ],
   "source": [
    "# Check for all orders placed Wednesday at 2:00 AM\n",
    "mask = (orders['order_dow'] == 2) & (orders['order_hour_of_day'] == 2)\n",
    "wednesday_2am_orders = orders[mask]\n",
    "\n",
    "wednesday_2am_orders"
   ]
  },
  {
   "cell_type": "markdown",
   "id": "4df0a1f2",
   "metadata": {},
   "source": [
    "Note: A mask in Python is a filter applied to an array or a data structure. It is a Boolean array that indicates which elements of the data structure should be selected or excluded based on some condition. I used mask to select the desired rows for finding orders on Wednesday at 2.\n"
   ]
  },
  {
   "cell_type": "markdown",
   "id": "9f21aacb",
   "metadata": {},
   "source": [
    "<div class=\"alert alert-success\" style=\"border-radius: 15px; box-shadow: 4px 4px 4px; border: 1px solid \">\n",
    "<h2> Reviewer's comment ✔️</h2>\n",
    "    \n",
    "\n",
    "I agree here. Zero should indicate Monday, so we need to take the 2nd day. \n",
    "</div>"
   ]
  },
  {
   "cell_type": "code",
   "execution_count": 53,
   "id": "9050b9bc",
   "metadata": {},
   "outputs": [
    {
     "name": "stdout",
     "output_type": "stream",
     "text": [
      "0\n",
      "0\n"
     ]
    }
   ],
   "source": [
    "# Remove duplicate orders\n",
    "orders = orders.drop_duplicates()\n",
    "\n",
    "# Double check for duplicate rows\n",
    "print(orders.duplicated().sum())\n",
    "\n",
    "# Double check for duplicate order IDs only\n",
    "print(orders.duplicated(subset='order_id').sum())"
   ]
  },
  {
   "cell_type": "markdown",
   "id": "d4ccc9f9",
   "metadata": {},
   "source": [
    "<div style=\"background-color: #e6f7ff; border-left: 4px solid #9fd3f7; padding: 15px; border-radius: 5px; box-shadow: 2px 2px 2px #b8daff;\">\n",
    "    <h2 style=\"color: #31708f;\">Student's Comment</h2>\n",
    "    <p style=\"font-family: 'Helvetica Neue', Helvetica, Arial, sans-serif; font-size: 14px; color: #5d5d5d;\">\n",
    "        Removing duplicated orders in the Instacart dataset is crucial because such duplicates can introduce bias into the analysis and skew the results. For instance, if an order is recorded twice, it may falsely represent a single customer as placing multiple orders, which can lead to incorrect interpretations of order frequency and customer habits.\n",
    "    </p>\n",
    "</div>\n"
   ]
  },
  {
   "cell_type": "markdown",
   "id": "bb66f85c",
   "metadata": {},
   "source": [
    "<div class=\"alert alert-success\" style=\"border-radius: 15px; box-shadow: 4px 4px 4px; border: 1px solid \">\n",
    "<h2> Reviewer's comment ✔️</h2>\n",
    "    \n",
    "\n",
    "Conclusions are important, well done! </div>"
   ]
  },
  {
   "cell_type": "code",
   "execution_count": 54,
   "id": "400fb6b5",
   "metadata": {},
   "outputs": [
    {
     "name": "stdout",
     "output_type": "stream",
     "text": [
      "<class 'pandas.core.frame.DataFrame'>\n",
      "RangeIndex: 49694 entries, 0 to 49693\n",
      "Data columns (total 4 columns):\n",
      " #   Column         Non-Null Count  Dtype \n",
      "---  ------         --------------  ----- \n",
      " 0   product_id     49694 non-null  int64 \n",
      " 1   product_name   48436 non-null  object\n",
      " 2   aisle_id       49694 non-null  int64 \n",
      " 3   department_id  49694 non-null  int64 \n",
      "dtypes: int64(3), object(1)\n",
      "memory usage: 1.5+ MB\n"
     ]
    }
   ],
   "source": [
    "#using info so i know what the column names and rows are\n",
    "products.info()"
   ]
  },
  {
   "cell_type": "code",
   "execution_count": 55,
   "id": "e95acd11",
   "metadata": {},
   "outputs": [
    {
     "name": "stdout",
     "output_type": "stream",
     "text": [
      "0\n"
     ]
    },
    {
     "data": {
      "text/plain": [
       "1361"
      ]
     },
     "execution_count": 55,
     "metadata": {},
     "output_type": "execute_result"
    }
   ],
   "source": [
    "# Check for fully duplicate rows\n",
    "products.duplicated().sum()\n",
    "\n",
    "# Check for just duplicate product IDs\n",
    "print(products.duplicated(subset='product_id').sum())\n",
    "\n",
    "# Check for just duplicate product names (convert names to lowercase to compare better)\n",
    "products['product_name'] = products['product_name'].str.lower()\n",
    "products.duplicated(subset='product_name').sum()"
   ]
  },
  {
   "cell_type": "code",
   "execution_count": 56,
   "id": "9aebba59",
   "metadata": {},
   "outputs": [
    {
     "data": {
      "text/plain": [
       "49694"
      ]
     },
     "execution_count": 56,
     "metadata": {},
     "output_type": "execute_result"
    }
   ],
   "source": [
    "# Check for duplicate product names that aren't missing\n",
    "products.duplicated(subset='product_name').count()"
   ]
  },
  {
   "cell_type": "markdown",
   "id": "77ff036d",
   "metadata": {},
   "source": [
    "<div style=\"background-color: #e6f7ff; border-left: 4px solid #9fd3f7; padding: 15px; border-radius: 5px; box-shadow: 2px 2px 2px #b8daff;\">\n",
    "    <h2 style=\"color: #31708f;\">Student's Comment</h2>\n",
    "    <p style=\"font-family: 'Helvetica Neue', Helvetica, Arial, sans-serif; font-size: 14px; color: #5d5d5d;\">\n",
    "        The previous code ensures that there are no duplicate product IDs. The code also ensures there are no duplicate product names, which is vital for maintaining data integrity and ensuring accurate analysis. Duplicate entries can lead to misrepresentation of product popularity and potentially skew downstream analyses such as market basket analysis.\n",
    "    </p>\n",
    "</div>\n"
   ]
  },
  {
   "cell_type": "markdown",
   "id": "622ff2c7",
   "metadata": {},
   "source": [
    "<div class=\"alert alert-success\" style=\"border-radius: 15px; box-shadow: 4px 4px 4px; border: 1px solid \">\n",
    "<h2> Reviewer's comment ✔️</h2>\n",
    "    \n",
    "\n",
    "Good idea. </div>"
   ]
  },
  {
   "cell_type": "code",
   "execution_count": 57,
   "id": "b42e4a11",
   "metadata": {},
   "outputs": [
    {
     "name": "stdout",
     "output_type": "stream",
     "text": [
      "<class 'pandas.core.frame.DataFrame'>\n",
      "RangeIndex: 21 entries, 0 to 20\n",
      "Data columns (total 2 columns):\n",
      " #   Column         Non-Null Count  Dtype \n",
      "---  ------         --------------  ----- \n",
      " 0   department_id  21 non-null     int64 \n",
      " 1   department     21 non-null     object\n",
      "dtypes: int64(1), object(1)\n",
      "memory usage: 464.0+ bytes\n",
      "----------------------------------------\n",
      "0\n",
      "----------------------------------------\n",
      "0\n",
      "----------------------------------------\n",
      "0\n"
     ]
    }
   ],
   "source": [
    "#using info to view column names\n",
    "departments.info()\n",
    "print('-' *40)\n",
    "\n",
    "#Check for duplicates\n",
    "print(departments.duplicated().sum())\n",
    "print('-' *40)\n",
    "\n",
    "#double checking for duplicates in each column since there are only two\n",
    "print(departments.duplicated(subset='department_id').sum())\n",
    "print('-' *40)\n",
    "\n",
    "#double checking for duplicates in each column since there are only two\n",
    "print(departments.duplicated(subset='department').sum())"
   ]
  },
  {
   "cell_type": "markdown",
   "id": "5c09e9d4",
   "metadata": {},
   "source": [
    "<div style=\"background-color: #e6f7ff; border-left: 4px solid #9fd3f7; padding: 15px; border-radius: 5px; box-shadow: 2px 2px 2px #b8daff;\">\n",
    "    <h2 style=\"color: #31708f;\">Student's Comment</h2>\n",
    "    <p style=\"font-family: 'Helvetica Neue', Helvetica, Arial, sans-serif; font-size: 14px; color: #5d5d5d;\">\n",
    "        Zero duplicates found in the departments dataset. This is crucial for maintaining the integrity of departmental categorization and ensures that each unique department is represented only once, preventing any skew in analysis related to departmental data.\n",
    "    </p>\n",
    "</div>\n"
   ]
  },
  {
   "cell_type": "markdown",
   "id": "a26cb6f3",
   "metadata": {},
   "source": [
    "<div class=\"alert alert-success\" style=\"border-radius: 15px; box-shadow: 4px 4px 4px; border: 1px solid \">\n",
    "<h2> Reviewer's comment ✔️</h2>\n",
    "    \n",
    "\n",
    "Very good! \n",
    "</div>"
   ]
  },
  {
   "cell_type": "code",
   "execution_count": 58,
   "id": "a7323cff",
   "metadata": {},
   "outputs": [
    {
     "name": "stdout",
     "output_type": "stream",
     "text": [
      "<class 'pandas.core.frame.DataFrame'>\n",
      "RangeIndex: 134 entries, 0 to 133\n",
      "Data columns (total 2 columns):\n",
      " #   Column    Non-Null Count  Dtype \n",
      "---  ------    --------------  ----- \n",
      " 0   aisle_id  134 non-null    int64 \n",
      " 1   aisle     134 non-null    object\n",
      "dtypes: int64(1), object(1)\n",
      "memory usage: 2.2+ KB\n"
     ]
    }
   ],
   "source": [
    "aisles.info()"
   ]
  },
  {
   "cell_type": "code",
   "execution_count": 59,
   "id": "01d48534",
   "metadata": {},
   "outputs": [
    {
     "data": {
      "text/plain": [
       "0"
      ]
     },
     "execution_count": 59,
     "metadata": {},
     "output_type": "execute_result"
    }
   ],
   "source": [
    "aisles.duplicated().sum()"
   ]
  },
  {
   "cell_type": "markdown",
   "id": "08a3e2ce",
   "metadata": {},
   "source": [
    "<div style=\"background-color: #e6f7ff; border-left: 4px solid #9fd3f7; padding: 15px; border-radius: 5px; box-shadow: 2px 2px 2px #b8daff;\">\n",
    "    <h2 style=\"color: #31708f;\">Student's Comment</h2>\n",
    "    <p style=\"font-family: 'Helvetica Neue', Helvetica, Arial, sans-serif; font-size: 14px; color: #5d5d5d;\">\n",
    "        Zero duplicates found in the aisles dataframe. This ensures the accuracy of the aisle categorization and is essential for reliable analysis, especially when studying shopping patterns or product placement within aisles.\n",
    "    </p>\n",
    "</div>\n"
   ]
  },
  {
   "cell_type": "code",
   "execution_count": 60,
   "id": "d0add269",
   "metadata": {},
   "outputs": [
    {
     "name": "stdout",
     "output_type": "stream",
     "text": [
      "<class 'pandas.core.frame.DataFrame'>\n",
      "RangeIndex: 4545007 entries, 0 to 4545006\n",
      "Data columns (total 4 columns):\n",
      " #   Column             Dtype  \n",
      "---  ------             -----  \n",
      " 0   order_id           int64  \n",
      " 1   product_id         int64  \n",
      " 2   add_to_cart_order  float64\n",
      " 3   reordered          int64  \n",
      "dtypes: float64(1), int64(3)\n",
      "memory usage: 138.7 MB\n"
     ]
    }
   ],
   "source": [
    "order_products.info()"
   ]
  },
  {
   "cell_type": "code",
   "execution_count": 61,
   "id": "e7ff73c6",
   "metadata": {},
   "outputs": [
    {
     "name": "stdout",
     "output_type": "stream",
     "text": [
      "0\n",
      "0\n"
     ]
    }
   ],
   "source": [
    "# Check for fullly duplicate rows\n",
    "print(order_products.duplicated().sum())\n",
    "\n",
    "# Double check for any other tricky duplicates\n",
    "print(order_products.duplicated(subset=['order_id', 'product_id']).sum())"
   ]
  },
  {
   "cell_type": "markdown",
   "id": "3fe0ed91",
   "metadata": {},
   "source": [
    "<div class=\"alert alert-success\" style=\"border-radius: 15px; box-shadow: 4px 4px 4px; border: 1px solid \">\n",
    "<h2>   Reviewer's comment ✔️</h2>\n",
    "    \n",
    "There are no duplicates, which is good. \n",
    "\n",
    "</div>"
   ]
  },
  {
   "cell_type": "code",
   "execution_count": 62,
   "id": "82530132",
   "metadata": {},
   "outputs": [
    {
     "name": "stdout",
     "output_type": "stream",
     "text": [
      "True\n"
     ]
    }
   ],
   "source": [
    "# Are all of the missing product names associated with aisle ID 100?\n",
    "missing_product_names = products['product_name'].isna()\n",
    "missing_product_names_df = products[missing_product_names]\n",
    "result = (missing_product_names_df['aisle_id'] == 100).all()\n",
    "print(result)"
   ]
  },
  {
   "cell_type": "markdown",
   "id": "47724f47",
   "metadata": {},
   "source": [
    "<div style=\"background-color: #e6f7ff; border-left: 4px solid #9fd3f7; padding: 15px; border-radius: 5px; box-shadow: 2px 2px 2px #b8daff;\">\n",
    "    <h2 style=\"color: #31708f;\">Student's Comment</h2>\n",
    "    <p style=\"font-family: 'Helvetica Neue', Helvetica, Arial, sans-serif; font-size: 14px; color: #5d5d5d;\">\n",
    "        The previous code shows that all of the missing product names are associated with aisle ID 100.\n",
    "    </p>\n",
    "</div>"
   ]
  },
  {
   "cell_type": "code",
   "execution_count": 63,
   "id": "2a87d3a0",
   "metadata": {},
   "outputs": [
    {
     "name": "stdout",
     "output_type": "stream",
     "text": [
      "True\n"
     ]
    }
   ],
   "source": [
    "# Are all of the missing product names associated with department ID 21?\n",
    "dep21_result = (missing_product_names_df['department_id'] == 21).all()\n",
    "print(dep21_result)"
   ]
  },
  {
   "cell_type": "code",
   "execution_count": 64,
   "id": "56d72fe6",
   "metadata": {},
   "outputs": [
    {
     "name": "stdout",
     "output_type": "stream",
     "text": [
      "missing\n",
      "missing\n"
     ]
    }
   ],
   "source": [
    "# What is this aisle and department?\n",
    "merged_aisles = pd.merge(missing_product_names_df, aisles, on='aisle_id')\n",
    "merged_aisles = merged_aisles.drop_duplicates(subset='aisle_id')\n",
    "aisle_name = merged_aisles.loc[merged_aisles['aisle_id'] == 100, 'aisle'].iloc[0]\n",
    "merged_departments = pd.merge(missing_product_names_df, departments, on='department_id')\n",
    "merged_departments = merged_departments.drop_duplicates(subset='department_id')\n",
    "department_name = merged_departments.loc[merged_departments['department_id'] == 21, 'department'].iloc[0]\n",
    "print(aisle_name)\n",
    "print(department_name)"
   ]
  },
  {
   "cell_type": "code",
   "execution_count": 65,
   "id": "f61056b2",
   "metadata": {},
   "outputs": [
    {
     "data": {
      "text/plain": [
       "count       49694\n",
       "unique      48333\n",
       "top       Unknown\n",
       "freq         1258\n",
       "Name: product_name, dtype: object"
      ]
     },
     "execution_count": 65,
     "metadata": {},
     "output_type": "execute_result"
    }
   ],
   "source": [
    "# Fill missing product names with 'Unknown'\n",
    "products['product_name'] = products['product_name'].fillna('Unknown')\n",
    "products['product_name'].describe()"
   ]
  },
  {
   "cell_type": "code",
   "execution_count": 66,
   "id": "40ed236e",
   "metadata": {},
   "outputs": [
    {
     "data": {
      "text/html": [
       "<div>\n",
       "<style scoped>\n",
       "    .dataframe tbody tr th:only-of-type {\n",
       "        vertical-align: middle;\n",
       "    }\n",
       "\n",
       "    .dataframe tbody tr th {\n",
       "        vertical-align: top;\n",
       "    }\n",
       "\n",
       "    .dataframe thead th {\n",
       "        text-align: right;\n",
       "    }\n",
       "</style>\n",
       "<table border=\"1\" class=\"dataframe\">\n",
       "  <thead>\n",
       "    <tr style=\"text-align: right;\">\n",
       "      <th></th>\n",
       "      <th>product_id</th>\n",
       "      <th>product_name</th>\n",
       "      <th>aisle_id</th>\n",
       "      <th>department_id</th>\n",
       "    </tr>\n",
       "  </thead>\n",
       "  <tbody>\n",
       "    <tr>\n",
       "      <th>37</th>\n",
       "      <td>38</td>\n",
       "      <td>Unknown</td>\n",
       "      <td>100</td>\n",
       "      <td>21</td>\n",
       "    </tr>\n",
       "    <tr>\n",
       "      <th>71</th>\n",
       "      <td>72</td>\n",
       "      <td>Unknown</td>\n",
       "      <td>100</td>\n",
       "      <td>21</td>\n",
       "    </tr>\n",
       "    <tr>\n",
       "      <th>109</th>\n",
       "      <td>110</td>\n",
       "      <td>Unknown</td>\n",
       "      <td>100</td>\n",
       "      <td>21</td>\n",
       "    </tr>\n",
       "    <tr>\n",
       "      <th>296</th>\n",
       "      <td>297</td>\n",
       "      <td>Unknown</td>\n",
       "      <td>100</td>\n",
       "      <td>21</td>\n",
       "    </tr>\n",
       "    <tr>\n",
       "      <th>416</th>\n",
       "      <td>417</td>\n",
       "      <td>Unknown</td>\n",
       "      <td>100</td>\n",
       "      <td>21</td>\n",
       "    </tr>\n",
       "    <tr>\n",
       "      <th>...</th>\n",
       "      <td>...</td>\n",
       "      <td>...</td>\n",
       "      <td>...</td>\n",
       "      <td>...</td>\n",
       "    </tr>\n",
       "    <tr>\n",
       "      <th>49552</th>\n",
       "      <td>49553</td>\n",
       "      <td>Unknown</td>\n",
       "      <td>100</td>\n",
       "      <td>21</td>\n",
       "    </tr>\n",
       "    <tr>\n",
       "      <th>49574</th>\n",
       "      <td>49575</td>\n",
       "      <td>Unknown</td>\n",
       "      <td>100</td>\n",
       "      <td>21</td>\n",
       "    </tr>\n",
       "    <tr>\n",
       "      <th>49640</th>\n",
       "      <td>49641</td>\n",
       "      <td>Unknown</td>\n",
       "      <td>100</td>\n",
       "      <td>21</td>\n",
       "    </tr>\n",
       "    <tr>\n",
       "      <th>49663</th>\n",
       "      <td>49664</td>\n",
       "      <td>Unknown</td>\n",
       "      <td>100</td>\n",
       "      <td>21</td>\n",
       "    </tr>\n",
       "    <tr>\n",
       "      <th>49668</th>\n",
       "      <td>49669</td>\n",
       "      <td>Unknown</td>\n",
       "      <td>100</td>\n",
       "      <td>21</td>\n",
       "    </tr>\n",
       "  </tbody>\n",
       "</table>\n",
       "<p>1258 rows × 4 columns</p>\n",
       "</div>"
      ],
      "text/plain": [
       "       product_id product_name  aisle_id  department_id\n",
       "37             38      Unknown       100             21\n",
       "71             72      Unknown       100             21\n",
       "109           110      Unknown       100             21\n",
       "296           297      Unknown       100             21\n",
       "416           417      Unknown       100             21\n",
       "...           ...          ...       ...            ...\n",
       "49552       49553      Unknown       100             21\n",
       "49574       49575      Unknown       100             21\n",
       "49640       49641      Unknown       100             21\n",
       "49663       49664      Unknown       100             21\n",
       "49668       49669      Unknown       100             21\n",
       "\n",
       "[1258 rows x 4 columns]"
      ]
     },
     "execution_count": 66,
     "metadata": {},
     "output_type": "execute_result"
    }
   ],
   "source": [
    "products[products['product_name']=='Unknown']"
   ]
  },
  {
   "cell_type": "markdown",
   "id": "eb5fa959",
   "metadata": {},
   "source": [
    "<div style=\"background-color: #e6f7ff; border-left: 4px solid #9fd3f7; padding: 15px; border-radius: 5px; box-shadow: 2px 2px 2px #b8daff;\">\n",
    "    <h2 style=\"color: #31708f;\">Student's Comment</h2>\n",
    "    <p style=\"font-family: 'Helvetica Neue', Helvetica, Arial, sans-serif; font-size: 14px; color: #5d5d5d;\">\n",
    "        The above results show that we have successfully replaced missing values with 'Unknown'\n",
    "    </p>\n",
    "</div>"
   ]
  },
  {
   "cell_type": "code",
   "execution_count": 67,
   "id": "2e3a7c94",
   "metadata": {},
   "outputs": [
    {
     "name": "stdout",
     "output_type": "stream",
     "text": [
      "<class 'pandas.core.frame.DataFrame'>\n",
      "Int64Index: 478952 entries, 0 to 478966\n",
      "Data columns (total 6 columns):\n",
      " #   Column                  Non-Null Count   Dtype  \n",
      "---  ------                  --------------   -----  \n",
      " 0   order_id                478952 non-null  int64  \n",
      " 1   user_id                 478952 non-null  int64  \n",
      " 2   order_number            478952 non-null  int64  \n",
      " 3   order_dow               478952 non-null  int64  \n",
      " 4   order_hour_of_day       478952 non-null  int64  \n",
      " 5   days_since_prior_order  450135 non-null  float64\n",
      "dtypes: float64(1), int64(5)\n",
      "memory usage: 25.6 MB\n"
     ]
    }
   ],
   "source": [
    "orders.info()"
   ]
  },
  {
   "cell_type": "code",
   "execution_count": 68,
   "id": "82645b71",
   "metadata": {},
   "outputs": [
    {
     "name": "stdout",
     "output_type": "stream",
     "text": [
      "False\n"
     ]
    }
   ],
   "source": [
    "# Are there any missing values where it's not a customer's first order?\n",
    "not_first_order = orders[orders['order_number'] != 1]\n",
    "missing_values = not_first_order['days_since_prior_order'].isna().any()\n",
    "print(missing_values)"
   ]
  },
  {
   "cell_type": "code",
   "execution_count": 69,
   "id": "b08e7e31",
   "metadata": {},
   "outputs": [
    {
     "data": {
      "text/plain": [
       "0"
      ]
     },
     "execution_count": 69,
     "metadata": {},
     "output_type": "execute_result"
    }
   ],
   "source": [
    "orders[orders['order_number'] != 1]['days_since_prior_order'].isna().sum()"
   ]
  },
  {
   "cell_type": "code",
   "execution_count": 70,
   "id": "3e2ff5dd",
   "metadata": {},
   "outputs": [
    {
     "name": "stdout",
     "output_type": "stream",
     "text": [
      "<class 'pandas.core.frame.DataFrame'>\n",
      "RangeIndex: 4545007 entries, 0 to 4545006\n",
      "Data columns (total 4 columns):\n",
      " #   Column             Dtype  \n",
      "---  ------             -----  \n",
      " 0   order_id           int64  \n",
      " 1   product_id         int64  \n",
      " 2   add_to_cart_order  float64\n",
      " 3   reordered          int64  \n",
      "dtypes: float64(1), int64(3)\n",
      "memory usage: 138.7 MB\n"
     ]
    }
   ],
   "source": [
    "order_products.info()"
   ]
  },
  {
   "cell_type": "code",
   "execution_count": 71,
   "id": "c0b4697a",
   "metadata": {},
   "outputs": [
    {
     "name": "stdout",
     "output_type": "stream",
     "text": [
      "1.0\n",
      "64.0\n",
      "True\n"
     ]
    }
   ],
   "source": [
    "# What are the min and max values in this column?\n",
    "print(order_products['add_to_cart_order'].min())\n",
    "print(order_products['add_to_cart_order'].max())\n",
    "\n",
    "# Save all order IDs with at least one missing value in 'add_to_cart_order'\n",
    "missing_values = order_products['add_to_cart_order'].isna()\n",
    "orders_with_missing_values = order_products[missing_values].order_id.unique()\n",
    "\n",
    "# Do all orders with missing values have more than 64 products?\n",
    "orders_grouped = order_products.groupby('order_id').size()\n",
    "orders_with_missing_values = order_products[missing_values].order_id.unique()\n",
    "\n",
    "result = (orders_grouped[orders_with_missing_values] > 64).all()\n",
    "print(result)"
   ]
  },
  {
   "cell_type": "code",
   "execution_count": 72,
   "id": "6bd402fd",
   "metadata": {},
   "outputs": [],
   "source": [
    "# Replace missing values with 999 and convert column to integer type\n",
    "order_products['add_to_cart_order'] = order_products['add_to_cart_order'].fillna(999).astype(int)"
   ]
  },
  {
   "cell_type": "markdown",
   "id": "38b88ca6",
   "metadata": {},
   "source": [
    "<div style=\"background-color: #e6f7ff; border-left: 4px solid #9fd3f7; padding: 15px; border-radius: 5px; box-shadow: 2px 2px 2px #b8daff;\">\n",
    "    <h2 style=\"color: #31708f;\">Student's Comment</h2>\n",
    "    <p style=\"font-family: 'Helvetica Neue', Helvetica, Arial, sans-serif; font-size: 14px; color: #5d5d5d;\">\n",
    "        All orders with missing values have more than 64 products.\n",
    "    </p>\n",
    "</div>"
   ]
  },
  {
   "cell_type": "markdown",
   "id": "37589871",
   "metadata": {},
   "source": [
    "<div class=\"alert alert-success\" style=\"border-radius: 15px; box-shadow: 4px 4px 4px; border: 1px solid \">\n",
    "<h2> Reviewer's comment ✔️</h2>\n",
    "    \n",
    "Very good.    \n",
    "    \n",
    "</div>"
   ]
  },
  {
   "cell_type": "markdown",
   "id": "e08c20f1",
   "metadata": {},
   "source": [
    "# [A] Easy (must complete all to pass)\n",
    "\n",
    "### [A1] Verify that the `'order_hour_of_day'` and `'order_dow'` values in the `orders` tables are sensible (i.e. `'order_hour_of_day'` ranges from 0 to 23 and `'order_dow'` ranges from 0 to 6)"
   ]
  },
  {
   "cell_type": "code",
   "execution_count": 73,
   "id": "5a8f47f7",
   "metadata": {},
   "outputs": [
    {
     "name": "stdout",
     "output_type": "stream",
     "text": [
      "True\n",
      "True\n"
     ]
    }
   ],
   "source": [
    "order_hour_of_day_min = orders['order_hour_of_day'].min()\n",
    "order_hour_of_day_max = orders['order_hour_of_day'].max()\n",
    "order_dow_min = orders['order_dow'].min()\n",
    "order_dow_max = orders['order_dow'].max()\n",
    "\n",
    "print(order_hour_of_day_min >= 0 and order_hour_of_day_max <= 23)\n",
    "print(order_dow_min >= 0 and order_dow_max <= 6)"
   ]
  },
  {
   "cell_type": "markdown",
   "id": "a7040945",
   "metadata": {},
   "source": [
    "### [A2] What time of day do people shop for groceries?"
   ]
  },
  {
   "cell_type": "code",
   "execution_count": 74,
   "id": "e7a1ed54",
   "metadata": {},
   "outputs": [
    {
     "data": {
      "image/png": "[encoded data removed]",
      "text/plain": [
       "<Figure size 432x288 with 1 Axes>"
      ]
     },
     "metadata": {
      "needs_background": "light"
     },
     "output_type": "display_data"
    }
   ],
   "source": [
    "order_hour_counts = orders['order_hour_of_day'].value_counts()\n",
    "order_hour_counts.sort_index(inplace=True)\n",
    "\n",
    "plt.bar(order_hour_counts.index, order_hour_counts.values)\n",
    "plt.xlabel('Hour of Day')\n",
    "plt.ylabel('Number of Orders')\n",
    "plt.title('Number of Orders by Hour of Day')\n",
    "plt.show()\n"
   ]
  },
  {
   "cell_type": "markdown",
   "id": "64fbd0c3",
   "metadata": {},
   "source": [
    "<div class=\"alert alert-success\" style=\"border-radius: 15px; box-shadow: 4px 4px 4px; border: 1px solid \">\n",
    "<h2> Reviewer's comment ✔️</h2>\n",
    "    \n",
    "    \n",
    "Nice chart 👍    \n",
    "</div>"
   ]
  },
  {
   "cell_type": "markdown",
   "id": "5efef408",
   "metadata": {},
   "source": [
    "<div style=\"background-color: #e6f7ff; border-left: 4px solid #9fd3f7; padding: 15px; border-radius: 5px; box-shadow: 2px 2px 2px #b8daff;\">\n",
    "    <h2 style=\"color: #31708f;\">Student's Comment</h2>\n",
    "    <p style=\"font-family: 'Helvetica Neue', Helvetica, Arial, sans-serif; font-size: 14px; color: #5d5d5d;\">\n",
    "        The data and histogram tells us that number of orders spike around 1000 and begin to decline after 1500.\n",
    "    \n",
    "The chart shows that most people prefer to shop at 10am. \n",
    "    </p>\n",
    "</div>"
   ]
  },
  {
   "cell_type": "markdown",
   "id": "2b77854c",
   "metadata": {},
   "source": [
    "### [A3] What day of the week do people shop for groceries?"
   ]
  },
  {
   "cell_type": "code",
   "execution_count": 75,
   "id": "907e318c",
   "metadata": {},
   "outputs": [
    {
     "data": {
      "image/png": "[encoded data removed]",
      "text/plain": [
       "<Figure size 432x288 with 1 Axes>"
      ]
     },
     "metadata": {
      "needs_background": "light"
     },
     "output_type": "display_data"
    }
   ],
   "source": [
    "order_dow_counts = orders['order_dow'].value_counts()\n",
    "order_dow_counts.sort_index(inplace=True)\n",
    "\n",
    "plt.bar(order_dow_counts.index, order_dow_counts.values)\n",
    "plt.xlabel('Day of Week')\n",
    "plt.ylabel('Number of Orders')\n",
    "plt.title('Number of Orders by Day of Week')\n",
    "plt.show()\n"
   ]
  },
  {
   "cell_type": "markdown",
   "id": "295fe64c",
   "metadata": {},
   "source": [
    "<div style=\"background-color: #e6f7ff; border-left: 4px solid #9fd3f7; padding: 15px; border-radius: 5px; box-shadow: 2px 2px 2px #b8daff;\">\n",
    "    <h2 style=\"color: #31708f;\">Student's Comment</h2>\n",
    "    <p style=\"font-family: 'Helvetica Neue', Helvetica, Arial, sans-serif; font-size: 14px; color: #5d5d5d;\">\n",
    "People shop for groceries everyday. However, day 0 and day 1 have the most orders\n",
    "    </p>\n",
    "</div>"
   ]
  },
  {
   "cell_type": "markdown",
   "id": "80c758ab",
   "metadata": {},
   "source": [
    "### [A4] How long do people wait until placing another order?"
   ]
  },
  {
   "cell_type": "code",
   "execution_count": 76,
   "id": "119ce67b",
   "metadata": {},
   "outputs": [
    {
     "data": {
      "image/png": "[encoded data removed]",
      "text/plain": [
       "<Figure size 432x288 with 1 Axes>"
      ]
     },
     "metadata": {
      "needs_background": "light"
     },
     "output_type": "display_data"
    }
   ],
   "source": [
    "counts = orders['days_since_prior_order'].value_counts()\n",
    "counts = counts.sort_index()\n",
    "\n",
    "counts.plot(kind='bar')\n",
    "plt.xlabel('Days since prior order')\n",
    "plt.ylabel('Number of orders')\n",
    "plt.title('Distribution of days since prior order')\n",
    "plt.show()\n"
   ]
  },
  {
   "cell_type": "markdown",
   "id": "0bc9a88a",
   "metadata": {},
   "source": [
    "<div style=\"background-color: #e6f7ff; border-left: 4px solid #9fd3f7; padding: 15px; border-radius: 5px; box-shadow: 2px 2px 2px #b8daff;\">\n",
    "    <h2 style=\"color: #31708f;\">Student's Comment</h2>\n",
    "    <p style=\"font-family: 'Helvetica Neue', Helvetica, Arial, sans-serif; font-size: 14px; color: #5d5d5d;\">\n",
    "Most people tend to wait 7 or 30 days before placing another order.\n",
    "    </p>\n",
    "</div>"
   ]
  },
  {
   "cell_type": "markdown",
   "id": "7f7226e2",
   "metadata": {},
   "source": [
    "<div class=\"alert alert-success\" style=\"border-radius: 15px; box-shadow: 4px 4px 4px; border: 1px solid \">\n",
    "<h2> Reviewer's comment✔️</h2>\n",
    "    \n",
    "    \n",
    "Exactly. \n",
    "</div>"
   ]
  },
  {
   "cell_type": "markdown",
   "id": "2d21f06f",
   "metadata": {},
   "source": [
    "# [B] Medium (must complete all to pass)"
   ]
  },
  {
   "cell_type": "markdown",
   "id": "ae00fda5",
   "metadata": {},
   "source": [
    "### [B1] Is there a difference in `'order_hour_of_day'` distributions on Wednesdays and Saturdays? Plot the histograms for both days and describe the differences that you see."
   ]
  },
  {
   "cell_type": "code",
   "execution_count": 77,
   "id": "0e26ec54",
   "metadata": {},
   "outputs": [
    {
     "data": {
      "image/png": "[encoded data removed]",
      "text/plain": [
       "<Figure size 432x288 with 1 Axes>"
      ]
     },
     "metadata": {
      "needs_background": "light"
     },
     "output_type": "display_data"
    }
   ],
   "source": [
    "wednesdays = orders[orders['order_dow'] == 2]\n",
    "saturdays = orders[orders['order_dow'] == 5]\n",
    "\n",
    "plt.hist(wednesdays['order_hour_of_day'], bins=24, alpha=0.5, label='Wednesdays')\n",
    "plt.hist(saturdays['order_hour_of_day'], bins=24, alpha=0.5, label='Saturdays')\n",
    "plt.xlabel('Hour of Day')\n",
    "plt.ylabel('Number of Orders')\n",
    "plt.title('Distribution of Orders by Hour of Day')\n",
    "plt.legend()\n",
    "plt.show()"
   ]
  },
  {
   "cell_type": "markdown",
   "id": "8c137a58",
   "metadata": {},
   "source": [
    "<div style=\"background-color: #e6f7ff; border-left: 4px solid #9fd3f7; padding: 15px; border-radius: 5px; box-shadow: 2px 2px 2px #b8daff;\">\n",
    "    <h2 style=\"color: #31708f;\">Student's Comment</h2>\n",
    "    <p style=\"font-family: 'Helvetica Neue', Helvetica, Arial, sans-serif; font-size: 14px; color: #5d5d5d;\">\n",
    "There are slightly more orders on Wednesday than on Saturdays\n",
    "    </p>\n",
    "</div>"
   ]
  },
  {
   "cell_type": "markdown",
   "id": "53c3462d",
   "metadata": {},
   "source": [
    "### [B2] What's the distribution for the number of orders per customer?"
   ]
  },
  {
   "cell_type": "code",
   "execution_count": 78,
   "id": "0d7462b5",
   "metadata": {},
   "outputs": [
    {
     "data": {
      "image/png": "[encoded data removed]",
      "text/plain": [
       "<Figure size 432x288 with 1 Axes>"
      ]
     },
     "metadata": {
      "needs_background": "light"
     },
     "output_type": "display_data"
    }
   ],
   "source": [
    "user_order_counts = orders.groupby('user_id').size()\n",
    "\n",
    "plt.hist(user_order_counts, bins=30)\n",
    "plt.xlabel('Number of Orders')\n",
    "plt.ylabel('Number of Customers')\n",
    "plt.title('Distribution of Orders per Customer')\n",
    "plt.show()\n"
   ]
  },
  {
   "cell_type": "markdown",
   "id": "5818c969",
   "metadata": {},
   "source": [
    "<div style=\"background-color: #e6f7ff; border-left: 4px solid #9fd3f7; padding: 15px; border-radius: 5px; box-shadow: 2px 2px 2px #b8daff;\">\n",
    "    <h2 style=\"color: #31708f;\">Student's Comment</h2>\n",
    "    <p style=\"font-family: 'Helvetica Neue', Helvetica, Arial, sans-serif; font-size: 14px; color: #5d5d5d;\">\n",
    "The chart above shows that Instacart may be struggling with customer retention. A small percentage of customers place 10 or more orders and essentially none make more than 20 orders. \n",
    "    </p>\n",
    "</div>"
   ]
  },
  {
   "cell_type": "markdown",
   "id": "af6522d6",
   "metadata": {},
   "source": [
    "<div class=\"alert alert-success\" style=\"border-radius: 15px; box-shadow: 4px 4px 4px; border: 1px solid \">\n",
    "<h2> Reviewer's comment ✔️</h2>\n",
    "    \n",
    "    \n",
    "I agree. Seems like most people usually have no more than 10 orders. \n",
    "    \n",
    "</div>"
   ]
  },
  {
   "cell_type": "markdown",
   "id": "33c6b297",
   "metadata": {},
   "source": [
    "### [B3] What are the top 20 popular products (display their id and name)?"
   ]
  },
  {
   "cell_type": "code",
   "execution_count": 79,
   "id": "851e131e",
   "metadata": {},
   "outputs": [
    {
     "name": "stdout",
     "output_type": "stream",
     "text": [
      "banana                      66050\n",
      "bag of organic bananas      53297\n",
      "organic strawberries        37039\n",
      "organic baby spinach        33971\n",
      "organic hass avocado        29773\n",
      "organic avocado             24689\n",
      "large lemon                 21495\n",
      "strawberries                20018\n",
      "limes                       19690\n",
      "organic whole milk          19600\n",
      "organic raspberries         19197\n",
      "organic yellow onion        15898\n",
      "organic garlic              15292\n",
      "organic zucchini            14584\n",
      "organic blueberries         13879\n",
      "cucumber kirby              13675\n",
      "organic fuji apple          12544\n",
      "organic lemon               12232\n",
      "apple honeycrisp organic    11993\n",
      "organic grape tomatoes      11781\n",
      "Name: product_name, dtype: int64\n"
     ]
    }
   ],
   "source": [
    "merged_df = pd.merge(order_products, products, on='product_id')\n",
    "product_counts = merged_df['product_name'].value_counts()\n",
    "top_20_products = product_counts.head(20)\n",
    "print(top_20_products)\n"
   ]
  },
  {
   "cell_type": "markdown",
   "id": "e25b9338",
   "metadata": {},
   "source": [
    "<div style=\"background-color: #e6f7ff; border-left: 4px solid #9fd3f7; padding: 15px; border-radius: 5px; box-shadow: 2px 2px 2px #b8daff;\">\n",
    "    <h2 style=\"color: #31708f;\">Student's Comment</h2>\n",
    "    <p style=\"font-family: 'Helvetica Neue', Helvetica, Arial, sans-serif; font-size: 14px; color: #5d5d5d;\">\n",
    "The chart above shows that Instacart may be struggling with customer retention. A small percentage of customers place 10 or more orders and essentially none make more than 20 orders. \n",
    "    </p>\n",
    "</div>"
   ]
  },
  {
   "cell_type": "markdown",
   "id": "3d0ba64e",
   "metadata": {},
   "source": [
    "<div class=\"alert alert-success\" style=\"border-radius: 15px; box-shadow: 4px 4px 4px; border: 1px solid \">\n",
    "<h2> Reviewer's comment ✔️</h2>\n",
    "    \n",
    "    \n",
    "Absolutely correct!     \n",
    "    \n",
    "</div>"
   ]
  },
  {
   "cell_type": "markdown",
   "id": "8f9dc670",
   "metadata": {},
   "source": [
    "# [C] Hard (must complete at least two to pass)"
   ]
  },
  {
   "cell_type": "markdown",
   "id": "b86855dc",
   "metadata": {},
   "source": [
    "### [C1] How many items do people typically buy in one order? What does the distribution look like?"
   ]
  },
  {
   "cell_type": "code",
   "execution_count": 80,
   "id": "0c04bb4c",
   "metadata": {},
   "outputs": [
    {
     "data": {
      "image/png": "[encoded data removed]",
      "text/plain": [
       "<Figure size 432x288 with 1 Axes>"
      ]
     },
     "metadata": {
      "needs_background": "light"
     },
     "output_type": "display_data"
    }
   ],
   "source": [
    "order_size = order_products.groupby('order_id')['product_id'].count()\n",
    "order_size_counts = order_size.value_counts().sort_index()\n",
    "\n",
    "plt.hist(order_size, bins=50)\n",
    "plt.xlabel('Number of Items')\n",
    "plt.ylabel('Number of Orders')\n",
    "plt.title('Distribution of Order Size')\n",
    "plt.show()"
   ]
  },
  {
   "cell_type": "markdown",
   "id": "d80469f8",
   "metadata": {},
   "source": [
    "### [C2] What are the top 20 items that are reordered most frequently (display their names and product IDs)?"
   ]
  },
  {
   "cell_type": "code",
   "execution_count": 81,
   "id": "ab8cad82",
   "metadata": {},
   "outputs": [
    {
     "name": "stdout",
     "output_type": "stream",
     "text": [
      "product_id  product_name            \n",
      "24852       banana                      55763\n",
      "13176       bag of organic bananas      44450\n",
      "21137       organic strawberries        28639\n",
      "21903       organic baby spinach        26233\n",
      "47209       organic hass avocado        23629\n",
      "47766       organic avocado             18743\n",
      "27845       organic whole milk          16251\n",
      "47626       large lemon                 15044\n",
      "27966       organic raspberries         14748\n",
      "16797       strawberries                13945\n",
      "26209       limes                       13327\n",
      "22935       organic yellow onion        11145\n",
      "24964       organic garlic              10411\n",
      "45007       organic zucchini            10076\n",
      "49683       cucumber kirby               9538\n",
      "28204       organic fuji apple           8989\n",
      "8277        apple honeycrisp organic     8836\n",
      "39275       organic blueberries          8799\n",
      "5876        organic lemon                8412\n",
      "49235       organic half & half          8389\n",
      "Name: reordered, dtype: int64\n"
     ]
    }
   ],
   "source": [
    "merged_df = pd.merge(order_products, products, on='product_id')\n",
    "reordered_products = merged_df[merged_df['reordered'] == 1]\n",
    "reordered_counts = reordered_products.groupby(['product_id', 'product_name'])['reordered'].count()\n",
    "top_20_reordered_products = reordered_counts.sort_values(ascending=False).head(20)\n",
    "print(top_20_reordered_products)"
   ]
  },
  {
   "cell_type": "markdown",
   "id": "d4579744",
   "metadata": {},
   "source": [
    "### [C3] For each product, what proportion of its orders are reorders?"
   ]
  },
  {
   "cell_type": "code",
   "execution_count": 82,
   "id": "79dc0b3a",
   "metadata": {},
   "outputs": [
    {
     "name": "stdout",
     "output_type": "stream",
     "text": [
      "product_id\n",
      "1        0.564286\n",
      "2        0.000000\n",
      "3        0.738095\n",
      "4        0.510204\n",
      "7        0.500000\n",
      "           ...   \n",
      "49690    0.800000\n",
      "49691    0.430556\n",
      "49692    0.416667\n",
      "49693    0.440000\n",
      "49694    0.333333\n",
      "Name: reordered, Length: 45573, dtype: float64\n"
     ]
    }
   ],
   "source": [
    "product_reorder_proportions = order_products.groupby('product_id')['reordered'].mean()\n",
    "print(product_reorder_proportions)"
   ]
  },
  {
   "cell_type": "markdown",
   "id": "bd9eb3f8",
   "metadata": {},
   "source": [
    "### [C4] For each customer, what proportion of their products ordered are reorders?"
   ]
  },
  {
   "cell_type": "code",
   "execution_count": 83,
   "id": "c34b906d",
   "metadata": {},
   "outputs": [
    {
     "name": "stdout",
     "output_type": "stream",
     "text": [
      "user_id\n",
      "2         0.038462\n",
      "4         0.000000\n",
      "5         0.666667\n",
      "6         0.000000\n",
      "7         0.928571\n",
      "            ...   \n",
      "206203    0.222222\n",
      "206206    0.714286\n",
      "206207    0.891304\n",
      "206208    0.696000\n",
      "206209    0.320000\n",
      "Name: reordered, Length: 149626, dtype: float64\n"
     ]
    }
   ],
   "source": [
    "df = order_products.merge(orders[['order_id', 'user_id']], on='order_id')\n",
    "customer_reorder_proportions = df.groupby('user_id')['reordered'].mean()\n",
    "\n",
    "print(customer_reorder_proportions)"
   ]
  },
  {
   "cell_type": "markdown",
   "id": "5f7e14b0",
   "metadata": {},
   "source": [
    "### [C5] What are the top 20 items that people put in their carts first? "
   ]
  },
  {
   "cell_type": "code",
   "execution_count": 84,
   "id": "373a269e",
   "metadata": {},
   "outputs": [
    {
     "data": {
      "text/plain": [
       "product_id  product_name               \n",
       "24852       banana                         15562\n",
       "13176       bag of organic bananas         11026\n",
       "27845       organic whole milk              4363\n",
       "21137       organic strawberries            3946\n",
       "47209       organic hass avocado            3390\n",
       "21903       organic baby spinach            3336\n",
       "47766       organic avocado                 3044\n",
       "19660       spring water                    2336\n",
       "16797       strawberries                    2308\n",
       "27966       organic raspberries             2024\n",
       "44632       sparkling water grapefruit      1914\n",
       "49235       organic half & half             1797\n",
       "47626       large lemon                     1737\n",
       "196         soda                            1733\n",
       "38689       organic reduced fat milk        1397\n",
       "26209       limes                           1370\n",
       "12341       hass avocados                   1340\n",
       "5785        organic reduced fat 2% milk     1310\n",
       "27086       half & half                     1309\n",
       "43352       raspberries                     1246\n",
       "Name: product_id, dtype: int64"
      ]
     },
     "execution_count": 84,
     "metadata": {},
     "output_type": "execute_result"
    }
   ],
   "source": [
    "df_merge = order_products.merge(products)\n",
    "add_cart = df_merge[df_merge['add_to_cart_order'] == 1]\n",
    "add_cart.groupby(['product_id', 'product_name'])['product_id'].count().sort_values(ascending=False).head(20)"
   ]
  },
  {
   "cell_type": "markdown",
   "id": "8dddaeb2",
   "metadata": {},
   "source": [
    "<div style=\"background-color: #e6f7ff; border-left: 4px solid #9fd3f7; padding: 15px; border-radius: 5px; box-shadow: 2px 2px 2px #b8daff;\">\n",
    "    <h2 style=\"color: #31708f;\">Student's Comment</h2>\n",
    "    <p style=\"font-family: 'Helvetica Neue', Helvetica, Arial, sans-serif; font-size: 14px; color: #5d5d5d;\">\n",
    "The data shows different purchasing trends for Instacart. It can be inferred that most people use Instacart at the beginning of the week and most reorders are 7 days after previous order. The data also shows that most customers use Instacart for less than 20 items. One possible improvement Instacart may consider is retaining customers. Section B2 suggests Instacart is dependent on signing up new customers since very few make 10 or more orders.  \n",
    "    </p>\n",
    "</div>"
   ]
  },
  {
   "cell_type": "markdown",
   "id": "06de8f36",
   "metadata": {},
   "source": [
    "<div style=\"background-color: #e6f7ff; border-left: 4px solid #9fd3f7; padding: 15px; border-radius: 5px; box-shadow: 2px 2px 2px #b8daff;\">\n",
    "    <h2 style=\"color: #31708f;\">Conclusion</h2>\n",
    "    <h3 style=\"color: #31708f;\">Key Insights</h3>\n",
    "    <ul style=\"font-family: 'Helvetica Neue', Helvetica, Arial, sans-serif; font-size: 14px; color: #5d5d5d;\">\n",
    "        <li>The most common shopping hours are between 10 AM and 3 PM, indicating peak times for placing orders.</li>\n",
    "        <li>The shopping activity varies throughout the week, with the beginning and the weekend being the busiest.</li>\n",
    "        <li>Products like bananas and organic avocados are among the top reordered items, suggesting a trend towards healthier food choices among Instacart users.</li>\n",
    "    </ul>\n",
    "    <h3 style=\"color: #31708f;\">Implications for Instacart</h3>\n",
    "    <ul style=\"font-family: 'Helvetica Neue', Helvetica, Arial, sans-serif; font-size: 14px; color: #5d5d5d;\">\n",
    "        <li>Instacart could consider optimizing their delivery schedules around peak order times to improve efficiency.</li>\n",
    "        <li>Marketing strategies could be tailored to push certain products that are more likely to be reordered, enhancing customer retention.</li>\n",
    "        <li>Understanding which days have higher order volumes can help Instacart manage inventory and staffing more effectively.</li>\n",
    "    </ul>\n",
    "    <h3 style=\"color: #31708f;\">Final Thoughts</h3>\n",
    "    <p style=\"font-family: 'Helvetica Neue', Helvetica, Arial, sans-serif; font-size: 14px; color: #5d5d5d;\">\n",
    "        This analysis provides valuable insights into customer behavior on the Instacart platform. By addressing data quality issues and conducting a thorough exploratory data analysis, we've uncovered patterns that could help Instacart enhance their service and capitalize on trends to drive growth.\n",
    "    </p>\n",
    "</div>\n",
    "\n"
   ]
  },
  {
   "cell_type": "markdown",
   "id": "e8aaff34",
   "metadata": {},
   "source": [
    "<div class=\"alert alert-success\" style=\"border-radius: 15px; box-shadow: 4px 4px 4px; border: 1px solid \">\n",
    "<h2> Reviewer's comment ✔️</h2>\n",
    "    \n",
    "\n",
    "Great!    \n",
    "    \n",
    "</div>"
   ]
  },
  {
   "cell_type": "code",
   "execution_count": null,
   "id": "fab384d5",
   "metadata": {},
   "outputs": [],
   "source": []
  }
 ],
 "metadata": {
  "kernelspec": {
   "display_name": "Python 3 (ipykernel)",
   "language": "python",
   "name": "python3"
  },
  "language_info": {
   "codemirror_mode": {
    "name": "ipython",
    "version": 3
   },
   "file_extension": ".py",
   "mimetype": "text/x-python",
   "name": "python",
   "nbconvert_exporter": "python",
   "pygments_lexer": "ipython3",
   "version": "3.9.5"
  },
  "toc": {
   "base_numbering": 1,
   "nav_menu": {},
   "number_sections": true,
   "sideBar": true,
   "skip_h1_title": true,
   "title_cell": "Table of Contents",
   "title_sidebar": "Contents",
   "toc_cell": false,
   "toc_position": {},
   "toc_section_display": true,
   "toc_window_display": false
  }
 },
 "nbformat": 4,
 "nbformat_minor": 5
}
