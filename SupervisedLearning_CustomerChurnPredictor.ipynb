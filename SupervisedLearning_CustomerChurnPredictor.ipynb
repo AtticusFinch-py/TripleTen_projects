{
 "cells": [
  {
   "cell_type": "markdown",
   "id": "a7e00eea",
   "metadata": {},
   "source": [
    "<div style=\"background-color: #ADD8E6; padding: 20px; border-radius: 10px; box-shadow: 2px 2px 10px grey;\">\n",
    "\n",
    "#### Project Introduction: Predicting Customer Churn for Beta Bank\n",
    "\n",
    "**Project Background:**  \n",
    "Beta Bank is experiencing a steady loss of customers, and the management has recognized that retaining existing customers is more cost-effective than acquiring new ones. The challenge is to predict the likelihood of a customer leaving the bank, using data on clients' past behavior and contract termination history.\n",
    "\n",
    "**Objective:**  \n",
    "The aim is to build a predictive model that can accurately determine the probability of a customer leaving the bank. The primary metric for model performance is the F1 score, with a project requirement of achieving a minimum score of 0.59. Additionally, the model's AUC-ROC metric will also be evaluated to understand the trade-off between sensitivity and specificity.\n",
    "\n",
    "**Data Overview:**  \n",
    "The dataset (`Churn.csv`) provides comprehensive information on customers, including demographics, account details, and banking behavior. Key features include Credit Score, Geography, Gender, Age, Tenure, Account Balance, Number of Products, Credit Card Ownership, Customer Activity, and Estimated Salary.\n",
    "\n",
    "**Methodology:**\n",
    "\n",
    "1. **Data Preparation:**  \n",
    "   Detailed preprocessing of the data includes handling missing values, encoding categorical variables, and feature scaling. The preprocessing steps will be thoroughly explained.\n",
    "\n",
    "2. **Class Balance Analysis:**  \n",
    "   Investigate the balance of the target classes (customer churn). Initially, models will be trained without addressing class imbalance to establish a baseline.\n",
    "\n",
    "3. **Model Improvement:**  \n",
    "   Implement at least two techniques to manage class imbalance, such as resampling methods or adjusting class weights. Different models will be trained on the adjusted data, and their performance will be compared to select the best model.\n",
    "\n",
    "4. **Model Evaluation:**  \n",
    "   Conduct final testing to assess the chosen model's effectiveness, focusing on the F1 score and AUC-ROC metrics.\n",
    "\n",
    "**Significance:**  \n",
    "This project not only serves as an application of machine learning in solving a real-world business problem but also demonstrates proficiency in handling imbalanced datasets, a common challenge in predictive modeling. The outcome will assist Beta Bank in implementing strategies to improve customer retention.\n",
    "\n",
    "</div>\n"
   ]
  },
  {
   "cell_type": "code",
   "execution_count": 11,
   "id": "52cdaff9",
   "metadata": {},
   "outputs": [],
   "source": [
    "# Import libraries\n",
    "import pandas as pd\n",
    "import numpy as np\n",
    "import matplotlib.pyplot as plt\n",
    "\n",
    "from sklearn.model_selection import train_test_split\n",
    "from sklearn.preprocessing import StandardScaler\n",
    "\n",
    "from sklearn.tree import DecisionTreeClassifier\n",
    "from sklearn.ensemble import RandomForestClassifier\n",
    "from sklearn.linear_model import LogisticRegression\n",
    "\n",
    "from sklearn.metrics import accuracy_score, f1_score, precision_score, recall_score, precision_recall_curve, roc_curve, roc_auc_score\n",
    "from sklearn.utils import shuffle"
   ]
  },
  {
   "cell_type": "code",
   "execution_count": 12,
   "id": "e2be1599",
   "metadata": {},
   "outputs": [
    {
     "data": {
      "text/html": [
       "<div>\n",
       "<style scoped>\n",
       "    .dataframe tbody tr th:only-of-type {\n",
       "        vertical-align: middle;\n",
       "    }\n",
       "\n",
       "    .dataframe tbody tr th {\n",
       "        vertical-align: top;\n",
       "    }\n",
       "\n",
       "    .dataframe thead th {\n",
       "        text-align: right;\n",
       "    }\n",
       "</style>\n",
       "<table border=\"1\" class=\"dataframe\">\n",
       "  <thead>\n",
       "    <tr style=\"text-align: right;\">\n",
       "      <th></th>\n",
       "      <th>RowNumber</th>\n",
       "      <th>CustomerId</th>\n",
       "      <th>Surname</th>\n",
       "      <th>CreditScore</th>\n",
       "      <th>Geography</th>\n",
       "      <th>Gender</th>\n",
       "      <th>Age</th>\n",
       "      <th>Tenure</th>\n",
       "      <th>Balance</th>\n",
       "      <th>NumOfProducts</th>\n",
       "      <th>HasCrCard</th>\n",
       "      <th>IsActiveMember</th>\n",
       "      <th>EstimatedSalary</th>\n",
       "      <th>Exited</th>\n",
       "    </tr>\n",
       "  </thead>\n",
       "  <tbody>\n",
       "    <tr>\n",
       "      <th>0</th>\n",
       "      <td>1</td>\n",
       "      <td>15634602</td>\n",
       "      <td>Hargrave</td>\n",
       "      <td>619</td>\n",
       "      <td>France</td>\n",
       "      <td>Female</td>\n",
       "      <td>42</td>\n",
       "      <td>2.0</td>\n",
       "      <td>0.00</td>\n",
       "      <td>1</td>\n",
       "      <td>1</td>\n",
       "      <td>1</td>\n",
       "      <td>101348.88</td>\n",
       "      <td>1</td>\n",
       "    </tr>\n",
       "    <tr>\n",
       "      <th>1</th>\n",
       "      <td>2</td>\n",
       "      <td>15647311</td>\n",
       "      <td>Hill</td>\n",
       "      <td>608</td>\n",
       "      <td>Spain</td>\n",
       "      <td>Female</td>\n",
       "      <td>41</td>\n",
       "      <td>1.0</td>\n",
       "      <td>83807.86</td>\n",
       "      <td>1</td>\n",
       "      <td>0</td>\n",
       "      <td>1</td>\n",
       "      <td>112542.58</td>\n",
       "      <td>0</td>\n",
       "    </tr>\n",
       "    <tr>\n",
       "      <th>2</th>\n",
       "      <td>3</td>\n",
       "      <td>15619304</td>\n",
       "      <td>Onio</td>\n",
       "      <td>502</td>\n",
       "      <td>France</td>\n",
       "      <td>Female</td>\n",
       "      <td>42</td>\n",
       "      <td>8.0</td>\n",
       "      <td>159660.80</td>\n",
       "      <td>3</td>\n",
       "      <td>1</td>\n",
       "      <td>0</td>\n",
       "      <td>113931.57</td>\n",
       "      <td>1</td>\n",
       "    </tr>\n",
       "    <tr>\n",
       "      <th>3</th>\n",
       "      <td>4</td>\n",
       "      <td>15701354</td>\n",
       "      <td>Boni</td>\n",
       "      <td>699</td>\n",
       "      <td>France</td>\n",
       "      <td>Female</td>\n",
       "      <td>39</td>\n",
       "      <td>1.0</td>\n",
       "      <td>0.00</td>\n",
       "      <td>2</td>\n",
       "      <td>0</td>\n",
       "      <td>0</td>\n",
       "      <td>93826.63</td>\n",
       "      <td>0</td>\n",
       "    </tr>\n",
       "    <tr>\n",
       "      <th>4</th>\n",
       "      <td>5</td>\n",
       "      <td>15737888</td>\n",
       "      <td>Mitchell</td>\n",
       "      <td>850</td>\n",
       "      <td>Spain</td>\n",
       "      <td>Female</td>\n",
       "      <td>43</td>\n",
       "      <td>2.0</td>\n",
       "      <td>125510.82</td>\n",
       "      <td>1</td>\n",
       "      <td>1</td>\n",
       "      <td>1</td>\n",
       "      <td>79084.10</td>\n",
       "      <td>0</td>\n",
       "    </tr>\n",
       "    <tr>\n",
       "      <th>5</th>\n",
       "      <td>6</td>\n",
       "      <td>15574012</td>\n",
       "      <td>Chu</td>\n",
       "      <td>645</td>\n",
       "      <td>Spain</td>\n",
       "      <td>Male</td>\n",
       "      <td>44</td>\n",
       "      <td>8.0</td>\n",
       "      <td>113755.78</td>\n",
       "      <td>2</td>\n",
       "      <td>1</td>\n",
       "      <td>0</td>\n",
       "      <td>149756.71</td>\n",
       "      <td>1</td>\n",
       "    </tr>\n",
       "    <tr>\n",
       "      <th>6</th>\n",
       "      <td>7</td>\n",
       "      <td>15592531</td>\n",
       "      <td>Bartlett</td>\n",
       "      <td>822</td>\n",
       "      <td>France</td>\n",
       "      <td>Male</td>\n",
       "      <td>50</td>\n",
       "      <td>7.0</td>\n",
       "      <td>0.00</td>\n",
       "      <td>2</td>\n",
       "      <td>1</td>\n",
       "      <td>1</td>\n",
       "      <td>10062.80</td>\n",
       "      <td>0</td>\n",
       "    </tr>\n",
       "    <tr>\n",
       "      <th>7</th>\n",
       "      <td>8</td>\n",
       "      <td>15656148</td>\n",
       "      <td>Obinna</td>\n",
       "      <td>376</td>\n",
       "      <td>Germany</td>\n",
       "      <td>Female</td>\n",
       "      <td>29</td>\n",
       "      <td>4.0</td>\n",
       "      <td>115046.74</td>\n",
       "      <td>4</td>\n",
       "      <td>1</td>\n",
       "      <td>0</td>\n",
       "      <td>119346.88</td>\n",
       "      <td>1</td>\n",
       "    </tr>\n",
       "    <tr>\n",
       "      <th>8</th>\n",
       "      <td>9</td>\n",
       "      <td>15792365</td>\n",
       "      <td>He</td>\n",
       "      <td>501</td>\n",
       "      <td>France</td>\n",
       "      <td>Male</td>\n",
       "      <td>44</td>\n",
       "      <td>4.0</td>\n",
       "      <td>142051.07</td>\n",
       "      <td>2</td>\n",
       "      <td>0</td>\n",
       "      <td>1</td>\n",
       "      <td>74940.50</td>\n",
       "      <td>0</td>\n",
       "    </tr>\n",
       "    <tr>\n",
       "      <th>9</th>\n",
       "      <td>10</td>\n",
       "      <td>15592389</td>\n",
       "      <td>H?</td>\n",
       "      <td>684</td>\n",
       "      <td>France</td>\n",
       "      <td>Male</td>\n",
       "      <td>27</td>\n",
       "      <td>2.0</td>\n",
       "      <td>134603.88</td>\n",
       "      <td>1</td>\n",
       "      <td>1</td>\n",
       "      <td>1</td>\n",
       "      <td>71725.73</td>\n",
       "      <td>0</td>\n",
       "    </tr>\n",
       "  </tbody>\n",
       "</table>\n",
       "</div>"
      ],
      "text/plain": [
       "   RowNumber  CustomerId   Surname  CreditScore Geography  Gender  Age  \\\n",
       "0          1    15634602  Hargrave          619    France  Female   42   \n",
       "1          2    15647311      Hill          608     Spain  Female   41   \n",
       "2          3    15619304      Onio          502    France  Female   42   \n",
       "3          4    15701354      Boni          699    France  Female   39   \n",
       "4          5    15737888  Mitchell          850     Spain  Female   43   \n",
       "5          6    15574012       Chu          645     Spain    Male   44   \n",
       "6          7    15592531  Bartlett          822    France    Male   50   \n",
       "7          8    15656148    Obinna          376   Germany  Female   29   \n",
       "8          9    15792365        He          501    France    Male   44   \n",
       "9         10    15592389        H?          684    France    Male   27   \n",
       "\n",
       "   Tenure    Balance  NumOfProducts  HasCrCard  IsActiveMember  \\\n",
       "0     2.0       0.00              1          1               1   \n",
       "1     1.0   83807.86              1          0               1   \n",
       "2     8.0  159660.80              3          1               0   \n",
       "3     1.0       0.00              2          0               0   \n",
       "4     2.0  125510.82              1          1               1   \n",
       "5     8.0  113755.78              2          1               0   \n",
       "6     7.0       0.00              2          1               1   \n",
       "7     4.0  115046.74              4          1               0   \n",
       "8     4.0  142051.07              2          0               1   \n",
       "9     2.0  134603.88              1          1               1   \n",
       "\n",
       "   EstimatedSalary  Exited  \n",
       "0        101348.88       1  \n",
       "1        112542.58       0  \n",
       "2        113931.57       1  \n",
       "3         93826.63       0  \n",
       "4         79084.10       0  \n",
       "5        149756.71       1  \n",
       "6         10062.80       0  \n",
       "7        119346.88       1  \n",
       "8         74940.50       0  \n",
       "9         71725.73       0  "
      ]
     },
     "metadata": {},
     "output_type": "display_data"
    },
    {
     "name": "stdout",
     "output_type": "stream",
     "text": [
      "----------------------------------------\n",
      "<class 'pandas.core.frame.DataFrame'>\n",
      "RangeIndex: 10000 entries, 0 to 9999\n",
      "Data columns (total 14 columns):\n",
      " #   Column           Non-Null Count  Dtype  \n",
      "---  ------           --------------  -----  \n",
      " 0   RowNumber        10000 non-null  int64  \n",
      " 1   CustomerId       10000 non-null  int64  \n",
      " 2   Surname          10000 non-null  object \n",
      " 3   CreditScore      10000 non-null  int64  \n",
      " 4   Geography        10000 non-null  object \n",
      " 5   Gender           10000 non-null  object \n",
      " 6   Age              10000 non-null  int64  \n",
      " 7   Tenure           9091 non-null   float64\n",
      " 8   Balance          10000 non-null  float64\n",
      " 9   NumOfProducts    10000 non-null  int64  \n",
      " 10  HasCrCard        10000 non-null  int64  \n",
      " 11  IsActiveMember   10000 non-null  int64  \n",
      " 12  EstimatedSalary  10000 non-null  float64\n",
      " 13  Exited           10000 non-null  int64  \n",
      "dtypes: float64(3), int64(8), object(3)\n",
      "memory usage: 1.1+ MB\n"
     ]
    },
    {
     "data": {
      "text/plain": [
       "None"
      ]
     },
     "metadata": {},
     "output_type": "display_data"
    },
    {
     "name": "stdout",
     "output_type": "stream",
     "text": [
      "----------------------------------------\n"
     ]
    },
    {
     "data": {
      "text/plain": [
       "(10000, 14)"
      ]
     },
     "metadata": {},
     "output_type": "display_data"
    }
   ],
   "source": [
    "# Download and prepare the data\n",
    "\n",
    "data = pd.read_csv('/datasets/Churn.csv')\n",
    "display(data.head(10))\n",
    "print('-'*40)\n",
    "display(data.info())\n",
    "print('-'*40)\n",
    "display(data.shape)"
   ]
  },
  {
   "cell_type": "code",
   "execution_count": 15,
   "id": "79a6c15d",
   "metadata": {},
   "outputs": [
    {
     "data": {
      "text/plain": [
       "(10000, 11)"
      ]
     },
     "execution_count": 15,
     "metadata": {},
     "output_type": "execute_result"
    }
   ],
   "source": [
    "# remove unnecessary columns\n",
    "data = data.drop(['RowNumber', 'CustomerId', 'Surname'], axis=1)\n",
    "\n",
    "# drop rows with missing Tenure values\n",
    "data['Tenure'] = data['Tenure'].fillna(value=data['Tenure'].median())\n",
    "\n",
    "data.shape"
   ]
  },
  {
   "cell_type": "markdown",
   "id": "609f6757",
   "metadata": {},
   "source": [
    "<div class=\"alert alert-success\">\n",
    "<b>Reviewer's comment</b>\n",
    "\n",
    "Missing values were dealt with reasonably\n",
    "\n",
    "</div>"
   ]
  },
  {
   "cell_type": "code",
   "execution_count": 16,
   "id": "7d2ab568",
   "metadata": {},
   "outputs": [
    {
     "name": "stdout",
     "output_type": "stream",
     "text": [
      "(6000, 11)\n",
      "(2000, 11)\n",
      "(2000, 11)\n"
     ]
    }
   ],
   "source": [
    "# Step2: Examine the balance of classes. Train the model without taking into account the imbalance. \n",
    "# Briefly describe your findings.\n",
    "\n",
    "# Perform categorical feature encoding \n",
    "data_ohe = pd.get_dummies(data, drop_first=True)\n",
    "target = data_ohe['Exited']\n",
    "features = data_ohe.drop('Exited', axis=1)\n",
    "\n",
    "# Perform splitting data\n",
    "features_train, features_valid_test, target_train, target_valid_test = train_test_split(features, \n",
    "                                                                                        target, \n",
    "                                                                                        test_size=0.4, \n",
    "                                                                                        random_state=42)\n",
    "\n",
    "features_valid, features_test, target_valid, target_test = train_test_split(features_valid_test, \n",
    "                                                                            target_valid_test, \n",
    "                                                                            test_size=0.5,\n",
    "                                                                            random_state=42)\n",
    "\n",
    "# print the shape of each feature\n",
    "print(features_train.shape)\n",
    "print(features_valid.shape)\n",
    "print(features_test.shape)"
   ]
  },
  {
   "cell_type": "markdown",
   "id": "9edfe8f1",
   "metadata": {},
   "source": [
    "<div class=\"alert alert-success\">\n",
    "<b>Reviewer's comment</b>\n",
    "\n",
    "Categorical features were encoded, the data was split into train, validation and test sets\n",
    "\n",
    "</div>"
   ]
  },
  {
   "cell_type": "code",
   "execution_count": 17,
   "id": "e7cff75a",
   "metadata": {},
   "outputs": [
    {
     "data": {
      "text/plain": [
       "solver         lbfgs\n",
       "acc            0.801\n",
       "f1_score    0.111607\n",
       "Name: 0, dtype: object"
      ]
     },
     "execution_count": 17,
     "metadata": {},
     "output_type": "execute_result"
    }
   ],
   "source": [
    "# Logistic Regression\n",
    "\n",
    "solver_list = ['lbfgs', 'liblinear']\n",
    "logistic_regression_cols = ['solver', 'acc', 'f1_score']\n",
    "logistic_regression_list = []\n",
    "\n",
    "for solver_item in solver_list:\n",
    "    model_lr = LogisticRegression(random_state=42, solver=solver_item)\n",
    "    model_lr.fit(features_train, target_train)\n",
    "    predicted_valid = model_lr.predict(features_valid)\n",
    "    logistic_regression_list.append([solver_item,\n",
    "                              accuracy_score(target_valid, predicted_valid),\n",
    "                              f1_score(target_valid, predicted_valid)\n",
    "                              ])\n",
    "\n",
    "logistic_regression = pd.DataFrame(logistic_regression_list, columns=logistic_regression_cols)\n",
    "max_f1_score_row = logistic_regression.loc[logistic_regression['f1_score'].idxmax()]\n",
    "max_f1_score_row"
   ]
  },
  {
   "cell_type": "code",
   "execution_count": 18,
   "id": "f0cf81bf",
   "metadata": {},
   "outputs": [
    {
     "data": {
      "text/plain": [
       "solver          liblinear\n",
       "class_weight     balanced\n",
       "f1_score         0.458794\n",
       "Name: 2, dtype: object"
      ]
     },
     "execution_count": 18,
     "metadata": {},
     "output_type": "execute_result"
    }
   ],
   "source": [
    "# Class Weight adjustment\n",
    "\n",
    "logistic_regression_cols = ['solver', 'class_weight', 'f1_score']\n",
    "logistic_regression_list = []\n",
    "\n",
    "for solver_item in solver_list:\n",
    "    for class_weight in ['balanced', None]:\n",
    "        model_lr = LogisticRegression(random_state=42, solver=solver_item, class_weight=class_weight)\n",
    "        model_lr.fit(features_train, target_train)\n",
    "        predicted_valid = model_lr.predict(features_valid)\n",
    "        logistic_regression_list.append([solver_item,\n",
    "                                   class_weight,\n",
    "                                   f1_score(target_valid, predicted_valid)\n",
    "                                  ])\n",
    "    \n",
    "logistic_regression = pd.DataFrame(logistic_regression_list, columns=logistic_regression_cols)\n",
    "\n",
    "max_f1_score_row = logistic_regression.loc[logistic_regression['f1_score'].idxmax()]\n",
    "max_f1_score_row"
   ]
  },
  {
   "cell_type": "markdown",
   "id": "4d25f968",
   "metadata": {},
   "source": [
    "<div class=\"alert alert-success\">\n",
    "<b>Reviewer's comment</b>\n",
    "\n",
    "Class weights were applied successfully\n",
    "\n",
    "</div>"
   ]
  },
  {
   "cell_type": "code",
   "execution_count": 19,
   "id": "21e728b0",
   "metadata": {},
   "outputs": [
    {
     "name": "stdout",
     "output_type": "stream",
     "text": [
      "(4773, 11)\n",
      "(1227, 11)\n",
      "(4773,)\n",
      "(1227,)\n"
     ]
    }
   ],
   "source": [
    "# Upsampling\n",
    "\n",
    "features_zeros = features_train[target_train == 0]\n",
    "features_ones = features_train[target_train == 1]\n",
    "target_zeros = target_train[target_train == 0]\n",
    "target_ones = target_train[target_train == 1]\n",
    "\n",
    "print(features_zeros.shape)\n",
    "print(features_ones.shape)\n",
    "print(target_zeros.shape)\n",
    "print(target_ones.shape)"
   ]
  },
  {
   "cell_type": "code",
   "execution_count": 20,
   "id": "3bd64b86",
   "metadata": {},
   "outputs": [
    {
     "data": {
      "text/plain": [
       "solver         lbfgs\n",
       "repeat             4\n",
       "f1_score    0.399038\n",
       "Name: 3, dtype: object"
      ]
     },
     "execution_count": 20,
     "metadata": {},
     "output_type": "execute_result"
    }
   ],
   "source": [
    "logistic_regression_cols = ['solver', 'repeat', 'f1_score']\n",
    "logistic_regression_list = []\n",
    "\n",
    "for solver_item in solver_list:\n",
    "    for repeat in range(1, 5):\n",
    "        features_upsampled = pd.concat([features_zeros] + [features_ones] * repeat)\n",
    "        target_upsampled = pd.concat([target_zeros] + [target_ones] * repeat)\n",
    "        features_upsampled, target_upsampled = shuffle(features_upsampled,\n",
    "                                                       target_upsampled, \n",
    "                                                       random_state=42)\n",
    "        model_lr = LogisticRegression(random_state=42, solver=solver_item)\n",
    "        model_lr.fit(features_upsampled, target_upsampled)\n",
    "        predicted_valid = model_lr.predict(features_valid)\n",
    "        logistic_regression_list.append([solver_item,\n",
    "                                   repeat,\n",
    "                                   f1_score(target_valid, predicted_valid)\n",
    "                                  ])\n",
    "        \n",
    "logistic_regression = pd.DataFrame(logistic_regression_list, columns=logistic_regression_cols)\n",
    "\n",
    "max_f1_score_row = logistic_regression.loc[logistic_regression['f1_score'].idxmax()]\n",
    "max_f1_score_row"
   ]
  },
  {
   "cell_type": "markdown",
   "id": "5d56ef79",
   "metadata": {},
   "source": [
    "<div class=\"alert alert-success\">\n",
    "<b>Reviewer's comment</b>\n",
    "\n",
    "Upsampling was correctly applied only to the train set\n",
    "\n",
    "</div>"
   ]
  },
  {
   "cell_type": "code",
   "execution_count": 21,
   "id": "9b75ffbf",
   "metadata": {},
   "outputs": [
    {
     "data": {
      "text/plain": [
       "solver         lbfgs\n",
       "fraction        0.25\n",
       "f1_score    0.399361\n",
       "Name: 3, dtype: object"
      ]
     },
     "execution_count": 21,
     "metadata": {},
     "output_type": "execute_result"
    }
   ],
   "source": [
    "# Downsampling\n",
    "\n",
    "logistic_regression_cols = ['solver', 'fraction', 'f1_score']\n",
    "logistic_regression_list = []\n",
    "\n",
    "for solver_item in solver_list:\n",
    "    for fraction in  np.arange(0.1, 1, 0.05):\n",
    "        features_downsampled = pd.concat([features_zeros.sample(frac=fraction, random_state=42)] + [features_ones])\n",
    "        target_downsampled = pd.concat([target_zeros.sample(frac=fraction, random_state=42)] + [target_ones])\n",
    "        features_downsampled, target_downsampled = shuffle(features_downsampled, \n",
    "                                                           target_downsampled, \n",
    "                                                           random_state=42)\n",
    "        model_lr = LogisticRegression(random_state=42, solver=solver_item)\n",
    "        model_lr.fit(features_downsampled, target_downsampled)\n",
    "        predicted_valid = model_lr.predict(features_valid)\n",
    "        logistic_regression_list.append([solver_item,\n",
    "                                         fraction,\n",
    "                                         f1_score(target_valid, predicted_valid)\n",
    "                                        ])\n",
    "        \n",
    "logistic_regression = pd.DataFrame(logistic_regression_list, columns=logistic_regression_cols)\n",
    "\n",
    "max_f1_score_row = logistic_regression.loc[logistic_regression['f1_score'].idxmax()]\n",
    "max_f1_score_row"
   ]
  },
  {
   "cell_type": "markdown",
   "id": "3f00814c",
   "metadata": {},
   "source": [
    "<div class=\"alert alert-success\">\n",
    "<b>Reviewer's comment</b>\n",
    "\n",
    "Downsampling was applied only to the train set\n",
    "\n",
    "</div>"
   ]
  },
  {
   "cell_type": "code",
   "execution_count": 22,
   "id": "f7b206c5",
   "metadata": {},
   "outputs": [
    {
     "data": {
      "text/plain": [
       "solver         lbfgs\n",
       "threshold        0.2\n",
       "f1_score     0.36654\n",
       "Name: 4, dtype: object"
      ]
     },
     "execution_count": 22,
     "metadata": {},
     "output_type": "execute_result"
    }
   ],
   "source": [
    "# Threshold Adjustment\n",
    "\n",
    "logistic_regression_cols = ['solver', 'threshold', 'f1_score']\n",
    "logistic_regression_list = []\n",
    "\n",
    "for solver_item in solver_list:\n",
    "    for threshold in  np.arange(0, 1, 0.05):\n",
    "        model_lr = LogisticRegression(random_state=42, solver=solver_item)\n",
    "        model_lr.fit(features_train, target_train)\n",
    "        probabilities_valid = model_lr.predict_proba(features_valid)\n",
    "        probabilities_one_valid = probabilities_valid[:, 1]\n",
    "        predicted_valid = probabilities_one_valid > threshold\n",
    "        logistic_regression_list.append([solver_item,\n",
    "                                   threshold,\n",
    "                                   f1_score(target_valid, predicted_valid)\n",
    "                                  ])\n",
    "        \n",
    "logistic_regression = pd.DataFrame(logistic_regression_list, columns=logistic_regression_cols)\n",
    "\n",
    "max_f1_score_row = logistic_regression.loc[logistic_regression['f1_score'].idxmax()]\n",
    "max_f1_score_row"
   ]
  },
  {
   "cell_type": "markdown",
   "id": "9a1d1f3e",
   "metadata": {},
   "source": [
    "<div style=\"background-color: #ADD8E6; padding: 20px; border-radius: 10px; box-shadow: 2px 2px 10px grey;\">\n",
    "<h2> Student's comment</h2>\n",
    "\n",
    "After exploring multiple methods to enhance the performance of our logistic regression model, including adjusting hyperparameters and addressing class imbalance, we were unable to attain our desired F1 score threshold. Despite attempting various techniques such as solver adjustment, class weights, upsampling/downsampling, and threshold tuning, none of these methods could achieve an F1 score of 0.59 or higher.\n",
    "Considering the limited success of individual adjustments, combining them is unlikely to yield a significant improvement. Therefore, we need to explore alternative models that may better address the class imbalance issue and potentially produce superior results. Our next step involves constructing a decision tree model and evaluating its performance in addressing the challenges faced.\n",
    "    \n",
    "</div>"
   ]
  },
  {
   "cell_type": "markdown",
   "id": "72212ea5",
   "metadata": {},
   "source": [
    "<div class=\"alert alert-success\">\n",
    "<b>Reviewer's comment</b>\n",
    "\n",
    "Very good!\n",
    "\n",
    "</div>"
   ]
  },
  {
   "cell_type": "code",
   "execution_count": 23,
   "id": "87b3aee1",
   "metadata": {},
   "outputs": [
    {
     "data": {
      "text/plain": [
       "depth       6.000000\n",
       "acc         0.854000\n",
       "f1_score    0.522876\n",
       "Name: 5, dtype: float64"
      ]
     },
     "execution_count": 23,
     "metadata": {},
     "output_type": "execute_result"
    }
   ],
   "source": [
    "# Decision Tree\n",
    "\n",
    "decision_tree_cols = ['depth', 'acc', 'f1_score']\n",
    "decision_tree_list = []\n",
    "\n",
    "for depth in range(1, 12):\n",
    "    model_dt = DecisionTreeClassifier(max_depth=depth, random_state=42)\n",
    "    model_dt.fit(features_train, target_train)\n",
    "    predicted_valid = model_dt.predict(features_valid)\n",
    "    decision_tree_list.append([depth,\n",
    "                               accuracy_score(target_valid, predicted_valid),\n",
    "                               f1_score(target_valid, predicted_valid)\n",
    "                              ])\n",
    "    \n",
    "decision_tree = pd.DataFrame(decision_tree_list, columns=decision_tree_cols)\n",
    "\n",
    "max_f1_score_row = decision_tree.loc[decision_tree['f1_score'].idxmax()]\n",
    "max_f1_score_row"
   ]
  },
  {
   "cell_type": "code",
   "execution_count": 24,
   "id": "51ffe118",
   "metadata": {},
   "outputs": [
    {
     "data": {
      "text/plain": [
       "depth                  7\n",
       "class_weight    balanced\n",
       "f1_score        0.552339\n",
       "Name: 12, dtype: object"
      ]
     },
     "execution_count": 24,
     "metadata": {},
     "output_type": "execute_result"
    }
   ],
   "source": [
    "# Class Weight adjustment\n",
    "\n",
    "decision_tree_cols = ['depth','class_weight','f1_score']\n",
    "decision_tree_list = []\n",
    "\n",
    "for depth in range(1, 12):\n",
    "    for class_weight in ['balanced', None]:\n",
    "        model_dt = DecisionTreeClassifier(max_depth=depth, class_weight=class_weight,  random_state=42)\n",
    "        model_dt.fit(features_train, target_train)\n",
    "        predicted_valid = model_dt.predict(features_valid)\n",
    "        decision_tree_list.append([depth,\n",
    "                                   class_weight,\n",
    "                                   f1_score(target_valid, predicted_valid)\n",
    "                                  ])\n",
    "    \n",
    "decision_tree = pd.DataFrame(decision_tree_list, columns=decision_tree_cols)\n",
    "\n",
    "max_f1_score_row = decision_tree.loc[decision_tree['f1_score'].idxmax()]\n",
    "max_f1_score_row"
   ]
  },
  {
   "cell_type": "code",
   "execution_count": 25,
   "id": "a01b16d9",
   "metadata": {},
   "outputs": [
    {
     "data": {
      "text/plain": [
       "depth       7.000000\n",
       "repeat      2.000000\n",
       "f1_score    0.554945\n",
       "Name: 25, dtype: float64"
      ]
     },
     "execution_count": 25,
     "metadata": {},
     "output_type": "execute_result"
    }
   ],
   "source": [
    "# Upsampling\n",
    "\n",
    "decision_tree_cols = ['depth','repeat','f1_score']\n",
    "decision_tree_list = []\n",
    "\n",
    "for depth in range(1,12):\n",
    "    for repeat in range(1, 5):\n",
    "        features_upsampled = pd.concat([features_zeros] + [features_ones] * repeat)\n",
    "        target_upsampled = pd.concat([target_zeros] + [target_ones] * repeat)\n",
    "        features_upsampled, target_upsampled = shuffle(features_upsampled,\n",
    "                                                       target_upsampled, \n",
    "                                                       random_state=42)\n",
    "        model_dt = DecisionTreeClassifier(max_depth=depth, random_state=42)\n",
    "        model_dt.fit(features_upsampled, target_upsampled)\n",
    "        predicted_valid = model_dt.predict(features_valid)\n",
    "        decision_tree_list.append([depth,\n",
    "                                   repeat,\n",
    "                                   f1_score(target_valid, predicted_valid)\n",
    "                                  ])\n",
    "    \n",
    "decision_tree = pd.DataFrame(decision_tree_list, columns=decision_tree_cols)\n",
    "\n",
    "max_f1_score_row = decision_tree.loc[decision_tree['f1_score'].idxmax()]\n",
    "max_f1_score_row"
   ]
  },
  {
   "cell_type": "code",
   "execution_count": 26,
   "id": "4b83ebfd",
   "metadata": {},
   "outputs": [
    {
     "data": {
      "text/plain": [
       "depth       7.000000\n",
       "fraction    0.600000\n",
       "f1_score    0.576271\n",
       "Name: 132, dtype: float64"
      ]
     },
     "execution_count": 26,
     "metadata": {},
     "output_type": "execute_result"
    }
   ],
   "source": [
    "# Downsampling\n",
    "\n",
    "decision_tree_cols = ['depth','fraction','f1_score']\n",
    "decision_tree_list = []\n",
    "\n",
    "for depth in range(1,12):\n",
    "    for fraction in  np.arange(0, 1, 0.05):\n",
    "        features_downsampled = pd.concat([features_zeros.sample(frac=fraction, random_state=42)] + [features_ones])\n",
    "        target_downsampled = pd.concat([target_zeros.sample(frac=fraction, random_state=42)] + [target_ones])\n",
    "        features_downsampled, target_downsampled = shuffle(features_downsampled, \n",
    "                                                           target_downsampled, \n",
    "                                                           random_state=42)\n",
    "        model_dt = DecisionTreeClassifier(max_depth=depth, random_state=42)\n",
    "        model_dt.fit(features_downsampled, target_downsampled)\n",
    "        predicted_valid = model_dt.predict(features_valid)\n",
    "        decision_tree_list.append([depth,\n",
    "                                   fraction,\n",
    "                                   f1_score(target_valid, predicted_valid)\n",
    "                                  ])\n",
    "    \n",
    "decision_tree = pd.DataFrame(decision_tree_list, columns=decision_tree_cols)\n",
    "\n",
    "max_f1_score_row = decision_tree.loc[decision_tree['f1_score'].idxmax()]\n",
    "max_f1_score_row"
   ]
  },
  {
   "cell_type": "code",
   "execution_count": 27,
   "id": "6df1703e",
   "metadata": {},
   "outputs": [
    {
     "data": {
      "text/plain": [
       "depth        5.000000\n",
       "threshold    0.300000\n",
       "f1_score     0.553672\n",
       "Name: 86, dtype: float64"
      ]
     },
     "execution_count": 27,
     "metadata": {},
     "output_type": "execute_result"
    }
   ],
   "source": [
    "# Threshold Adjustment\n",
    "\n",
    "decision_tree_cols = ['depth','threshold','f1_score']\n",
    "decision_tree_list = []\n",
    "\n",
    "for depth in range(1,12):\n",
    "    for threshold in  np.arange(0, 1, 0.05):\n",
    "        model_dt = DecisionTreeClassifier(max_depth=depth, random_state=42)\n",
    "        model_dt.fit(features_train, target_train)\n",
    "        probabilities_valid = model_dt.predict_proba(features_valid)\n",
    "        probabilities_one_valid = probabilities_valid[:, 1]\n",
    "        predicted_valid = probabilities_one_valid > threshold\n",
    "        decision_tree_list.append([depth,\n",
    "                                   threshold,\n",
    "                                   f1_score(target_valid, predicted_valid)\n",
    "                                  ])\n",
    "    \n",
    "decision_tree = pd.DataFrame(decision_tree_list, columns=decision_tree_cols)\n",
    "\n",
    "max_f1_score_row = decision_tree.loc[decision_tree['f1_score'].idxmax()]\n",
    "max_f1_score_row"
   ]
  },
  {
   "cell_type": "code",
   "execution_count": 28,
   "id": "fbc34a6a",
   "metadata": {},
   "outputs": [
    {
     "data": {
      "text/plain": [
       "depth                  7\n",
       "class_weight        None\n",
       "fraction             0.6\n",
       "threshold            0.5\n",
       "f1_score        0.576271\n",
       "Name: 1365, dtype: object"
      ]
     },
     "execution_count": 28,
     "metadata": {},
     "output_type": "execute_result"
    }
   ],
   "source": [
    "# Combining adjustments\n",
    "\n",
    "decision_tree_cols = ['depth','class_weight','fraction','threshold','f1_score']\n",
    "decision_tree_list = []\n",
    "\n",
    "for depth in range(1, 12):\n",
    "    for class_weight in ['balanced', None]:\n",
    "        for fraction in  np.arange(0, 1, 0.1):\n",
    "            for threshold in  np.arange(0, 1, 0.1):\n",
    "                features_downsampled = pd.concat([features_zeros.sample(frac=fraction, random_state=42)] + [features_ones])\n",
    "                target_downsampled = pd.concat([target_zeros.sample(frac=fraction, random_state=42)] + [target_ones])\n",
    "                features_downsampled, target_downsampled = shuffle(features_downsampled, \n",
    "                                                                   target_downsampled, \n",
    "                                                                   random_state=42)\n",
    "                model_dt = DecisionTreeClassifier(max_depth=depth, class_weight=class_weight, random_state=42)\n",
    "                model_dt.fit(features_downsampled, target_downsampled)\n",
    "                probabilities_valid = model_dt.predict_proba(features_valid)\n",
    "                if probabilities_valid.shape[1] == 1:\n",
    "                    probabilities_one_valid = probabilities_valid.ravel()\n",
    "                else:\n",
    "                    probabilities_one_valid = probabilities_valid[:, 1]\n",
    "                predicted_valid = probabilities_one_valid > threshold\n",
    "\n",
    "                decision_tree_list.append([depth,\n",
    "                                           class_weight,\n",
    "                                           fraction,\n",
    "                                           threshold,\n",
    "                                           f1_score(target_valid, predicted_valid)\n",
    "                                          ])\n",
    "\n",
    "decision_tree = pd.DataFrame(decision_tree_list, columns=decision_tree_cols)\n",
    "\n",
    "max_f1_score_row = decision_tree.loc[decision_tree['f1_score'].idxmax()]\n",
    "max_f1_score_row"
   ]
  },
  {
   "cell_type": "markdown",
   "id": "7a7b3130",
   "metadata": {},
   "source": [
    "<div style=\"background-color: #ADD8E6; padding: 20px; border-radius: 10px; box-shadow: 2px 2px 10px grey;\">\n",
    "\n",
    "#### Project Introduction: Predicting Customer Churn for Beta Bank\n",
    "\n",
    "**Project Background:**  \n",
    "Beta Bank is experiencing a steady loss of customers, and the management has recognized that retaining existing customers is more cost-effective than acquiring new ones. The challenge is to predict the likelihood of a customer leaving the bank, using data on clients' past behavior and contract termination history.\n",
    "\n",
    "**Objective:**  \n",
    "The aim is to build a predictive model that can accurately determine the probability of a customer leaving the bank. The primary metric for model performance is the F1 score, with a project requirement of achieving a minimum score of 0.59. Additionally, the model's AUC-ROC metric will also be evaluated to understand the trade-off between sensitivity and specificity.\n",
    "\n",
    "**Data Overview:**  \n",
    "The dataset (`Churn.csv`) provides comprehensive information on customers, including demographics, account details, and banking behavior. Key features include Credit Score, Geography, Gender, Age, Tenure, Account Balance, Number of Products, Credit Card Ownership, Customer Activity, and Estimated Salary.\n",
    "\n",
    "**Methodology:**\n",
    "\n",
    "1. **Data Preparation:**  \n",
    "   Detailed preprocessing of the data includes handling missing values, encoding categorical variables, and feature scaling. The preprocessing steps will be thoroughly explained.\n",
    "\n",
    "2. **Class Balance Analysis:**  \n",
    "   Investigate the balance of the target classes (customer churn). Initially, models will be trained without addressing class imbalance to establish a baseline.\n",
    "\n",
    "3. **Model Improvement:**  \n",
    "   Implement at least two techniques to manage class imbalance, such as resampling methods or adjusting class weights. Different models will be trained on the adjusted data, and their performance will be compared to select the best model.\n",
    "\n",
    "4. **Model Evaluation:**  \n",
    "   Conduct final testing to assess the chosen model's effectiveness, focusing on the F1 score and AUC-ROC metrics.\n",
    "\n",
    "**Significance:**  \n",
    "This project not only serves as an application of machine learning in solving a real-world business problem but also demonstrates proficiency in handling imbalanced datasets, a common challenge in predictive modeling. The outcome will assist Beta Bank in implementing strategies to improve customer retention.\n",
    "\n",
    "</div>\n"
   ]
  },
  {
   "cell_type": "markdown",
   "id": "1c322101",
   "metadata": {},
   "source": [
    "<div style=\"background-color: #ADD8E6; padding: 20px; border-radius: 10px; box-shadow: 2px 2px 10px grey;\">\n",
    "\n",
    "<h2> Improved Student's Comment on Hyperparameter Tuning in Decision Tree Model</h2>\n",
    "\n",
    "The code implements a comprehensive hyperparameter tuning strategy for a decision tree model, aimed at optimizing the F1 score. It employs a nested loop to systematically iterate through a range of hyperparameters, including depth, class_weight, fraction, and threshold.\n",
    "\n",
    "**Key Steps in the Process:**\n",
    "\n",
    "1. **Downsampling and Data Preparation:**  \n",
    "   The code creates a balanced dataset by downsampling the majority class. This involves merging a specified fraction of the majority class samples with all samples from the minority class. The combined dataset is shuffled for randomness.\n",
    "\n",
    "2. **Model Initialization and Training:**  \n",
    "   A decision tree classifier is set up with varying `max_depth` (from 1 to 11) and `class_weight` (either 'balanced' or None). The model is then trained on the prepared dataset.\n",
    "\n",
    "3. **Probability Prediction and Threshold Application:**  \n",
    "   The model predicts probabilities for the validation set. Depending on the output format, the relevant probabilities (either flattened or for the positive class) are extracted. These probabilities are then subjected to a defined threshold to classify observations.\n",
    "\n",
    "4. **F1 Score Calculation:**  \n",
    "   The model's performance is evaluated by calculating the F1 score, comparing the predicted labels against the actual labels in the validation set.\n",
    "\n",
    "5. **Hyperparameter and Performance Logging:**  \n",
    "   Each iteration logs the hyperparameters and the achieved F1 score. This data is stored in a structured format for further analysis.\n",
    "\n",
    "6. **Optimal Hyperparameters Identification:**  \n",
    "   After completing the iterations, the combination yielding the highest F1 score is identified. This optimal set of hyperparameters represents the most effective configuration for the decision tree model under the given conditions.\n",
    "\n",
    "**Conclusion:**\n",
    "\n",
    "This methodical approach to hyperparameter tuning provides a detailed understanding of the decision tree model's performance across different settings. The process ensures the identification of the most effective model configuration, balancing the trade-offs between precision and recall as reflected in the F1 score.\n",
    "\n",
    "</div>\n"
   ]
  },
  {
   "cell_type": "markdown",
   "id": "e3bdfe85",
   "metadata": {},
   "source": [
    "<div class=\"alert alert-success\">\n",
    "<b>Reviewer's comment</b>\n",
    "\n",
    "Great, you tried a different model, applied all the same balancing techniques to it and tuned hyperparameters using the validation set\n",
    "\n",
    "</div>"
   ]
  },
  {
   "cell_type": "code",
   "execution_count": 29,
   "id": "4dabf6ff",
   "metadata": {},
   "outputs": [
    {
     "data": {
      "text/plain": [
       "estimator    80.000000\n",
       "acc           0.865000\n",
       "f1_score      0.557377\n",
       "Name: 7, dtype: float64"
      ]
     },
     "execution_count": 29,
     "metadata": {},
     "output_type": "execute_result"
    }
   ],
   "source": [
    "# Random Forest\n",
    "\n",
    "random_forest_cols = ['estimator', 'acc', 'f1_score']\n",
    "random_forest_list = []\n",
    "\n",
    "for estimator in range(10, 101, 10):\n",
    "    model_rf = RandomForestClassifier(n_estimators=estimator, random_state=42)\n",
    "    model_rf.fit(features_train, target_train)\n",
    "    predicted_valid = model_rf.predict(features_valid)\n",
    "    random_forest_list.append([estimator,\n",
    "                               accuracy_score(target_valid, predicted_valid),\n",
    "                               f1_score(target_valid, predicted_valid)\n",
    "                              ])\n",
    "    \n",
    "random_forest = pd.DataFrame(random_forest_list, columns=random_forest_cols)\n",
    "\n",
    "max_f1_score_row = random_forest.loc[random_forest['f1_score'].idxmax()]\n",
    "max_f1_score_row"
   ]
  },
  {
   "cell_type": "code",
   "execution_count": 30,
   "id": "b529a525",
   "metadata": {},
   "outputs": [
    {
     "data": {
      "text/plain": [
       "estimator             80\n",
       "class_weight        None\n",
       "f1_score        0.557377\n",
       "Name: 15, dtype: object"
      ]
     },
     "execution_count": 30,
     "metadata": {},
     "output_type": "execute_result"
    }
   ],
   "source": [
    "# Class Weight Adjustment\n",
    "\n",
    "random_forest_cols = ['estimator','class_weight','f1_score']\n",
    "random_forest_list = []\n",
    "\n",
    "for estimator in range(10, 101, 10):\n",
    "    for class_weight in ['balanced', None]:\n",
    "        model_rf = RandomForestClassifier(n_estimators=estimator, class_weight=class_weight,  random_state=42)\n",
    "        model_rf.fit(features_train, target_train)\n",
    "        predicted_valid = model_rf.predict(features_valid)\n",
    "        random_forest_list.append([estimator,\n",
    "                                   class_weight,\n",
    "                                   f1_score(target_valid, predicted_valid)\n",
    "                                  ])\n",
    "    \n",
    "random_forest = pd.DataFrame(random_forest_list, columns=random_forest_cols)\n",
    "\n",
    "max_f1_score_row = random_forest.loc[random_forest['f1_score'].idxmax()]\n",
    "max_f1_score_row"
   ]
  },
  {
   "cell_type": "code",
   "execution_count": 31,
   "id": "0812d43a",
   "metadata": {},
   "outputs": [
    {
     "data": {
      "text/plain": [
       "estimator    120.000000\n",
       "repeat         2.000000\n",
       "f1_score       0.583704\n",
       "Name: 45, dtype: float64"
      ]
     },
     "execution_count": 31,
     "metadata": {},
     "output_type": "execute_result"
    }
   ],
   "source": [
    "# Upsampling\n",
    "\n",
    "random_forest_cols = ['estimator','repeat','f1_score']\n",
    "random_forest_list = []\n",
    "\n",
    "for estimator in range(10, 201, 10):\n",
    "    for repeat in range(1, 5):\n",
    "        features_upsampled = pd.concat([features_zeros] + [features_ones] * repeat)\n",
    "        target_upsampled = pd.concat([target_zeros] + [target_ones] * repeat)\n",
    "        features_upsampled, target_upsampled = shuffle(features_upsampled,\n",
    "                                                       target_upsampled, \n",
    "                                                       random_state=42)\n",
    "        model_rf = RandomForestClassifier(n_estimators=estimator, random_state=42)\n",
    "        model_rf.fit(features_upsampled, target_upsampled)\n",
    "        predicted_valid = model_rf.predict(features_valid)\n",
    "        random_forest_list.append([estimator,\n",
    "                                   repeat,\n",
    "                                   f1_score(target_valid, predicted_valid)\n",
    "                                  ])\n",
    "    \n",
    "random_forest = pd.DataFrame(random_forest_list, columns=random_forest_cols)\n",
    "\n",
    "max_f1_score_row = random_forest.loc[random_forest['f1_score'].idxmax()]\n",
    "max_f1_score_row"
   ]
  },
  {
   "cell_type": "code",
   "execution_count": 32,
   "id": "4ebf418c",
   "metadata": {},
   "outputs": [
    {
     "data": {
      "text/plain": [
       "estimator    130.000000\n",
       "fraction       0.450000\n",
       "f1_score       0.594595\n",
       "Name: 249, dtype: float64"
      ]
     },
     "execution_count": 32,
     "metadata": {},
     "output_type": "execute_result"
    }
   ],
   "source": [
    "# Downsampling \n",
    "\n",
    "random_forest_cols = ['estimator','fraction','f1_score']\n",
    "random_forest_list = []\n",
    "\n",
    "for estimator in range(10, 201, 10):\n",
    "    for fraction in  np.arange(0, 1, 0.05):\n",
    "        features_downsampled = pd.concat([features_zeros.sample(frac=fraction, random_state=42)] + [features_ones])\n",
    "        target_downsampled = pd.concat([target_zeros.sample(frac=fraction, random_state=42)] + [target_ones])\n",
    "        features_downsampled, target_downsampled = shuffle(features_downsampled, \n",
    "                                                           target_downsampled, \n",
    "                                                           random_state=42)\n",
    "        model_rf = RandomForestClassifier(n_estimators=estimator, random_state=42)\n",
    "        model_rf.fit(features_downsampled, target_downsampled)\n",
    "        predicted_valid = model_rf.predict(features_valid)\n",
    "        random_forest_list.append([estimator,\n",
    "                                   fraction,\n",
    "                                   f1_score(target_valid, predicted_valid)\n",
    "                                  ])\n",
    "    \n",
    "random_forest = pd.DataFrame(random_forest_list, columns=random_forest_cols)\n",
    "\n",
    "max_f1_score_row = random_forest.loc[random_forest['f1_score'].idxmax()]\n",
    "max_f1_score_row"
   ]
  },
  {
   "cell_type": "code",
   "execution_count": 33,
   "id": "625dbaba",
   "metadata": {},
   "outputs": [
    {
     "data": {
      "text/plain": [
       "estimator    150.000000\n",
       "threshold      0.400000\n",
       "f1_score       0.589928\n",
       "Name: 144, dtype: float64"
      ]
     },
     "execution_count": 33,
     "metadata": {},
     "output_type": "execute_result"
    }
   ],
   "source": [
    "# Threshold Adjustment\n",
    "\n",
    "random_forest_cols = ['estimator','threshold','f1_score']\n",
    "random_forest_list = []\n",
    "\n",
    "for estimator in range(10, 201, 10):\n",
    "    for threshold in  np.arange(0, 1, 0.1):\n",
    "        model_rf = RandomForestClassifier(n_estimators=estimator, random_state=42)\n",
    "        model_rf.fit(features_train, target_train)\n",
    "        probabilities_valid = model_rf.predict_proba(features_valid)\n",
    "        probabilities_one_valid = probabilities_valid[:, 1]\n",
    "        predicted_valid = probabilities_one_valid > threshold\n",
    "        random_forest_list.append([estimator,\n",
    "                                   threshold,\n",
    "                                   f1_score(target_valid, predicted_valid)\n",
    "                                  ])\n",
    "    \n",
    "random_forest = pd.DataFrame(random_forest_list, columns=random_forest_cols)\n",
    "\n",
    "max_f1_score_row = random_forest.loc[random_forest['f1_score'].idxmax()]\n",
    "max_f1_score_row"
   ]
  },
  {
   "cell_type": "markdown",
   "id": "57239622",
   "metadata": {},
   "source": [
    "<div style=\"background-color: #ADD8E6; padding: 20px; border-radius: 10px; box-shadow: 2px 2px 10px grey;\">\n",
    "\n",
    "<h2> Enhanced Student's Comment on Random Forest Hyperparameter Tuning</h2>\n",
    "\n",
    "The code is designed for an exhaustive hyperparameter tuning of a random forest model, with the aim to optimize the F1 score. It operates on a nested loop structure, carefully iterating over a diverse range of hyperparameters, including estimator count, class_weight, fraction, and threshold.\n",
    "\n",
    "**Process Overview:**\n",
    "\n",
    "1. **Downsampling and Dataset Preparation:**  \n",
    "   Each iteration begins with the creation of a downsampled dataset, balancing the majority and minority class samples. This is crucial for addressing class imbalance and enhancing model performance.\n",
    "\n",
    "2. **Model Configuration and Training:**  \n",
    "   The random forest classifier is configured with a range of n_estimators (from 10 to 200 in increments of 10) and a class_weight parameter (either 'balanced' or None). The model is then trained on this tailored dataset.\n",
    "\n",
    "3. **Probability Assessment and Thresholding:**  \n",
    "   For validation, the model predicts probabilities for the dataset, with a subsequent threshold application to differentiate between positive and negative class predictions.\n",
    "\n",
    "4. **Performance Evaluation:**  \n",
    "   The model's effectiveness is quantified using the F1 score, derived by comparing the predictions against the actual labels in the validation dataset.\n",
    "\n",
    "5. **Logging and Analysis:**  \n",
    "   Detailed logging of hyperparameters and corresponding F1 scores is performed for each iteration. This data is systematically compiled for comprehensive analysis.\n",
    "\n",
    "6. **Identification of Optimal Configuration:**  \n",
    "   Upon completing the hyperparameter sweep, the configuration yielding the highest F1 score is pinpointed. This optimal set of hyperparameters represents the most effective model setup for our specific classification task.\n",
    "\n",
    "**Challenges Noted:**\n",
    "\n",
    "- The extensive nature of this hyperparameter tuning process results in prolonged execution times, indicating a trade-off between thoroughness and computational efficiency.\n",
    "\n",
    "**Conclusion:**\n",
    "\n",
    "This thorough approach, while time-intensive, is critical for identifying the most effective hyperparameter configuration for the random forest model, especially in contexts marked by class imbalances. The insights gained are invaluable for refining the model's predictive accuracy and overall efficacy.\n",
    "\n",
    "</div>\n"
   ]
  },
  {
   "cell_type": "markdown",
   "id": "3022142b",
   "metadata": {},
   "source": [
    "<div class=\"alert alert-success\">\n",
    "<b>Reviewer's comment</b>\n",
    "\n",
    "Excellent, random forest model was also explored with different hyperparameters and balancing techniques\n",
    "\n",
    "</div>"
   ]
  },
  {
   "cell_type": "code",
   "execution_count": 34,
   "id": "e01c8964",
   "metadata": {},
   "outputs": [
    {
     "data": {
      "text/plain": [
       "0.6204287515762925"
      ]
     },
     "execution_count": 34,
     "metadata": {},
     "output_type": "execute_result"
    }
   ],
   "source": [
    "# Improve the quality of the model. Make sure you use at least two approaches to fixing class imbalance. \n",
    "# Use the training set to pick the best parameters. Train different models on training and validation sets. \n",
    "# Find the best one. Briefly describe your findings.\n",
    "\n",
    "fraction = 0.85\n",
    "threshold = 0.4\n",
    "\n",
    "features_downsampled = pd.concat([features_zeros.sample(frac=fraction, random_state=42)] + [features_ones])\n",
    "target_downsampled = pd.concat([target_zeros.sample(frac=fraction, random_state=42)] + [target_ones])\n",
    "features_downsampled, target_downsampled = shuffle(features_downsampled, \n",
    "                                                                   target_downsampled, \n",
    "                                                                   random_state=42)\n",
    "model_rf = RandomForestClassifier(n_estimators=160, class_weight='balanced', random_state=42)\n",
    "model_rf.fit(features_downsampled, target_downsampled)\n",
    "probabilities_test = model_rf.predict_proba(features_test)\n",
    "if probabilities_test.shape[1] == 1:\n",
    "    probabilities_one_test = probabilities_test.ravel()\n",
    "else:\n",
    "    probabilities_one_test = probabilities_test[:, 1]\n",
    "predicted_test = probabilities_one_test > threshold\n",
    "\n",
    "f1_score(target_test, predicted_test)"
   ]
  },
  {
   "cell_type": "code",
   "execution_count": 35,
   "id": "f605b7b0",
   "metadata": {},
   "outputs": [
    {
     "data": {
      "image/png": "[encoded data removed]",
      "text/plain": [
       "<Figure size 432x432 with 1 Axes>"
      ]
     },
     "metadata": {
      "needs_background": "light"
     },
     "output_type": "display_data"
    }
   ],
   "source": [
    "precision, recall, thresholds = precision_recall_curve(target_test, probabilities_test[:, 1])\n",
    "\n",
    "plt.figure(figsize=(6, 6))\n",
    "plt.step(recall, precision, where='post')\n",
    "plt.xlabel('Recall')\n",
    "plt.ylabel('Precision')\n",
    "plt.ylim([0.0, 1.05])\n",
    "plt.xlim([0.0, 1.0])\n",
    "plt.title('Precision-Recall Curve')\n",
    "plt.show()"
   ]
  },
  {
   "cell_type": "code",
   "execution_count": 36,
   "id": "932464e5",
   "metadata": {},
   "outputs": [
    {
     "data": {
      "image/png": "[encoded data removed]",
      "text/plain": [
       "<Figure size 432x288 with 1 Axes>"
      ]
     },
     "metadata": {
      "needs_background": "light"
     },
     "output_type": "display_data"
    }
   ],
   "source": [
    "fpr, tpr, thresholds = roc_curve(target_test, probabilities_one_test)\n",
    "\n",
    "plt.figure()\n",
    "plt.plot(fpr, tpr)\n",
    "plt.plot([0, 1], [0, 1], linestyle='--')\n",
    "plt.xlim([0.0, 1.0])\n",
    "plt.ylim([0.0, 1.0])\n",
    "plt.xlabel('False Positive Rate')\n",
    "plt.ylabel('True Positive Rate')\n",
    "plt.title('ROC curve')\n",
    "plt.show()"
   ]
  },
  {
   "cell_type": "code",
   "execution_count": 37,
   "id": "2378595c",
   "metadata": {},
   "outputs": [
    {
     "name": "stdout",
     "output_type": "stream",
     "text": [
      "0.8626122055991705\n"
     ]
    }
   ],
   "source": [
    "auc_roc = roc_auc_score(target_test, probabilities_one_test)\n",
    "\n",
    "print(auc_roc)"
   ]
  },
  {
   "cell_type": "markdown",
   "id": "319f9ff4",
   "metadata": {},
   "source": [
    "<div style=\"background-color: #ADD8E6; padding: 20px; border-radius: 10px; box-shadow: 2px 2px 10px grey;\">\n",
    "\n",
    "<h2> Enhanced Student's Comment on Random Forest Hyperparameter Tuning</h2>\n",
    "\n",
    "The code is designed for an exhaustive hyperparameter tuning of a random forest model, with the aim to optimize the F1 score. It operates on a nested loop structure, carefully iterating over a diverse range of hyperparameters, including estimator count, class_weight, fraction, and threshold.\n",
    "\n",
    "**Process Overview:**\n",
    "\n",
    "1. **Downsampling and Dataset Preparation:**  \n",
    "   Each iteration begins with the creation of a downsampled dataset, balancing the majority and minority class samples. This is crucial for addressing class imbalance and enhancing model performance.\n",
    "\n",
    "2. **Model Configuration and Training:**  \n",
    "   The random forest classifier is configured with a range of n_estimators (from 10 to 200 in increments of 10) and a class_weight parameter (either 'balanced' or None). The model is then trained on this tailored dataset.\n",
    "\n",
    "3. **Probability Assessment and Thresholding:**  \n",
    "   For validation, the model predicts probabilities for the dataset, with a subsequent threshold application to differentiate between positive and negative class predictions.\n",
    "\n",
    "4. **Performance Evaluation:**  \n",
    "   The model's effectiveness is quantified using the F1 score, derived by comparing the predictions against the actual labels in the validation dataset.\n",
    "\n",
    "5. **Logging and Analysis:**  \n",
    "   Detailed logging of hyperparameters and corresponding F1 scores is performed for each iteration. This data is systematically compiled for comprehensive analysis.\n",
    "\n",
    "6. **Identification of Optimal Configuration:**  \n",
    "   Upon completing the hyperparameter sweep, the configuration yielding the highest F1 score is pinpointed. This optimal set of hyperparameters represents the most effective model setup for our specific classification task.\n",
    "\n",
    "**Challenges Noted:**\n",
    "\n",
    "- The extensive nature of this hyperparameter tuning process results in prolonged execution times, indicating a trade-off between thoroughness and computational efficiency.\n",
    "\n",
    "**Conclusion:**\n",
    "\n",
    "This thorough approach, while time-intensive, is critical for identifying the most effective hyperparameter configuration for the random forest model, especially in contexts marked by class imbalances. The insights gained are invaluable for refining the model's predictive accuracy and overall efficacy.\n",
    "\n",
    "</div>"
   ]
  },
  {
   "cell_type": "markdown",
   "id": "dc8b2af1",
   "metadata": {},
   "source": [
    "<div class=\"alert alert-success\">\n",
    "<b>Reviewer's comment</b>\n",
    "\n",
    "The final model was evaluated on the test set, and it passes the F1 score threshold. Well done!\n",
    "    \n",
    "Very nice analysis of the results in the conclusion!\n",
    "\n",
    "</div>"
   ]
  },
  {
   "cell_type": "code",
   "execution_count": null,
   "id": "630f7050",
   "metadata": {},
   "outputs": [],
   "source": []
  }
 ],
 "metadata": {
  "kernelspec": {
   "display_name": "Python 3 (ipykernel)",
   "language": "python",
   "name": "python3"
  },
  "language_info": {
   "codemirror_mode": {
    "name": "ipython",
    "version": 3
   },
   "file_extension": ".py",
   "mimetype": "text/x-python",
   "name": "python",
   "nbconvert_exporter": "python",
   "pygments_lexer": "ipython3",
   "version": "3.9.5"
  },
  "toc": {
   "base_numbering": 1,
   "nav_menu": {},
   "number_sections": true,
   "sideBar": true,
   "skip_h1_title": true,
   "title_cell": "Table of Contents",
   "title_sidebar": "Contents",
   "toc_cell": false,
   "toc_position": {},
   "toc_section_display": true,
   "toc_window_display": false
  }
 },
 "nbformat": 4,
 "nbformat_minor": 5
}
