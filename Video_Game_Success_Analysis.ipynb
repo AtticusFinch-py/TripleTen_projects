{
 "cells": [
  {
   "cell_type": "markdown",
   "id": "5d670ff0",
   "metadata": {},
   "source": [
    "<div class=\"alert alert-info\" style=\"background-color: #e6f7ff; border-radius: 10px; padding: 15px; border-left: 4px solid #9fd3f7; box-shadow: 2px 2px 2px #b8daff;\">\n",
    "\n",
    "# Video Game Success Analysis\n",
    "\n",
    "## Introduction\n",
    "\n",
    "In an industry as dynamic as video gaming, understanding the factors that lead to a game's success is crucial for developers and marketers alike. This project aims to uncover patterns in game sales and reviews, providing insight that can shape future advertising campaigns and development strategies.\n",
    "\n",
    "As an analyst for Ice, an online video game store, the task is to mine data from game sales, user and expert reviews, genres, and platforms, such as Xbox and PlayStation. With this information, we will identify the traits of games that tend to succeed, aiding in the prediction of future trends and the identification of potential hits for the upcoming year.\n",
    "\n",
    "## Project Goals\n",
    "\n",
    "- **Data Examination**: Assess the comprehensive dataset for quality and structure.\n",
    "- **Data Cleaning**: Standardize column names, handle missing values, and correct data types to ensure accuracy in analysis.\n",
    "- **Sales Analysis**: Calculate total sales for each game and analyze yearly distribution and platform performance.\n",
    "- **Trend Analysis**: Identify leading platforms and genres, and analyze the impact of user and critic reviews on sales.\n",
    "- **Regional Profiles**: Develop profiles for different regions to understand market differences and preferences.\n",
    "\n",
    "## Significance of ESRB Ratings\n",
    "\n",
    "Understanding the Entertainment Software Rating Board (ESRB) ratings will also be a focal point, as these ratings may influence a game's reception in various regions.\n",
    "\n",
    "## Analytical Approach\n",
    "\n",
    "- **Historical Data Analysis**: Study game releases and sales trends up to 2016 to inform the 2017 campaign strategy.\n",
    "- **Hypothesis Testing**: Compare user ratings across platforms and genres to deduce preferences and popularity.\n",
    "\n",
    "## Conclusion Goals\n",
    "\n",
    "By the end of this analysis, we aim to provide Ice with actionable insights on which gaming platforms to prioritize, which genres to focus on, and how ESRB ratings affect regional sales. This will guide the planning of effective advertising campaigns for 2017."
   ]
  },
  {
   "cell_type": "code",
   "execution_count": 1,
   "id": "c5000b55",
   "metadata": {},
   "outputs": [],
   "source": [
    "# Import libraries\n",
    "import pandas as pd\n",
    "import matplotlib.pyplot as plt\n",
    "import numpy as np\n",
    "import scipy.stats as stats"
   ]
  },
  {
   "cell_type": "code",
   "execution_count": 2,
   "id": "70254929",
   "metadata": {},
   "outputs": [
    {
     "name": "stdout",
     "output_type": "stream",
     "text": [
      "<class 'pandas.core.frame.DataFrame'>\n",
      "RangeIndex: 16715 entries, 0 to 16714\n",
      "Data columns (total 11 columns):\n",
      " #   Column           Non-Null Count  Dtype  \n",
      "---  ------           --------------  -----  \n",
      " 0   Name             16713 non-null  object \n",
      " 1   Platform         16715 non-null  object \n",
      " 2   Year_of_Release  16446 non-null  float64\n",
      " 3   Genre            16713 non-null  object \n",
      " 4   NA_sales         16715 non-null  float64\n",
      " 5   EU_sales         16715 non-null  float64\n",
      " 6   JP_sales         16715 non-null  float64\n",
      " 7   Other_sales      16715 non-null  float64\n",
      " 8   Critic_Score     8137 non-null   float64\n",
      " 9   User_Score       10014 non-null  object \n",
      " 10  Rating           9949 non-null   object \n",
      "dtypes: float64(6), object(5)\n",
      "memory usage: 1.4+ MB\n"
     ]
    }
   ],
   "source": [
    "data = pd.read_csv('/datasets/games.csv')\n",
    "data.info()"
   ]
  },
  {
   "cell_type": "code",
   "execution_count": 3,
   "id": "11e6ce28",
   "metadata": {},
   "outputs": [
    {
     "data": {
      "text/html": [
       "<div>\n",
       "<style scoped>\n",
       "    .dataframe tbody tr th:only-of-type {\n",
       "        vertical-align: middle;\n",
       "    }\n",
       "\n",
       "    .dataframe tbody tr th {\n",
       "        vertical-align: top;\n",
       "    }\n",
       "\n",
       "    .dataframe thead th {\n",
       "        text-align: right;\n",
       "    }\n",
       "</style>\n",
       "<table border=\"1\" class=\"dataframe\">\n",
       "  <thead>\n",
       "    <tr style=\"text-align: right;\">\n",
       "      <th></th>\n",
       "      <th>Name</th>\n",
       "      <th>Platform</th>\n",
       "      <th>Year_of_Release</th>\n",
       "      <th>Genre</th>\n",
       "      <th>NA_sales</th>\n",
       "      <th>EU_sales</th>\n",
       "      <th>JP_sales</th>\n",
       "      <th>Other_sales</th>\n",
       "      <th>Critic_Score</th>\n",
       "      <th>User_Score</th>\n",
       "      <th>Rating</th>\n",
       "    </tr>\n",
       "  </thead>\n",
       "  <tbody>\n",
       "    <tr>\n",
       "      <th>0</th>\n",
       "      <td>Wii Sports</td>\n",
       "      <td>Wii</td>\n",
       "      <td>2006.0</td>\n",
       "      <td>Sports</td>\n",
       "      <td>41.36</td>\n",
       "      <td>28.96</td>\n",
       "      <td>3.77</td>\n",
       "      <td>8.45</td>\n",
       "      <td>76.0</td>\n",
       "      <td>8</td>\n",
       "      <td>E</td>\n",
       "    </tr>\n",
       "    <tr>\n",
       "      <th>1</th>\n",
       "      <td>Super Mario Bros.</td>\n",
       "      <td>NES</td>\n",
       "      <td>1985.0</td>\n",
       "      <td>Platform</td>\n",
       "      <td>29.08</td>\n",
       "      <td>3.58</td>\n",
       "      <td>6.81</td>\n",
       "      <td>0.77</td>\n",
       "      <td>NaN</td>\n",
       "      <td>NaN</td>\n",
       "      <td>NaN</td>\n",
       "    </tr>\n",
       "    <tr>\n",
       "      <th>2</th>\n",
       "      <td>Mario Kart Wii</td>\n",
       "      <td>Wii</td>\n",
       "      <td>2008.0</td>\n",
       "      <td>Racing</td>\n",
       "      <td>15.68</td>\n",
       "      <td>12.76</td>\n",
       "      <td>3.79</td>\n",
       "      <td>3.29</td>\n",
       "      <td>82.0</td>\n",
       "      <td>8.3</td>\n",
       "      <td>E</td>\n",
       "    </tr>\n",
       "    <tr>\n",
       "      <th>3</th>\n",
       "      <td>Wii Sports Resort</td>\n",
       "      <td>Wii</td>\n",
       "      <td>2009.0</td>\n",
       "      <td>Sports</td>\n",
       "      <td>15.61</td>\n",
       "      <td>10.93</td>\n",
       "      <td>3.28</td>\n",
       "      <td>2.95</td>\n",
       "      <td>80.0</td>\n",
       "      <td>8</td>\n",
       "      <td>E</td>\n",
       "    </tr>\n",
       "    <tr>\n",
       "      <th>4</th>\n",
       "      <td>Pokemon Red/Pokemon Blue</td>\n",
       "      <td>GB</td>\n",
       "      <td>1996.0</td>\n",
       "      <td>Role-Playing</td>\n",
       "      <td>11.27</td>\n",
       "      <td>8.89</td>\n",
       "      <td>10.22</td>\n",
       "      <td>1.00</td>\n",
       "      <td>NaN</td>\n",
       "      <td>NaN</td>\n",
       "      <td>NaN</td>\n",
       "    </tr>\n",
       "  </tbody>\n",
       "</table>\n",
       "</div>"
      ],
      "text/plain": [
       "                       Name Platform  Year_of_Release         Genre  NA_sales  \\\n",
       "0                Wii Sports      Wii           2006.0        Sports     41.36   \n",
       "1         Super Mario Bros.      NES           1985.0      Platform     29.08   \n",
       "2            Mario Kart Wii      Wii           2008.0        Racing     15.68   \n",
       "3         Wii Sports Resort      Wii           2009.0        Sports     15.61   \n",
       "4  Pokemon Red/Pokemon Blue       GB           1996.0  Role-Playing     11.27   \n",
       "\n",
       "   EU_sales  JP_sales  Other_sales  Critic_Score User_Score Rating  \n",
       "0     28.96      3.77         8.45          76.0          8      E  \n",
       "1      3.58      6.81         0.77           NaN        NaN    NaN  \n",
       "2     12.76      3.79         3.29          82.0        8.3      E  \n",
       "3     10.93      3.28         2.95          80.0          8      E  \n",
       "4      8.89     10.22         1.00           NaN        NaN    NaN  "
      ]
     },
     "execution_count": 3,
     "metadata": {},
     "output_type": "execute_result"
    }
   ],
   "source": [
    "data.head()"
   ]
  },
  {
   "cell_type": "code",
   "execution_count": 4,
   "id": "64ff77c3",
   "metadata": {},
   "outputs": [
    {
     "data": {
      "text/html": [
       "<div>\n",
       "<style scoped>\n",
       "    .dataframe tbody tr th:only-of-type {\n",
       "        vertical-align: middle;\n",
       "    }\n",
       "\n",
       "    .dataframe tbody tr th {\n",
       "        vertical-align: top;\n",
       "    }\n",
       "\n",
       "    .dataframe thead th {\n",
       "        text-align: right;\n",
       "    }\n",
       "</style>\n",
       "<table border=\"1\" class=\"dataframe\">\n",
       "  <thead>\n",
       "    <tr style=\"text-align: right;\">\n",
       "      <th></th>\n",
       "      <th>name</th>\n",
       "      <th>platform</th>\n",
       "      <th>year_of_release</th>\n",
       "      <th>genre</th>\n",
       "      <th>na_sales</th>\n",
       "      <th>eu_sales</th>\n",
       "      <th>jp_sales</th>\n",
       "      <th>other_sales</th>\n",
       "      <th>critic_score</th>\n",
       "      <th>user_score</th>\n",
       "      <th>rating</th>\n",
       "    </tr>\n",
       "  </thead>\n",
       "  <tbody>\n",
       "    <tr>\n",
       "      <th>0</th>\n",
       "      <td>Wii Sports</td>\n",
       "      <td>Wii</td>\n",
       "      <td>2006.0</td>\n",
       "      <td>Sports</td>\n",
       "      <td>41.36</td>\n",
       "      <td>28.96</td>\n",
       "      <td>3.77</td>\n",
       "      <td>8.45</td>\n",
       "      <td>76.0</td>\n",
       "      <td>8</td>\n",
       "      <td>E</td>\n",
       "    </tr>\n",
       "    <tr>\n",
       "      <th>1</th>\n",
       "      <td>Super Mario Bros.</td>\n",
       "      <td>NES</td>\n",
       "      <td>1985.0</td>\n",
       "      <td>Platform</td>\n",
       "      <td>29.08</td>\n",
       "      <td>3.58</td>\n",
       "      <td>6.81</td>\n",
       "      <td>0.77</td>\n",
       "      <td>NaN</td>\n",
       "      <td>NaN</td>\n",
       "      <td>NaN</td>\n",
       "    </tr>\n",
       "    <tr>\n",
       "      <th>2</th>\n",
       "      <td>Mario Kart Wii</td>\n",
       "      <td>Wii</td>\n",
       "      <td>2008.0</td>\n",
       "      <td>Racing</td>\n",
       "      <td>15.68</td>\n",
       "      <td>12.76</td>\n",
       "      <td>3.79</td>\n",
       "      <td>3.29</td>\n",
       "      <td>82.0</td>\n",
       "      <td>8.3</td>\n",
       "      <td>E</td>\n",
       "    </tr>\n",
       "    <tr>\n",
       "      <th>3</th>\n",
       "      <td>Wii Sports Resort</td>\n",
       "      <td>Wii</td>\n",
       "      <td>2009.0</td>\n",
       "      <td>Sports</td>\n",
       "      <td>15.61</td>\n",
       "      <td>10.93</td>\n",
       "      <td>3.28</td>\n",
       "      <td>2.95</td>\n",
       "      <td>80.0</td>\n",
       "      <td>8</td>\n",
       "      <td>E</td>\n",
       "    </tr>\n",
       "    <tr>\n",
       "      <th>4</th>\n",
       "      <td>Pokemon Red/Pokemon Blue</td>\n",
       "      <td>GB</td>\n",
       "      <td>1996.0</td>\n",
       "      <td>Role-Playing</td>\n",
       "      <td>11.27</td>\n",
       "      <td>8.89</td>\n",
       "      <td>10.22</td>\n",
       "      <td>1.00</td>\n",
       "      <td>NaN</td>\n",
       "      <td>NaN</td>\n",
       "      <td>NaN</td>\n",
       "    </tr>\n",
       "  </tbody>\n",
       "</table>\n",
       "</div>"
      ],
      "text/plain": [
       "                       name platform  year_of_release         genre  na_sales  \\\n",
       "0                Wii Sports      Wii           2006.0        Sports     41.36   \n",
       "1         Super Mario Bros.      NES           1985.0      Platform     29.08   \n",
       "2            Mario Kart Wii      Wii           2008.0        Racing     15.68   \n",
       "3         Wii Sports Resort      Wii           2009.0        Sports     15.61   \n",
       "4  Pokemon Red/Pokemon Blue       GB           1996.0  Role-Playing     11.27   \n",
       "\n",
       "   eu_sales  jp_sales  other_sales  critic_score user_score rating  \n",
       "0     28.96      3.77         8.45          76.0          8      E  \n",
       "1      3.58      6.81         0.77           NaN        NaN    NaN  \n",
       "2     12.76      3.79         3.29          82.0        8.3      E  \n",
       "3     10.93      3.28         2.95          80.0          8      E  \n",
       "4      8.89     10.22         1.00           NaN        NaN    NaN  "
      ]
     },
     "execution_count": 4,
     "metadata": {},
     "output_type": "execute_result"
    }
   ],
   "source": [
    "data = data.rename(str.lower, axis='columns')\n",
    "data.head()"
   ]
  },
  {
   "cell_type": "markdown",
   "id": "78a01464",
   "metadata": {},
   "source": [
    "<div class=\"alert alert-block alert-success\">\n",
    "<b>Reviewer's comment</b> <a class=\"tocSkip\"></a>\n",
    "\n",
    "Very elegant.\n",
    "</div>"
   ]
  },
  {
   "cell_type": "code",
   "execution_count": 5,
   "id": "e2308d0a",
   "metadata": {},
   "outputs": [
    {
     "data": {
      "text/plain": [
       "14.5"
      ]
     },
     "execution_count": 5,
     "metadata": {},
     "output_type": "execute_result"
    }
   ],
   "source": [
    "total_rows = len(data['user_score'])\n",
    "tbd_count = len(data[data['user_score'] == 'tbd'])\n",
    "tbd_percentage = (tbd_count / total_rows) * 100\n",
    "tbd_percentage = round(tbd_percentage, 2)\n",
    "tbd_percentage"
   ]
  },
  {
   "cell_type": "code",
   "execution_count": 6,
   "id": "de1bb79a",
   "metadata": {},
   "outputs": [
    {
     "data": {
      "text/plain": [
       "array(['Wii', 'NES', 'GB', 'DS', 'X360', 'PS3', 'PS2', 'SNES', 'GBA',\n",
       "       'PS4', '3DS', 'N64', 'PS', 'XB', 'PC', '2600', 'PSP', 'XOne',\n",
       "       'WiiU', 'GC', 'GEN', 'DC', 'PSV', 'SAT', 'SCD', 'WS', 'NG', 'TG16',\n",
       "       '3DO', 'GG', 'PCFX'], dtype=object)"
      ]
     },
     "execution_count": 6,
     "metadata": {},
     "output_type": "execute_result"
    }
   ],
   "source": [
    "data['platform'].unique()"
   ]
  },
  {
   "cell_type": "code",
   "execution_count": 7,
   "id": "dd99a6bc",
   "metadata": {},
   "outputs": [
    {
     "data": {
      "text/plain": [
       "DS      756\n",
       "Wii     440\n",
       "GBA     262\n",
       "PS2     240\n",
       "XB      150\n",
       "PSP     123\n",
       "GC      103\n",
       "PS3      87\n",
       "X360     84\n",
       "3DS      56\n",
       "PC       49\n",
       "PS       45\n",
       "XOne     11\n",
       "PSV       7\n",
       "PS4       6\n",
       "WiiU      5\n",
       "Name: platform, dtype: int64"
      ]
     },
     "execution_count": 7,
     "metadata": {},
     "output_type": "execute_result"
    }
   ],
   "source": [
    "tbd_platform_counts = data.loc[data['user_score'] == 'tbd', 'platform'].value_counts()\n",
    "tbd_platform_counts"
   ]
  },
  {
   "cell_type": "markdown",
   "id": "30489249",
   "metadata": {},
   "source": [
    "<div class=\"alert alert-info\" role=\"alert\">\n",
    "\n",
    "Since the percentage of data with tbd is 14.5% in the user_score column, I am going to replace tbd with -1 then filter. Then, I am going to change the data type from object to float. \n",
    "    </div>"
   ]
  },
  {
   "cell_type": "markdown",
   "id": "4de826cb",
   "metadata": {},
   "source": [
    "<div class=\"alert alert-block alert-success\">\n",
    "<b>Reviewer's comment</b> <a class=\"tocSkip\"></a>\n",
    "\n",
    "Well done!\n",
    "</div>"
   ]
  },
  {
   "cell_type": "code",
   "execution_count": 8,
   "id": "9c1276db",
   "metadata": {},
   "outputs": [
    {
     "data": {
      "text/html": [
       "<div>\n",
       "<style scoped>\n",
       "    .dataframe tbody tr th:only-of-type {\n",
       "        vertical-align: middle;\n",
       "    }\n",
       "\n",
       "    .dataframe tbody tr th {\n",
       "        vertical-align: top;\n",
       "    }\n",
       "\n",
       "    .dataframe thead th {\n",
       "        text-align: right;\n",
       "    }\n",
       "</style>\n",
       "<table border=\"1\" class=\"dataframe\">\n",
       "  <thead>\n",
       "    <tr style=\"text-align: right;\">\n",
       "      <th></th>\n",
       "      <th>name</th>\n",
       "      <th>platform</th>\n",
       "      <th>year_of_release</th>\n",
       "      <th>genre</th>\n",
       "      <th>na_sales</th>\n",
       "      <th>eu_sales</th>\n",
       "      <th>jp_sales</th>\n",
       "      <th>other_sales</th>\n",
       "      <th>critic_score</th>\n",
       "      <th>user_score</th>\n",
       "      <th>rating</th>\n",
       "    </tr>\n",
       "  </thead>\n",
       "  <tbody>\n",
       "    <tr>\n",
       "      <th>0</th>\n",
       "      <td>Wii Sports</td>\n",
       "      <td>Wii</td>\n",
       "      <td>2006.0</td>\n",
       "      <td>Sports</td>\n",
       "      <td>41.36</td>\n",
       "      <td>28.96</td>\n",
       "      <td>3.77</td>\n",
       "      <td>8.45</td>\n",
       "      <td>76.0</td>\n",
       "      <td>8.0</td>\n",
       "      <td>E</td>\n",
       "    </tr>\n",
       "    <tr>\n",
       "      <th>1</th>\n",
       "      <td>Super Mario Bros.</td>\n",
       "      <td>NES</td>\n",
       "      <td>1985.0</td>\n",
       "      <td>Platform</td>\n",
       "      <td>29.08</td>\n",
       "      <td>3.58</td>\n",
       "      <td>6.81</td>\n",
       "      <td>0.77</td>\n",
       "      <td>NaN</td>\n",
       "      <td>NaN</td>\n",
       "      <td>NaN</td>\n",
       "    </tr>\n",
       "    <tr>\n",
       "      <th>2</th>\n",
       "      <td>Mario Kart Wii</td>\n",
       "      <td>Wii</td>\n",
       "      <td>2008.0</td>\n",
       "      <td>Racing</td>\n",
       "      <td>15.68</td>\n",
       "      <td>12.76</td>\n",
       "      <td>3.79</td>\n",
       "      <td>3.29</td>\n",
       "      <td>82.0</td>\n",
       "      <td>8.3</td>\n",
       "      <td>E</td>\n",
       "    </tr>\n",
       "    <tr>\n",
       "      <th>3</th>\n",
       "      <td>Wii Sports Resort</td>\n",
       "      <td>Wii</td>\n",
       "      <td>2009.0</td>\n",
       "      <td>Sports</td>\n",
       "      <td>15.61</td>\n",
       "      <td>10.93</td>\n",
       "      <td>3.28</td>\n",
       "      <td>2.95</td>\n",
       "      <td>80.0</td>\n",
       "      <td>8.0</td>\n",
       "      <td>E</td>\n",
       "    </tr>\n",
       "    <tr>\n",
       "      <th>4</th>\n",
       "      <td>Pokemon Red/Pokemon Blue</td>\n",
       "      <td>GB</td>\n",
       "      <td>1996.0</td>\n",
       "      <td>Role-Playing</td>\n",
       "      <td>11.27</td>\n",
       "      <td>8.89</td>\n",
       "      <td>10.22</td>\n",
       "      <td>1.00</td>\n",
       "      <td>NaN</td>\n",
       "      <td>NaN</td>\n",
       "      <td>NaN</td>\n",
       "    </tr>\n",
       "  </tbody>\n",
       "</table>\n",
       "</div>"
      ],
      "text/plain": [
       "                       name platform  year_of_release         genre  na_sales  \\\n",
       "0                Wii Sports      Wii           2006.0        Sports     41.36   \n",
       "1         Super Mario Bros.      NES           1985.0      Platform     29.08   \n",
       "2            Mario Kart Wii      Wii           2008.0        Racing     15.68   \n",
       "3         Wii Sports Resort      Wii           2009.0        Sports     15.61   \n",
       "4  Pokemon Red/Pokemon Blue       GB           1996.0  Role-Playing     11.27   \n",
       "\n",
       "   eu_sales  jp_sales  other_sales  critic_score  user_score rating  \n",
       "0     28.96      3.77         8.45          76.0         8.0      E  \n",
       "1      3.58      6.81         0.77           NaN         NaN    NaN  \n",
       "2     12.76      3.79         3.29          82.0         8.3      E  \n",
       "3     10.93      3.28         2.95          80.0         8.0      E  \n",
       "4      8.89     10.22         1.00           NaN         NaN    NaN  "
      ]
     },
     "execution_count": 8,
     "metadata": {},
     "output_type": "execute_result"
    }
   ],
   "source": [
    "data['user_score'] = data['user_score'].replace('tbd', -1)\n",
    "data['user_score'] = data['user_score'].astype('float64')\n",
    "df = data[data['user_score'] != -1]\n",
    "df.head()"
   ]
  },
  {
   "cell_type": "code",
   "execution_count": 9,
   "id": "9a5f22b8",
   "metadata": {},
   "outputs": [
    {
     "data": {
      "text/plain": [
       "name                  2\n",
       "platform              0\n",
       "year_of_release     221\n",
       "genre                 2\n",
       "na_sales              0\n",
       "eu_sales              0\n",
       "jp_sales              0\n",
       "other_sales           0\n",
       "critic_score       7236\n",
       "user_score         6701\n",
       "rating             6716\n",
       "dtype: int64"
      ]
     },
     "execution_count": 9,
     "metadata": {},
     "output_type": "execute_result"
    }
   ],
   "source": [
    "df.isna().sum()"
   ]
  },
  {
   "cell_type": "markdown",
   "id": "48bc9cd0",
   "metadata": {},
   "source": [
    "<div class=\"alert alert-info\" role=\"alert\">\n",
    "There could be several reasons as why the data has missing values:\n",
    "    \n",
    "* Data collection issues.\n",
    "* Data entry - could simply be human error.\n",
    "* Incomplete - could be that the data given is incomplete. Someone may have stopped there work and not continued filling in        missing data. \n",
    "* Unavailable - the data may no longer be available, although if this is the case it is most likely because it was never           recorded in the first place.\n",
    "* Data privacy - companies have the rights to their data so it may be, for reasons unknown to us, that the company decided         they did not particulars of their product shared. \n",
    " \n",
    "I tend to think it is most likely one of the first three.  \n",
    "</div>"
   ]
  },
  {
   "cell_type": "code",
   "execution_count": 10,
   "id": "3aaf403f",
   "metadata": {},
   "outputs": [
    {
     "data": {
      "text/plain": [
       "1.55"
      ]
     },
     "execution_count": 10,
     "metadata": {},
     "output_type": "execute_result"
    }
   ],
   "source": [
    "total_rows = len(df['year_of_release'])\n",
    "missing_values = df['year_of_release'].isna().sum()\n",
    "percentage_missing = (missing_values / total_rows) * 100\n",
    "percentage_missing = round(percentage_missing, 2)\n",
    "percentage_missing"
   ]
  },
  {
   "cell_type": "markdown",
   "id": "77421b05",
   "metadata": {},
   "source": [
    "<div class=\"alert alert-info\" role=\"alert\">\n",
    "Since the the missing values in year_of_release column are only 1.5% of the dataframe, I am going to drop those rows. \n",
    "    </div>"
   ]
  },
  {
   "cell_type": "code",
   "execution_count": 11,
   "id": "88591d88",
   "metadata": {},
   "outputs": [
    {
     "data": {
      "text/plain": [
       "0"
      ]
     },
     "execution_count": 11,
     "metadata": {},
     "output_type": "execute_result"
    }
   ],
   "source": [
    "df = df.dropna(subset=['year_of_release'])\n",
    "df['year_of_release'].isna().sum()"
   ]
  },
  {
   "cell_type": "markdown",
   "id": "57979ff7",
   "metadata": {},
   "source": [
    "<div class=\"alert alert-block alert-success\">\n",
    "<b>Reviewer's comment</b> <a class=\"tocSkip\"></a>\n",
    "\n",
    "Correct.\n",
    "</div>"
   ]
  },
  {
   "cell_type": "code",
   "execution_count": 13,
   "id": "986d4d36",
   "metadata": {},
   "outputs": [
    {
     "data": {
      "text/html": [
       "<div>\n",
       "<style scoped>\n",
       "    .dataframe tbody tr th:only-of-type {\n",
       "        vertical-align: middle;\n",
       "    }\n",
       "\n",
       "    .dataframe tbody tr th {\n",
       "        vertical-align: top;\n",
       "    }\n",
       "\n",
       "    .dataframe thead th {\n",
       "        text-align: right;\n",
       "    }\n",
       "</style>\n",
       "<table border=\"1\" class=\"dataframe\">\n",
       "  <thead>\n",
       "    <tr style=\"text-align: right;\">\n",
       "      <th></th>\n",
       "      <th>year_of_release</th>\n",
       "      <th>na_sales</th>\n",
       "      <th>eu_sales</th>\n",
       "      <th>jp_sales</th>\n",
       "      <th>other_sales</th>\n",
       "      <th>critic_score</th>\n",
       "      <th>user_score</th>\n",
       "    </tr>\n",
       "  </thead>\n",
       "  <tbody>\n",
       "    <tr>\n",
       "      <th>count</th>\n",
       "      <td>14070.000000</td>\n",
       "      <td>14070.000000</td>\n",
       "      <td>14070.000000</td>\n",
       "      <td>14070.000000</td>\n",
       "      <td>14070.000000</td>\n",
       "      <td>6927.000000</td>\n",
       "      <td>7463.000000</td>\n",
       "    </tr>\n",
       "    <tr>\n",
       "      <th>mean</th>\n",
       "      <td>2006.321535</td>\n",
       "      <td>0.287485</td>\n",
       "      <td>0.163215</td>\n",
       "      <td>0.091262</td>\n",
       "      <td>0.052944</td>\n",
       "      <td>70.248737</td>\n",
       "      <td>7.126330</td>\n",
       "    </tr>\n",
       "    <tr>\n",
       "      <th>std</th>\n",
       "      <td>6.175711</td>\n",
       "      <td>0.879698</td>\n",
       "      <td>0.543980</td>\n",
       "      <td>0.334464</td>\n",
       "      <td>0.202114</td>\n",
       "      <td>13.868657</td>\n",
       "      <td>1.499447</td>\n",
       "    </tr>\n",
       "    <tr>\n",
       "      <th>min</th>\n",
       "      <td>1980.000000</td>\n",
       "      <td>0.000000</td>\n",
       "      <td>0.000000</td>\n",
       "      <td>0.000000</td>\n",
       "      <td>0.000000</td>\n",
       "      <td>13.000000</td>\n",
       "      <td>0.000000</td>\n",
       "    </tr>\n",
       "    <tr>\n",
       "      <th>25%</th>\n",
       "      <td>2003.000000</td>\n",
       "      <td>0.000000</td>\n",
       "      <td>0.000000</td>\n",
       "      <td>0.000000</td>\n",
       "      <td>0.000000</td>\n",
       "      <td>62.000000</td>\n",
       "      <td>6.400000</td>\n",
       "    </tr>\n",
       "    <tr>\n",
       "      <th>50%</th>\n",
       "      <td>2007.000000</td>\n",
       "      <td>0.080000</td>\n",
       "      <td>0.030000</td>\n",
       "      <td>0.000000</td>\n",
       "      <td>0.010000</td>\n",
       "      <td>72.000000</td>\n",
       "      <td>7.500000</td>\n",
       "    </tr>\n",
       "    <tr>\n",
       "      <th>75%</th>\n",
       "      <td>2011.000000</td>\n",
       "      <td>0.260000</td>\n",
       "      <td>0.130000</td>\n",
       "      <td>0.050000</td>\n",
       "      <td>0.040000</td>\n",
       "      <td>80.000000</td>\n",
       "      <td>8.200000</td>\n",
       "    </tr>\n",
       "    <tr>\n",
       "      <th>max</th>\n",
       "      <td>2016.000000</td>\n",
       "      <td>41.360000</td>\n",
       "      <td>28.960000</td>\n",
       "      <td>10.220000</td>\n",
       "      <td>10.570000</td>\n",
       "      <td>98.000000</td>\n",
       "      <td>9.700000</td>\n",
       "    </tr>\n",
       "  </tbody>\n",
       "</table>\n",
       "</div>"
      ],
      "text/plain": [
       "       year_of_release      na_sales      eu_sales      jp_sales  \\\n",
       "count     14070.000000  14070.000000  14070.000000  14070.000000   \n",
       "mean       2006.321535      0.287485      0.163215      0.091262   \n",
       "std           6.175711      0.879698      0.543980      0.334464   \n",
       "min        1980.000000      0.000000      0.000000      0.000000   \n",
       "25%        2003.000000      0.000000      0.000000      0.000000   \n",
       "50%        2007.000000      0.080000      0.030000      0.000000   \n",
       "75%        2011.000000      0.260000      0.130000      0.050000   \n",
       "max        2016.000000     41.360000     28.960000     10.220000   \n",
       "\n",
       "        other_sales  critic_score   user_score  \n",
       "count  14070.000000   6927.000000  7463.000000  \n",
       "mean       0.052944     70.248737     7.126330  \n",
       "std        0.202114     13.868657     1.499447  \n",
       "min        0.000000     13.000000     0.000000  \n",
       "25%        0.000000     62.000000     6.400000  \n",
       "50%        0.010000     72.000000     7.500000  \n",
       "75%        0.040000     80.000000     8.200000  \n",
       "max       10.570000     98.000000     9.700000  "
      ]
     },
     "execution_count": 13,
     "metadata": {},
     "output_type": "execute_result"
    }
   ],
   "source": [
    "df.describe()"
   ]
  },
  {
   "cell_type": "code",
   "execution_count": 14,
   "id": "d5183e49",
   "metadata": {},
   "outputs": [
    {
     "data": {
      "text/plain": [
       "0"
      ]
     },
     "execution_count": 14,
     "metadata": {},
     "output_type": "execute_result"
    }
   ],
   "source": [
    "df['rating'] = df['rating'].fillna('unknown')\n",
    "df['rating'].isna().sum()"
   ]
  },
  {
   "cell_type": "code",
   "execution_count": 15,
   "id": "ad5948bc",
   "metadata": {},
   "outputs": [
    {
     "data": {
      "text/html": [
       "<div>\n",
       "<style scoped>\n",
       "    .dataframe tbody tr th:only-of-type {\n",
       "        vertical-align: middle;\n",
       "    }\n",
       "\n",
       "    .dataframe tbody tr th {\n",
       "        vertical-align: top;\n",
       "    }\n",
       "\n",
       "    .dataframe thead th {\n",
       "        text-align: right;\n",
       "    }\n",
       "</style>\n",
       "<table border=\"1\" class=\"dataframe\">\n",
       "  <thead>\n",
       "    <tr style=\"text-align: right;\">\n",
       "      <th></th>\n",
       "      <th>name</th>\n",
       "      <th>platform</th>\n",
       "      <th>year_of_release</th>\n",
       "      <th>genre</th>\n",
       "      <th>na_sales</th>\n",
       "      <th>eu_sales</th>\n",
       "      <th>jp_sales</th>\n",
       "      <th>other_sales</th>\n",
       "      <th>critic_score</th>\n",
       "      <th>user_score</th>\n",
       "      <th>rating</th>\n",
       "    </tr>\n",
       "  </thead>\n",
       "  <tbody>\n",
       "    <tr>\n",
       "      <th>0</th>\n",
       "      <td>Wii Sports</td>\n",
       "      <td>Wii</td>\n",
       "      <td>2006.0</td>\n",
       "      <td>Sports</td>\n",
       "      <td>41.36</td>\n",
       "      <td>28.96</td>\n",
       "      <td>3.77</td>\n",
       "      <td>8.45</td>\n",
       "      <td>76.0</td>\n",
       "      <td>8.0</td>\n",
       "      <td>E</td>\n",
       "    </tr>\n",
       "    <tr>\n",
       "      <th>1</th>\n",
       "      <td>Super Mario Bros.</td>\n",
       "      <td>NES</td>\n",
       "      <td>1985.0</td>\n",
       "      <td>Platform</td>\n",
       "      <td>29.08</td>\n",
       "      <td>3.58</td>\n",
       "      <td>6.81</td>\n",
       "      <td>0.77</td>\n",
       "      <td>NaN</td>\n",
       "      <td>NaN</td>\n",
       "      <td>unknown</td>\n",
       "    </tr>\n",
       "    <tr>\n",
       "      <th>2</th>\n",
       "      <td>Mario Kart Wii</td>\n",
       "      <td>Wii</td>\n",
       "      <td>2008.0</td>\n",
       "      <td>Racing</td>\n",
       "      <td>15.68</td>\n",
       "      <td>12.76</td>\n",
       "      <td>3.79</td>\n",
       "      <td>3.29</td>\n",
       "      <td>82.0</td>\n",
       "      <td>8.3</td>\n",
       "      <td>E</td>\n",
       "    </tr>\n",
       "    <tr>\n",
       "      <th>3</th>\n",
       "      <td>Wii Sports Resort</td>\n",
       "      <td>Wii</td>\n",
       "      <td>2009.0</td>\n",
       "      <td>Sports</td>\n",
       "      <td>15.61</td>\n",
       "      <td>10.93</td>\n",
       "      <td>3.28</td>\n",
       "      <td>2.95</td>\n",
       "      <td>80.0</td>\n",
       "      <td>8.0</td>\n",
       "      <td>E</td>\n",
       "    </tr>\n",
       "    <tr>\n",
       "      <th>4</th>\n",
       "      <td>Pokemon Red/Pokemon Blue</td>\n",
       "      <td>GB</td>\n",
       "      <td>1996.0</td>\n",
       "      <td>Role-Playing</td>\n",
       "      <td>11.27</td>\n",
       "      <td>8.89</td>\n",
       "      <td>10.22</td>\n",
       "      <td>1.00</td>\n",
       "      <td>NaN</td>\n",
       "      <td>NaN</td>\n",
       "      <td>unknown</td>\n",
       "    </tr>\n",
       "  </tbody>\n",
       "</table>\n",
       "</div>"
      ],
      "text/plain": [
       "                       name platform  year_of_release         genre  na_sales  \\\n",
       "0                Wii Sports      Wii           2006.0        Sports     41.36   \n",
       "1         Super Mario Bros.      NES           1985.0      Platform     29.08   \n",
       "2            Mario Kart Wii      Wii           2008.0        Racing     15.68   \n",
       "3         Wii Sports Resort      Wii           2009.0        Sports     15.61   \n",
       "4  Pokemon Red/Pokemon Blue       GB           1996.0  Role-Playing     11.27   \n",
       "\n",
       "   eu_sales  jp_sales  other_sales  critic_score  user_score   rating  \n",
       "0     28.96      3.77         8.45          76.0         8.0        E  \n",
       "1      3.58      6.81         0.77           NaN         NaN  unknown  \n",
       "2     12.76      3.79         3.29          82.0         8.3        E  \n",
       "3     10.93      3.28         2.95          80.0         8.0        E  \n",
       "4      8.89     10.22         1.00           NaN         NaN  unknown  "
      ]
     },
     "execution_count": 15,
     "metadata": {},
     "output_type": "execute_result"
    }
   ],
   "source": [
    "df.head()"
   ]
  },
  {
   "cell_type": "code",
   "execution_count": 16,
   "id": "29ccdf7d",
   "metadata": {},
   "outputs": [
    {
     "data": {
      "text/html": [
       "<div>\n",
       "<style scoped>\n",
       "    .dataframe tbody tr th:only-of-type {\n",
       "        vertical-align: middle;\n",
       "    }\n",
       "\n",
       "    .dataframe tbody tr th {\n",
       "        vertical-align: top;\n",
       "    }\n",
       "\n",
       "    .dataframe thead th {\n",
       "        text-align: right;\n",
       "    }\n",
       "</style>\n",
       "<table border=\"1\" class=\"dataframe\">\n",
       "  <thead>\n",
       "    <tr style=\"text-align: right;\">\n",
       "      <th></th>\n",
       "      <th>name</th>\n",
       "      <th>platform</th>\n",
       "      <th>year_of_release</th>\n",
       "      <th>genre</th>\n",
       "      <th>na_sales</th>\n",
       "      <th>eu_sales</th>\n",
       "      <th>jp_sales</th>\n",
       "      <th>other_sales</th>\n",
       "      <th>critic_score</th>\n",
       "      <th>user_score</th>\n",
       "      <th>rating</th>\n",
       "      <th>total_sales</th>\n",
       "    </tr>\n",
       "  </thead>\n",
       "  <tbody>\n",
       "    <tr>\n",
       "      <th>0</th>\n",
       "      <td>Wii Sports</td>\n",
       "      <td>Wii</td>\n",
       "      <td>2006.0</td>\n",
       "      <td>Sports</td>\n",
       "      <td>41.36</td>\n",
       "      <td>28.96</td>\n",
       "      <td>3.77</td>\n",
       "      <td>8.45</td>\n",
       "      <td>76.0</td>\n",
       "      <td>8.0</td>\n",
       "      <td>E</td>\n",
       "      <td>82.54</td>\n",
       "    </tr>\n",
       "    <tr>\n",
       "      <th>1</th>\n",
       "      <td>Super Mario Bros.</td>\n",
       "      <td>NES</td>\n",
       "      <td>1985.0</td>\n",
       "      <td>Platform</td>\n",
       "      <td>29.08</td>\n",
       "      <td>3.58</td>\n",
       "      <td>6.81</td>\n",
       "      <td>0.77</td>\n",
       "      <td>NaN</td>\n",
       "      <td>NaN</td>\n",
       "      <td>unknown</td>\n",
       "      <td>40.24</td>\n",
       "    </tr>\n",
       "    <tr>\n",
       "      <th>2</th>\n",
       "      <td>Mario Kart Wii</td>\n",
       "      <td>Wii</td>\n",
       "      <td>2008.0</td>\n",
       "      <td>Racing</td>\n",
       "      <td>15.68</td>\n",
       "      <td>12.76</td>\n",
       "      <td>3.79</td>\n",
       "      <td>3.29</td>\n",
       "      <td>82.0</td>\n",
       "      <td>8.3</td>\n",
       "      <td>E</td>\n",
       "      <td>35.52</td>\n",
       "    </tr>\n",
       "    <tr>\n",
       "      <th>3</th>\n",
       "      <td>Wii Sports Resort</td>\n",
       "      <td>Wii</td>\n",
       "      <td>2009.0</td>\n",
       "      <td>Sports</td>\n",
       "      <td>15.61</td>\n",
       "      <td>10.93</td>\n",
       "      <td>3.28</td>\n",
       "      <td>2.95</td>\n",
       "      <td>80.0</td>\n",
       "      <td>8.0</td>\n",
       "      <td>E</td>\n",
       "      <td>32.77</td>\n",
       "    </tr>\n",
       "    <tr>\n",
       "      <th>4</th>\n",
       "      <td>Pokemon Red/Pokemon Blue</td>\n",
       "      <td>GB</td>\n",
       "      <td>1996.0</td>\n",
       "      <td>Role-Playing</td>\n",
       "      <td>11.27</td>\n",
       "      <td>8.89</td>\n",
       "      <td>10.22</td>\n",
       "      <td>1.00</td>\n",
       "      <td>NaN</td>\n",
       "      <td>NaN</td>\n",
       "      <td>unknown</td>\n",
       "      <td>31.38</td>\n",
       "    </tr>\n",
       "  </tbody>\n",
       "</table>\n",
       "</div>"
      ],
      "text/plain": [
       "                       name platform  year_of_release         genre  na_sales  \\\n",
       "0                Wii Sports      Wii           2006.0        Sports     41.36   \n",
       "1         Super Mario Bros.      NES           1985.0      Platform     29.08   \n",
       "2            Mario Kart Wii      Wii           2008.0        Racing     15.68   \n",
       "3         Wii Sports Resort      Wii           2009.0        Sports     15.61   \n",
       "4  Pokemon Red/Pokemon Blue       GB           1996.0  Role-Playing     11.27   \n",
       "\n",
       "   eu_sales  jp_sales  other_sales  critic_score  user_score   rating  \\\n",
       "0     28.96      3.77         8.45          76.0         8.0        E   \n",
       "1      3.58      6.81         0.77           NaN         NaN  unknown   \n",
       "2     12.76      3.79         3.29          82.0         8.3        E   \n",
       "3     10.93      3.28         2.95          80.0         8.0        E   \n",
       "4      8.89     10.22         1.00           NaN         NaN  unknown   \n",
       "\n",
       "   total_sales  \n",
       "0        82.54  \n",
       "1        40.24  \n",
       "2        35.52  \n",
       "3        32.77  \n",
       "4        31.38  "
      ]
     },
     "execution_count": 16,
     "metadata": {},
     "output_type": "execute_result"
    }
   ],
   "source": [
    "df['total_sales'] = df[['na_sales', 'eu_sales', 'jp_sales', 'other_sales']].apply(lambda x: x.sum(), axis=1)\n",
    "df.head()"
   ]
  },
  {
   "cell_type": "markdown",
   "id": "05ffb65e",
   "metadata": {},
   "source": [
    "<div class=\"alert alert-block alert-success\">\n",
    "<b>Reviewer's comment</b> <a class=\"tocSkip\"></a>\n",
    "\n",
    "Pro tip: we can perform column-wise sum: df['total_sales'] = df['na_sales'] + df['eu_sales'] + ...\n",
    "</div>"
   ]
  },
  {
   "cell_type": "markdown",
   "id": "3192ca37",
   "metadata": {},
   "source": [
    "<div class=\"alert alert-info\" role=\"alert\">\n",
    "\n",
    "I did drop the rows in year_of_release. I did not think 1.5% of data would be too significant if it were missing. Also, since the precleaned data is still in the variable 'data', I can use that if I need to later in the project. \n",
    "\n",
    "I used the mean to replace missing values for the critic score and user score columns. Also added the skipna parameter to skip over those replaced values. This way I can compute the column without sacrificing the other data within those rows. \n",
    "\n",
    "For rating column, I simply changed the missing values to unknown. Again, so that I would not have to drop the data in the rest of the row. \n",
    "\n",
    "Note: This concludes the data cleaning for step 2 of the project. Next will be calculating the sales. Some of the previos steps are out of order. I hope you don't mind that. I still came out with the same result. \n",
    "    </div>"
   ]
  },
  {
   "cell_type": "code",
   "execution_count": 17,
   "id": "c2f224df",
   "metadata": {},
   "outputs": [
    {
     "data": {
      "text/plain": [
       "1980.0       9\n",
       "1981.0      46\n",
       "1982.0      36\n",
       "1983.0      17\n",
       "1984.0      14\n",
       "1985.0      14\n",
       "1986.0      21\n",
       "1987.0      16\n",
       "1988.0      15\n",
       "1989.0      17\n",
       "1990.0      16\n",
       "1991.0      41\n",
       "1992.0      43\n",
       "1993.0      62\n",
       "1994.0     121\n",
       "1995.0     219\n",
       "1996.0     263\n",
       "1997.0     288\n",
       "1998.0     379\n",
       "1999.0     330\n",
       "2000.0     307\n",
       "2001.0     400\n",
       "2002.0     637\n",
       "2003.0     680\n",
       "2004.0     655\n",
       "2005.0     818\n",
       "2006.0     882\n",
       "2007.0    1005\n",
       "2008.0    1101\n",
       "2009.0    1021\n",
       "2010.0     924\n",
       "2011.0     919\n",
       "2012.0     629\n",
       "2013.0     529\n",
       "2014.0     560\n",
       "2015.0     568\n",
       "2016.0     468\n",
       "Name: year_of_release, dtype: int64"
      ]
     },
     "execution_count": 17,
     "metadata": {},
     "output_type": "execute_result"
    }
   ],
   "source": [
    "# Step 3. Analyzing the data\n",
    "\n",
    "# Look at how many games were released in different years. Is the data for every period significant?\n",
    "games_per_year = df['year_of_release'].value_counts().sort_index()\n",
    "games_per_year"
   ]
  },
  {
   "cell_type": "code",
   "execution_count": 18,
   "id": "63f4a0b0",
   "metadata": {},
   "outputs": [
    {
     "data": {
      "image/png": "[encoded data removed]",
      "text/plain": [
       "<Figure size 432x288 with 1 Axes>"
      ]
     },
     "metadata": {
      "needs_background": "light"
     },
     "output_type": "display_data"
    }
   ],
   "source": [
    "plt.hist(df['year_of_release'].dropna().astype(int), bins=38, range=(1980, 2017))\n",
    "plt.xlabel('Year of Release')\n",
    "plt.ylabel('Number of Games Released')\n",
    "plt.title('Distribution of Number of Games Released by Year')\n",
    "plt.show()"
   ]
  },
  {
   "cell_type": "markdown",
   "id": "0b32e274",
   "metadata": {},
   "source": [
    "<div class=\"alert alert-info\" role=\"alert\">\n",
    "\n",
    "There is an increase in games released in the mid to late 1990s. However, the most significant increase is from the mid to late 2010s. \n",
    "    </div>"
   ]
  },
  {
   "cell_type": "code",
   "execution_count": 19,
   "id": "7e4e6f86",
   "metadata": {},
   "outputs": [
    {
     "data": {
      "text/plain": [
       "['PS2', 'X360', 'PS3', 'Wii', 'PS', 'DS', 'PS4', 'PSP', 'GBA', 'GB']"
      ]
     },
     "execution_count": 19,
     "metadata": {},
     "output_type": "execute_result"
    }
   ],
   "source": [
    "#Look at how sales varied from platform to platform. Choose the platforms with the greatest total sales and \n",
    "#build a distribution based on data for each year. Find platforms that used to be popular but now have zero sales. \n",
    "#How long does it generally take for new platforms to appear and old ones to fade?\n",
    "\n",
    "sales_by_platform = df.groupby('platform')['total_sales'].sum()\n",
    "top_platforms = sales_by_platform.nlargest(10).index.tolist()\n",
    "df_top_platforms = df[df['platform'].isin(top_platforms)]\n",
    "\n",
    "top_platforms"
   ]
  },
  {
   "cell_type": "code",
   "execution_count": 20,
   "id": "ac1e1f4e",
   "metadata": {},
   "outputs": [
    {
     "data": {
      "text/plain": [
       "platform\n",
       "PS2     1171.19\n",
       "X360     948.74\n",
       "PS3      921.09\n",
       "Wii      791.91\n",
       "PS       714.26\n",
       "DS       655.36\n",
       "PS4      314.00\n",
       "PSP      273.11\n",
       "GBA      263.70\n",
       "GB       254.43\n",
       "3DS      253.24\n",
       "PC       252.25\n",
       "NES      251.05\n",
       "XB       236.38\n",
       "N64      218.01\n",
       "SNES     200.04\n",
       "GC       185.68\n",
       "XOne     158.77\n",
       "2600      86.48\n",
       "WiiU      81.79\n",
       "PSV       53.50\n",
       "SAT       33.59\n",
       "GEN       30.77\n",
       "DC        15.95\n",
       "SCD        1.86\n",
       "NG         1.44\n",
       "WS         1.42\n",
       "TG16       0.16\n",
       "3DO        0.10\n",
       "GG         0.04\n",
       "PCFX       0.03\n",
       "Name: total_sales, dtype: float64"
      ]
     },
     "execution_count": 20,
     "metadata": {},
     "output_type": "execute_result"
    }
   ],
   "source": [
    "ps = df.groupby('platform')['total_sales'].sum().sort_values(ascending=False)\n",
    "ps"
   ]
  },
  {
   "cell_type": "code",
   "execution_count": 21,
   "id": "be2cd4f6",
   "metadata": {},
   "outputs": [
    {
     "data": {
      "image/png": "[encoded data removed]",
      "text/plain": [
       "<Figure size 432x288 with 1 Axes>"
      ]
     },
     "metadata": {
      "needs_background": "light"
     },
     "output_type": "display_data"
    }
   ],
   "source": [
    "for platform in top_platforms:\n",
    "    platform_data = df_top_platforms[df_top_platforms['platform'] == platform]\n",
    "    plt.hist(platform_data['year_of_release'], bins=20, weights=platform_data['total_sales'], alpha=0.5, label=platform)\n",
    "\n",
    "\n",
    "plt.title('Distribution of Total Sales by Year for Top Platforms')\n",
    "plt.xlabel('Year of Release')\n",
    "plt.ylabel('Total Sales')\n",
    "plt.legend()\n",
    "plt.show()"
   ]
  },
  {
   "cell_type": "markdown",
   "id": "8bb97e76",
   "metadata": {},
   "source": [
    "<div class=\"alert alert-block alert-success\">\n",
    "<b>Reviewer's comment</b> <a class=\"tocSkip\"></a>\n",
    "\n",
    "Good graph.\n",
    "</div>"
   ]
  },
  {
   "cell_type": "code",
   "execution_count": 22,
   "id": "7dbebd25",
   "metadata": {},
   "outputs": [
    {
     "data": {
      "text/plain": [
       "platform\n",
       "3DS    -27.97\n",
       "PC      -8.03\n",
       "PS3    -44.24\n",
       "PS4    -30.85\n",
       "PSP       NaN\n",
       "PSV     -7.66\n",
       "Wii       NaN\n",
       "WiiU   -17.71\n",
       "X360   -32.55\n",
       "XOne   -28.25\n",
       "dtype: float64"
      ]
     },
     "execution_count": 22,
     "metadata": {},
     "output_type": "execute_result"
    }
   ],
   "source": [
    "# Determine what period you should take data for. To do so, look at your answers to the previous questions. \n",
    "# The data should allow you to build a prognosis for 2017.\n",
    "# Work only with the data that you've decided is relevant. Disregard the data for previous years.\n",
    "# Which platforms are leading in sales? Which ones are growing or shrinking? Select several potentially profitable platforms.\n",
    "\n",
    "last_3_years = df[(df['year_of_release'] >= 2014) & (df['year_of_release'] <= 2016)]\n",
    "platform_sales = last_3_years.groupby('platform')['total_sales'].sum().sort_values(ascending=False)\n",
    "platform_yearly_sales = last_3_years.groupby(['platform', 'year_of_release'])['total_sales'].sum().unstack()\n",
    "platform_growth = platform_yearly_sales[2016] - platform_yearly_sales[2014]\n",
    "\n",
    "platform_growth"
   ]
  },
  {
   "cell_type": "markdown",
   "id": "47982359",
   "metadata": {},
   "source": [
    "<div class=\"alert alert-info\" role=\"alert\">\n",
    "\n",
    "Students Comment:\n",
    "    \n",
    "The data change significantly as expected when I looked at the past three years of sales. \n",
    "    </div>"
   ]
  },
  {
   "cell_type": "markdown",
   "id": "9f31aa07",
   "metadata": {},
   "source": [
    "<div class=\"alert alert-block alert-success\">\n",
    "<b>Reviewer's comment</b> <a class=\"tocSkip\"></a>\n",
    "\n",
    "Well done.\n",
    "</div>"
   ]
  },
  {
   "cell_type": "code",
   "execution_count": 24,
   "id": "0f240d0d",
   "metadata": {},
   "outputs": [
    {
     "data": {
      "text/plain": [
       "platform\n",
       "PC      26\n",
       "GB      13\n",
       "NES     12\n",
       "X360    12\n",
       "PSP     12\n",
       "PS2     12\n",
       "DS      11\n",
       "PS3     11\n",
       "2600    10\n",
       "Wii     10\n",
       "Name: year_of_release, dtype: int64"
      ]
     },
     "execution_count": 24,
     "metadata": {},
     "output_type": "execute_result"
    }
   ],
   "source": [
    "platform_active_years = df.groupby('platform')['year_of_release'].nunique().sort_values(ascending=False)\n",
    "platform_active_years.head(10)"
   ]
  },
  {
   "cell_type": "code",
   "execution_count": 25,
   "id": "e37fc655",
   "metadata": {},
   "outputs": [
    {
     "data": {
      "text/plain": [
       "7.65"
      ]
     },
     "execution_count": 25,
     "metadata": {},
     "output_type": "execute_result"
    }
   ],
   "source": [
    "platform_active_years = round(platform_active_years.mean(), 2)\n",
    "platform_active_years"
   ]
  },
  {
   "cell_type": "code",
   "execution_count": 26,
   "id": "d7403993",
   "metadata": {},
   "outputs": [
    {
     "data": {
      "text/plain": [
       "count    10.000000\n",
       "mean     10.300000\n",
       "std       2.626785\n",
       "min       4.000000\n",
       "25%      10.000000\n",
       "50%      11.000000\n",
       "75%      12.000000\n",
       "max      13.000000\n",
       "Name: year_of_release, dtype: float64"
      ]
     },
     "execution_count": 26,
     "metadata": {},
     "output_type": "execute_result"
    }
   ],
   "source": [
    "top_10_platforms = ['PS2', 'X360', 'PS3', 'Wii', 'PS', 'DS', 'PS4', 'PSP', 'GBA', 'GB']\n",
    "platform_active_years = df[df['platform'].isin(top_10_platforms)]\n",
    "platform_active_years = platform_active_years.groupby('platform')['year_of_release'].nunique().sort_values(ascending=False)\n",
    "platform_active_years.describe()"
   ]
  },
  {
   "cell_type": "code",
   "execution_count": 27,
   "id": "367d9d2c",
   "metadata": {},
   "outputs": [
    {
     "data": {
      "text/plain": [
       "platform\n",
       "PSV     -7.66\n",
       "PC      -8.03\n",
       "WiiU   -17.71\n",
       "3DS    -27.97\n",
       "XOne   -28.25\n",
       "PS4    -30.85\n",
       "X360   -32.55\n",
       "PS3    -44.24\n",
       "PSP       NaN\n",
       "Wii       NaN\n",
       "dtype: float64"
      ]
     },
     "execution_count": 27,
     "metadata": {},
     "output_type": "execute_result"
    }
   ],
   "source": [
    "platform_growth = platform_yearly_sales[2016] - platform_yearly_sales[2014]\n",
    "platform_growth = platform_growth.sort_values(ascending=False)\n",
    "platform_growth"
   ]
  },
  {
   "cell_type": "code",
   "execution_count": 28,
   "id": "c7c69712",
   "metadata": {},
   "outputs": [
    {
     "data": {
      "text/plain": [
       "platform\n",
       "PSV     -7.66\n",
       "PC      -8.03\n",
       "WiiU   -17.71\n",
       "3DS    -27.97\n",
       "XOne   -28.25\n",
       "dtype: float64"
      ]
     },
     "execution_count": 28,
     "metadata": {},
     "output_type": "execute_result"
    }
   ],
   "source": [
    "platform_growth = platform_growth.nlargest()\n",
    "platform_growth"
   ]
  },
  {
   "cell_type": "markdown",
   "id": "dd701c7c",
   "metadata": {},
   "source": [
    "<div class=\"alert alert-info\" role=\"alert\">\n",
    "Determine what period you should take data for. To do so, look at answers to the previous questions. \n",
    "The data should allow you to build a prognosis for 2017.\n",
    "Work only with the data that you've decided is relevant. Disregard the data for previous years.\n",
    "Which platforms are leading in sales? Which ones are growing or shrinking? Select several potentially profitable platforms.\n",
    "    \n",
    "First, I changed the year from 2012 to 2013 in the variable platform_growth because PS4 was released in 2013. With PS4 being the newest platform, and needing a prognosis for 2017, it needed to be included. \n",
    "\n",
    "The code above shows the \"top\" platforms from the years with WiiU having the biggest lost. However, the first platform_growth variable shows PS3 and Xbox 360 to be the platforms with the greatest shrinking, outside of the ones that are no longer on the market. The reason is obviously those companies want to promote the newest version of thos consoles: XOne and PS4.    \n",
    "    </div>"
   ]
  },
  {
   "cell_type": "markdown",
   "id": "9f102ed4",
   "metadata": {},
   "source": [
    "<div class=\"alert alert-block alert-success\">\n",
    "<b>Reviewer's comment</b> <a class=\"tocSkip\"></a>\n",
    "\n",
    "Good conclusion.\n",
    "</div>"
   ]
  },
  {
   "cell_type": "markdown",
   "id": "88bdcda6",
   "metadata": {},
   "source": [
    "<div class=\"alert alert-info\" role=\"alert\">\n",
    "    \n",
    "Using the last 3 years instead of last 5, the \"top\" platforms are now PSV and PC. Even with PS4 being relatively new to the market, it shows how quick the turn around is for new gaming consoles. In the previous data we saw PS4 to have over 40 million in sales, while now it shows lost after only removing one previous year.     \n",
    "    \n",
    "    \n",
    "   </div>"
   ]
  },
  {
   "cell_type": "markdown",
   "id": "53c4b548",
   "metadata": {},
   "source": [
    "<div class=\"alert alert-block alert-success\">\n",
    "<b>Reviewer's comment</b> <a class=\"tocSkip\"></a>\n",
    "\n",
    "Nice.\n",
    "</div>"
   ]
  },
  {
   "cell_type": "code",
   "execution_count": 29,
   "id": "22d3ca4b",
   "metadata": {},
   "outputs": [
    {
     "data": {
      "image/png": "[encoded data removed]",
      "text/plain": [
       "<Figure size 432x288 with 1 Axes>"
      ]
     },
     "metadata": {
      "needs_background": "light"
     },
     "output_type": "display_data"
    }
   ],
   "source": [
    "# Build a box plot for the global sales of all games, broken down by platform. \n",
    "# Are the differences in sales significant? What about average sales on various platforms? Describe your findings.\n",
    "\n",
    "plt.boxplot(platform_growth)\n",
    "plt.title('Total Sales by Platform')\n",
    "plt.ylabel('Total Sales (millions)')\n",
    "plt.show()"
   ]
  },
  {
   "cell_type": "code",
   "execution_count": 30,
   "id": "69532308",
   "metadata": {},
   "outputs": [
    {
     "data": {
      "image/png": "[encoded data removed]",
      "text/plain": [
       "<Figure size 720x432 with 1 Axes>"
      ]
     },
     "metadata": {
      "needs_background": "light"
     },
     "output_type": "display_data"
    }
   ],
   "source": [
    "fig, ax = plt.subplots(figsize=(10,6))\n",
    "ax.boxplot([df[df['platform'] == p]['total_sales'] for p in platform_growth.index])\n",
    "ax.set_xticklabels(platform_growth.index)\n",
    "ax.set_title('Total Sales by Platform')\n",
    "ax.set_ylabel('Total Sales (millions)')\n",
    "plt.show()"
   ]
  },
  {
   "cell_type": "code",
   "execution_count": 31,
   "id": "c417544e",
   "metadata": {},
   "outputs": [
    {
     "data": {
      "text/plain": [
       "count     5.000000\n",
       "mean    -17.924000\n",
       "std      10.134534\n",
       "min     -28.250000\n",
       "25%     -27.970000\n",
       "50%     -17.710000\n",
       "75%      -8.030000\n",
       "max      -7.660000\n",
       "dtype: float64"
      ]
     },
     "execution_count": 31,
     "metadata": {},
     "output_type": "execute_result"
    }
   ],
   "source": [
    "platform_growth.describe()"
   ]
  },
  {
   "cell_type": "markdown",
   "id": "0c36f9b9",
   "metadata": {},
   "source": [
    "<div class=\"alert alert-info\" role=\"alert\">\n",
    "    \n",
    "The differences in sales is significant. Above in the summary statistics, we can see the standard deviation is quite high at 10.134534.\n",
    "    </div>"
   ]
  },
  {
   "cell_type": "code",
   "execution_count": 32,
   "id": "6b03f6aa",
   "metadata": {},
   "outputs": [
    {
     "data": {
      "image/png": "[encoded data removed]",
      "text/plain": [
       "<Figure size 432x288 with 1 Axes>"
      ]
     },
     "metadata": {
      "needs_background": "light"
     },
     "output_type": "display_data"
    },
    {
     "name": "stdout",
     "output_type": "stream",
     "text": [
      "Correlation between user scores and sales: -0.031957110204556424\n"
     ]
    }
   ],
   "source": [
    "# Take a look at how user and professional reviews affect sales for one popular platform (you choose). \n",
    "# Build a scatter plot and calculate the correlation between reviews and sales. Draw conclusions.\n",
    "\n",
    "ps4_data = df[df['platform'] == 'PS4']\n",
    "\n",
    "plt.scatter(ps4_data['user_score'], ps4_data['total_sales'])\n",
    "plt.title('PS4: User Score vs Sales')\n",
    "plt.xlabel('User Score')\n",
    "plt.ylabel('Total Sales (millions)')\n",
    "plt.show()\n",
    "\n",
    "user_score_corr = ps4_data['user_score'].corr(ps4_data['total_sales'])\n",
    "print('Correlation between user scores and sales:', user_score_corr)"
   ]
  },
  {
   "cell_type": "code",
   "execution_count": 33,
   "id": "536db840",
   "metadata": {},
   "outputs": [
    {
     "data": {
      "image/png": "[encoded data removed]",
      "text/plain": [
       "<Figure size 432x288 with 1 Axes>"
      ]
     },
     "metadata": {
      "needs_background": "light"
     },
     "output_type": "display_data"
    },
    {
     "name": "stdout",
     "output_type": "stream",
     "text": [
      "Correlation between critic scores and sales: 0.4064685741971657\n"
     ]
    }
   ],
   "source": [
    "plt.scatter(ps4_data['critic_score'], ps4_data['total_sales'])\n",
    "plt.title('PS4: Critic Score vs Sales')\n",
    "plt.xlabel('Critic Score')\n",
    "plt.ylabel('Total Sales (millions)')\n",
    "plt.show()\n",
    "\n",
    "user_score_corr = ps4_data['critic_score'].corr(ps4_data['total_sales'])\n",
    "print('Correlation between critic scores and sales:', user_score_corr)"
   ]
  },
  {
   "cell_type": "markdown",
   "id": "5436dd58",
   "metadata": {},
   "source": [
    "<div class=\"alert alert-info\" role=\"alert\">\n",
    "User score nor critic score are good indicators of how PS4 performed. Which is a top performer in total sales in the given dataset.\n",
    "    </div>"
   ]
  },
  {
   "cell_type": "markdown",
   "id": "28036e7c",
   "metadata": {},
   "source": [
    "<div class=\"alert alert-block alert-success\">\n",
    "<b>Reviewer's comment</b> <a class=\"tocSkip\"></a>\n",
    "\n",
    "Well done.\n",
    "</div>"
   ]
  },
  {
   "cell_type": "code",
   "execution_count": 34,
   "id": "a71f2a75",
   "metadata": {},
   "outputs": [
    {
     "data": {
      "text/plain": [
       "name\n",
       "Wii Sports                        82.54\n",
       "Grand Theft Auto V                56.58\n",
       "Super Mario Bros.                 45.31\n",
       "Tetris                            35.84\n",
       "Mario Kart Wii                    35.52\n",
       "Wii Sports Resort                 32.77\n",
       "Pokemon Red/Pokemon Blue          31.38\n",
       "Call of Duty: Modern Warfare 3    30.60\n",
       "New Super Mario Bros.             29.80\n",
       "Call of Duty: Black Ops II        29.40\n",
       "Name: total_sales, dtype: float64"
      ]
     },
     "execution_count": 34,
     "metadata": {},
     "output_type": "execute_result"
    }
   ],
   "source": [
    "# Keeping your conclusions in mind, compare the sales of the same games on other platforms.\n",
    "\n",
    "game_sales = df.groupby('name')['total_sales'].sum().sort_values(ascending=False)\n",
    "top_games = game_sales.head(10)\n",
    "\n",
    "top_games"
   ]
  },
  {
   "cell_type": "code",
   "execution_count": 35,
   "id": "3cdf11e3",
   "metadata": {},
   "outputs": [
    {
     "data": {
      "text/html": [
       "<div>\n",
       "<style scoped>\n",
       "    .dataframe tbody tr th:only-of-type {\n",
       "        vertical-align: middle;\n",
       "    }\n",
       "\n",
       "    .dataframe tbody tr th {\n",
       "        vertical-align: top;\n",
       "    }\n",
       "\n",
       "    .dataframe thead th {\n",
       "        text-align: right;\n",
       "    }\n",
       "</style>\n",
       "<table border=\"1\" class=\"dataframe\">\n",
       "  <thead>\n",
       "    <tr style=\"text-align: right;\">\n",
       "      <th></th>\n",
       "      <th>name</th>\n",
       "      <th>platform</th>\n",
       "      <th>year_of_release</th>\n",
       "      <th>genre</th>\n",
       "      <th>na_sales</th>\n",
       "      <th>eu_sales</th>\n",
       "      <th>jp_sales</th>\n",
       "      <th>other_sales</th>\n",
       "      <th>critic_score</th>\n",
       "      <th>user_score</th>\n",
       "      <th>rating</th>\n",
       "      <th>total_sales</th>\n",
       "    </tr>\n",
       "  </thead>\n",
       "  <tbody>\n",
       "    <tr>\n",
       "      <th>16</th>\n",
       "      <td>Grand Theft Auto V</td>\n",
       "      <td>PS3</td>\n",
       "      <td>2013.0</td>\n",
       "      <td>Action</td>\n",
       "      <td>7.02</td>\n",
       "      <td>9.09</td>\n",
       "      <td>0.98</td>\n",
       "      <td>3.96</td>\n",
       "      <td>97.0</td>\n",
       "      <td>8.2</td>\n",
       "      <td>M</td>\n",
       "      <td>21.05</td>\n",
       "    </tr>\n",
       "    <tr>\n",
       "      <th>23</th>\n",
       "      <td>Grand Theft Auto V</td>\n",
       "      <td>X360</td>\n",
       "      <td>2013.0</td>\n",
       "      <td>Action</td>\n",
       "      <td>9.66</td>\n",
       "      <td>5.14</td>\n",
       "      <td>0.06</td>\n",
       "      <td>1.41</td>\n",
       "      <td>97.0</td>\n",
       "      <td>8.1</td>\n",
       "      <td>M</td>\n",
       "      <td>16.27</td>\n",
       "    </tr>\n",
       "    <tr>\n",
       "      <th>42</th>\n",
       "      <td>Grand Theft Auto V</td>\n",
       "      <td>PS4</td>\n",
       "      <td>2014.0</td>\n",
       "      <td>Action</td>\n",
       "      <td>3.96</td>\n",
       "      <td>6.31</td>\n",
       "      <td>0.38</td>\n",
       "      <td>1.97</td>\n",
       "      <td>97.0</td>\n",
       "      <td>8.3</td>\n",
       "      <td>M</td>\n",
       "      <td>12.62</td>\n",
       "    </tr>\n",
       "    <tr>\n",
       "      <th>165</th>\n",
       "      <td>Grand Theft Auto V</td>\n",
       "      <td>XOne</td>\n",
       "      <td>2014.0</td>\n",
       "      <td>Action</td>\n",
       "      <td>2.81</td>\n",
       "      <td>2.19</td>\n",
       "      <td>0.00</td>\n",
       "      <td>0.47</td>\n",
       "      <td>97.0</td>\n",
       "      <td>7.9</td>\n",
       "      <td>M</td>\n",
       "      <td>5.47</td>\n",
       "    </tr>\n",
       "    <tr>\n",
       "      <th>1730</th>\n",
       "      <td>Grand Theft Auto V</td>\n",
       "      <td>PC</td>\n",
       "      <td>2015.0</td>\n",
       "      <td>Action</td>\n",
       "      <td>0.39</td>\n",
       "      <td>0.69</td>\n",
       "      <td>0.00</td>\n",
       "      <td>0.09</td>\n",
       "      <td>96.0</td>\n",
       "      <td>7.9</td>\n",
       "      <td>M</td>\n",
       "      <td>1.17</td>\n",
       "    </tr>\n",
       "  </tbody>\n",
       "</table>\n",
       "</div>"
      ],
      "text/plain": [
       "                    name platform  year_of_release   genre  na_sales  \\\n",
       "16    Grand Theft Auto V      PS3           2013.0  Action      7.02   \n",
       "23    Grand Theft Auto V     X360           2013.0  Action      9.66   \n",
       "42    Grand Theft Auto V      PS4           2014.0  Action      3.96   \n",
       "165   Grand Theft Auto V     XOne           2014.0  Action      2.81   \n",
       "1730  Grand Theft Auto V       PC           2015.0  Action      0.39   \n",
       "\n",
       "      eu_sales  jp_sales  other_sales  critic_score  user_score rating  \\\n",
       "16        9.09      0.98         3.96          97.0         8.2      M   \n",
       "23        5.14      0.06         1.41          97.0         8.1      M   \n",
       "42        6.31      0.38         1.97          97.0         8.3      M   \n",
       "165       2.19      0.00         0.47          97.0         7.9      M   \n",
       "1730      0.69      0.00         0.09          96.0         7.9      M   \n",
       "\n",
       "      total_sales  \n",
       "16          21.05  \n",
       "23          16.27  \n",
       "42          12.62  \n",
       "165          5.47  \n",
       "1730         1.17  "
      ]
     },
     "execution_count": 35,
     "metadata": {},
     "output_type": "execute_result"
    }
   ],
   "source": [
    "GTA = df[df['name'] == 'Grand Theft Auto V']\n",
    "GTA"
   ]
  },
  {
   "cell_type": "code",
   "execution_count": 36,
   "id": "7bf7c433",
   "metadata": {},
   "outputs": [
    {
     "data": {
      "text/html": [
       "<div>\n",
       "<style scoped>\n",
       "    .dataframe tbody tr th:only-of-type {\n",
       "        vertical-align: middle;\n",
       "    }\n",
       "\n",
       "    .dataframe tbody tr th {\n",
       "        vertical-align: top;\n",
       "    }\n",
       "\n",
       "    .dataframe thead th {\n",
       "        text-align: right;\n",
       "    }\n",
       "</style>\n",
       "<table border=\"1\" class=\"dataframe\">\n",
       "  <thead>\n",
       "    <tr style=\"text-align: right;\">\n",
       "      <th></th>\n",
       "      <th>name</th>\n",
       "      <th>platform</th>\n",
       "      <th>year_of_release</th>\n",
       "      <th>genre</th>\n",
       "      <th>na_sales</th>\n",
       "      <th>eu_sales</th>\n",
       "      <th>jp_sales</th>\n",
       "      <th>other_sales</th>\n",
       "      <th>critic_score</th>\n",
       "      <th>user_score</th>\n",
       "      <th>rating</th>\n",
       "      <th>total_sales</th>\n",
       "    </tr>\n",
       "  </thead>\n",
       "  <tbody>\n",
       "    <tr>\n",
       "      <th>42</th>\n",
       "      <td>Grand Theft Auto V</td>\n",
       "      <td>PS4</td>\n",
       "      <td>2014.0</td>\n",
       "      <td>Action</td>\n",
       "      <td>3.96</td>\n",
       "      <td>6.31</td>\n",
       "      <td>0.38</td>\n",
       "      <td>1.97</td>\n",
       "      <td>97.0</td>\n",
       "      <td>8.3</td>\n",
       "      <td>M</td>\n",
       "      <td>12.62</td>\n",
       "    </tr>\n",
       "    <tr>\n",
       "      <th>165</th>\n",
       "      <td>Grand Theft Auto V</td>\n",
       "      <td>XOne</td>\n",
       "      <td>2014.0</td>\n",
       "      <td>Action</td>\n",
       "      <td>2.81</td>\n",
       "      <td>2.19</td>\n",
       "      <td>0.00</td>\n",
       "      <td>0.47</td>\n",
       "      <td>97.0</td>\n",
       "      <td>7.9</td>\n",
       "      <td>M</td>\n",
       "      <td>5.47</td>\n",
       "    </tr>\n",
       "    <tr>\n",
       "      <th>1730</th>\n",
       "      <td>Grand Theft Auto V</td>\n",
       "      <td>PC</td>\n",
       "      <td>2015.0</td>\n",
       "      <td>Action</td>\n",
       "      <td>0.39</td>\n",
       "      <td>0.69</td>\n",
       "      <td>0.00</td>\n",
       "      <td>0.09</td>\n",
       "      <td>96.0</td>\n",
       "      <td>7.9</td>\n",
       "      <td>M</td>\n",
       "      <td>1.17</td>\n",
       "    </tr>\n",
       "  </tbody>\n",
       "</table>\n",
       "</div>"
      ],
      "text/plain": [
       "                    name platform  year_of_release   genre  na_sales  \\\n",
       "42    Grand Theft Auto V      PS4           2014.0  Action      3.96   \n",
       "165   Grand Theft Auto V     XOne           2014.0  Action      2.81   \n",
       "1730  Grand Theft Auto V       PC           2015.0  Action      0.39   \n",
       "\n",
       "      eu_sales  jp_sales  other_sales  critic_score  user_score rating  \\\n",
       "42        6.31      0.38         1.97          97.0         8.3      M   \n",
       "165       2.19      0.00         0.47          97.0         7.9      M   \n",
       "1730      0.69      0.00         0.09          96.0         7.9      M   \n",
       "\n",
       "      total_sales  \n",
       "42          12.62  \n",
       "165          5.47  \n",
       "1730         1.17  "
      ]
     },
     "execution_count": 36,
     "metadata": {},
     "output_type": "execute_result"
    }
   ],
   "source": [
    "top_5_platforms = ['PS4', 'XOne', 'PSV', 'PC', 'Wiiu']\n",
    "\n",
    "GTA = df[(df['name'] == 'Grand Theft Auto V') & (df['platform'].isin(top_5_platforms))]\n",
    "GTA"
   ]
  },
  {
   "cell_type": "code",
   "execution_count": 37,
   "id": "cee39f5d",
   "metadata": {},
   "outputs": [
    {
     "data": {
      "image/png": "[encoded data removed]",
      "text/plain": [
       "<Figure size 432x288 with 1 Axes>"
      ]
     },
     "metadata": {
      "needs_background": "light"
     },
     "output_type": "display_data"
    }
   ],
   "source": [
    "GTA_sales = GTA.groupby('platform')['total_sales'].sum()\n",
    "plt.bar(GTA_sales.index, GTA_sales.values)\n",
    "plt.title('Total Sales for Grand Theft Auto V on Different Platforms')\n",
    "plt.xlabel('Platform')\n",
    "plt.ylabel('Total Sales (millions)')\n",
    "plt.show()"
   ]
  },
  {
   "cell_type": "markdown",
   "id": "646457c8",
   "metadata": {},
   "source": [
    "<div class=\"alert alert-info\" role=\"alert\">\n",
    "Grand Theft Auto V ranked 2nd in total sales. Yet, we can see those sales more than doubled on the PS4 platform vs XOne, and approx 12x more than PC. \n",
    "    </div>"
   ]
  },
  {
   "cell_type": "code",
   "execution_count": 38,
   "id": "aabdf738",
   "metadata": {},
   "outputs": [
    {
     "data": {
      "text/html": [
       "<div>\n",
       "<style scoped>\n",
       "    .dataframe tbody tr th:only-of-type {\n",
       "        vertical-align: middle;\n",
       "    }\n",
       "\n",
       "    .dataframe tbody tr th {\n",
       "        vertical-align: top;\n",
       "    }\n",
       "\n",
       "    .dataframe thead th {\n",
       "        text-align: right;\n",
       "    }\n",
       "</style>\n",
       "<table border=\"1\" class=\"dataframe\">\n",
       "  <thead>\n",
       "    <tr style=\"text-align: right;\">\n",
       "      <th></th>\n",
       "      <th>name</th>\n",
       "      <th>platform</th>\n",
       "      <th>year_of_release</th>\n",
       "      <th>genre</th>\n",
       "      <th>na_sales</th>\n",
       "      <th>eu_sales</th>\n",
       "      <th>jp_sales</th>\n",
       "      <th>other_sales</th>\n",
       "      <th>critic_score</th>\n",
       "      <th>user_score</th>\n",
       "      <th>rating</th>\n",
       "      <th>total_sales</th>\n",
       "    </tr>\n",
       "  </thead>\n",
       "  <tbody>\n",
       "    <tr>\n",
       "      <th>0</th>\n",
       "      <td>Wii Sports</td>\n",
       "      <td>Wii</td>\n",
       "      <td>2006.0</td>\n",
       "      <td>Sports</td>\n",
       "      <td>41.36</td>\n",
       "      <td>28.96</td>\n",
       "      <td>3.77</td>\n",
       "      <td>8.45</td>\n",
       "      <td>76.0</td>\n",
       "      <td>8.0</td>\n",
       "      <td>E</td>\n",
       "      <td>82.54</td>\n",
       "    </tr>\n",
       "    <tr>\n",
       "      <th>1</th>\n",
       "      <td>Super Mario Bros.</td>\n",
       "      <td>NES</td>\n",
       "      <td>1985.0</td>\n",
       "      <td>Platform</td>\n",
       "      <td>29.08</td>\n",
       "      <td>3.58</td>\n",
       "      <td>6.81</td>\n",
       "      <td>0.77</td>\n",
       "      <td>NaN</td>\n",
       "      <td>NaN</td>\n",
       "      <td>unknown</td>\n",
       "      <td>40.24</td>\n",
       "    </tr>\n",
       "    <tr>\n",
       "      <th>2</th>\n",
       "      <td>Mario Kart Wii</td>\n",
       "      <td>Wii</td>\n",
       "      <td>2008.0</td>\n",
       "      <td>Racing</td>\n",
       "      <td>15.68</td>\n",
       "      <td>12.76</td>\n",
       "      <td>3.79</td>\n",
       "      <td>3.29</td>\n",
       "      <td>82.0</td>\n",
       "      <td>8.3</td>\n",
       "      <td>E</td>\n",
       "      <td>35.52</td>\n",
       "    </tr>\n",
       "    <tr>\n",
       "      <th>3</th>\n",
       "      <td>Wii Sports Resort</td>\n",
       "      <td>Wii</td>\n",
       "      <td>2009.0</td>\n",
       "      <td>Sports</td>\n",
       "      <td>15.61</td>\n",
       "      <td>10.93</td>\n",
       "      <td>3.28</td>\n",
       "      <td>2.95</td>\n",
       "      <td>80.0</td>\n",
       "      <td>8.0</td>\n",
       "      <td>E</td>\n",
       "      <td>32.77</td>\n",
       "    </tr>\n",
       "    <tr>\n",
       "      <th>4</th>\n",
       "      <td>Pokemon Red/Pokemon Blue</td>\n",
       "      <td>GB</td>\n",
       "      <td>1996.0</td>\n",
       "      <td>Role-Playing</td>\n",
       "      <td>11.27</td>\n",
       "      <td>8.89</td>\n",
       "      <td>10.22</td>\n",
       "      <td>1.00</td>\n",
       "      <td>NaN</td>\n",
       "      <td>NaN</td>\n",
       "      <td>unknown</td>\n",
       "      <td>31.38</td>\n",
       "    </tr>\n",
       "  </tbody>\n",
       "</table>\n",
       "</div>"
      ],
      "text/plain": [
       "                       name platform  year_of_release         genre  na_sales  \\\n",
       "0                Wii Sports      Wii           2006.0        Sports     41.36   \n",
       "1         Super Mario Bros.      NES           1985.0      Platform     29.08   \n",
       "2            Mario Kart Wii      Wii           2008.0        Racing     15.68   \n",
       "3         Wii Sports Resort      Wii           2009.0        Sports     15.61   \n",
       "4  Pokemon Red/Pokemon Blue       GB           1996.0  Role-Playing     11.27   \n",
       "\n",
       "   eu_sales  jp_sales  other_sales  critic_score  user_score   rating  \\\n",
       "0     28.96      3.77         8.45          76.0         8.0        E   \n",
       "1      3.58      6.81         0.77           NaN         NaN  unknown   \n",
       "2     12.76      3.79         3.29          82.0         8.3        E   \n",
       "3     10.93      3.28         2.95          80.0         8.0        E   \n",
       "4      8.89     10.22         1.00           NaN         NaN  unknown   \n",
       "\n",
       "   total_sales  \n",
       "0        82.54  \n",
       "1        40.24  \n",
       "2        35.52  \n",
       "3        32.77  \n",
       "4        31.38  "
      ]
     },
     "execution_count": 38,
     "metadata": {},
     "output_type": "execute_result"
    }
   ],
   "source": [
    "#Take a look at the general distribution of games by genre. What can we say about the most profitable genres? \n",
    "#Can you generalize about genres with high and low sales?\n",
    "\n",
    "df.head()"
   ]
  },
  {
   "cell_type": "code",
   "execution_count": 39,
   "id": "532e9b36",
   "metadata": {},
   "outputs": [
    {
     "data": {
      "text/plain": [
       "genre\n",
       "Action          1648.51\n",
       "Sports          1227.54\n",
       "Shooter         1033.94\n",
       "Role-Playing     927.63\n",
       "Platform         798.01\n",
       "Misc             692.98\n",
       "Racing           688.81\n",
       "Fighting         437.04\n",
       "Simulation       331.88\n",
       "Puzzle           208.07\n",
       "Adventure        203.52\n",
       "Strategy         169.99\n",
       "Name: total_sales, dtype: float64"
      ]
     },
     "execution_count": 39,
     "metadata": {},
     "output_type": "execute_result"
    }
   ],
   "source": [
    "genre_sales = df.groupby('genre')['total_sales'].sum().sort_values(ascending=False)\n",
    "genre_sales"
   ]
  },
  {
   "cell_type": "code",
   "execution_count": 40,
   "id": "bda17d11",
   "metadata": {},
   "outputs": [
    {
     "data": {
      "text/plain": [
       "genre\n",
       "Action          1648.51\n",
       "Sports          1227.54\n",
       "Shooter         1033.94\n",
       "Role-Playing     927.63\n",
       "Platform         798.01\n",
       "Name: total_sales, dtype: float64"
      ]
     },
     "execution_count": 40,
     "metadata": {},
     "output_type": "execute_result"
    }
   ],
   "source": [
    "genre_sales_top_5 = genre_sales.nlargest()\n",
    "genre_sales_top_5"
   ]
  },
  {
   "cell_type": "code",
   "execution_count": 41,
   "id": "d4b295e2",
   "metadata": {},
   "outputs": [
    {
     "data": {
      "text/plain": [
       "['Action', 'Sports', 'Shooter', 'Role-Playing', 'Platform']"
      ]
     },
     "execution_count": 41,
     "metadata": {},
     "output_type": "execute_result"
    }
   ],
   "source": [
    "genre_sales_top_5 = genre_sales.nlargest().index.tolist()\n",
    "genre_sales_top_5"
   ]
  },
  {
   "cell_type": "code",
   "execution_count": 42,
   "id": "0eff48e1",
   "metadata": {},
   "outputs": [
    {
     "data": {
      "image/png": "[encoded data removed]",
      "text/plain": [
       "<Figure size 432x288 with 1 Axes>"
      ]
     },
     "metadata": {
      "needs_background": "light"
     },
     "output_type": "display_data"
    }
   ],
   "source": [
    "df_top_genres = df[df['genre'].isin(genre_sales_top_5)]\n",
    "\n",
    "plt.hist(df_top_genres['genre'], bins=20, weights=df_top_genres['total_sales'])\n",
    "plt.title('Sales by Genre')\n",
    "plt.xlabel('Genre')\n",
    "plt.ylabel('Total Sales')\n",
    "plt.show()"
   ]
  },
  {
   "cell_type": "code",
   "execution_count": 43,
   "id": "df9308d7",
   "metadata": {},
   "outputs": [
    {
     "data": {
      "text/plain": [
       "genre\n",
       "Strategy      169.99\n",
       "Adventure     203.52\n",
       "Puzzle        208.07\n",
       "Simulation    331.88\n",
       "Fighting      437.04\n",
       "Name: total_sales, dtype: float64"
      ]
     },
     "execution_count": 43,
     "metadata": {},
     "output_type": "execute_result"
    }
   ],
   "source": [
    "genre_sales_bottom_5 = genre_sales.nsmallest()\n",
    "genre_sales_bottom_5"
   ]
  },
  {
   "cell_type": "code",
   "execution_count": 44,
   "id": "4341ed90",
   "metadata": {},
   "outputs": [
    {
     "data": {
      "image/png": "[encoded data removed]",
      "text/plain": [
       "<Figure size 432x288 with 1 Axes>"
      ]
     },
     "metadata": {
      "needs_background": "light"
     },
     "output_type": "display_data"
    }
   ],
   "source": [
    "genre_sales_bottom_5 = genre_sales.nsmallest().index.tolist()\n",
    "\n",
    "df_bottom_genres = df[df['genre'].isin(genre_sales_bottom_5)]\n",
    "\n",
    "plt.hist(df_bottom_genres['genre'], bins=20, weights=df_bottom_genres['total_sales'])\n",
    "plt.title('Sales by Genre')\n",
    "plt.xlabel('Genre')\n",
    "plt.ylabel('Total Sales')\n",
    "plt.show()"
   ]
  },
  {
   "cell_type": "markdown",
   "id": "322cb24c",
   "metadata": {},
   "source": [
    "<div class=\"alert alert-info\" role=\"alert\">\n",
    "    \n",
    "The most profitable genres are action and sports while strategy and adventure had the lowest sales. It is hard to generalize why these particular genres do good or bad.    \n",
    "    \n",
    "   </div>"
   ]
  },
  {
   "cell_type": "markdown",
   "id": "8c489796",
   "metadata": {},
   "source": [
    "<div class=\"alert alert-block alert-success\">\n",
    "<b>Reviewer's comment</b> <a class=\"tocSkip\"></a>\n",
    "\n",
    "Good job.\n",
    "</div>"
   ]
  },
  {
   "cell_type": "code",
   "execution_count": 45,
   "id": "0ff2906e",
   "metadata": {},
   "outputs": [
    {
     "data": {
      "text/plain": [
       "array(['E', 'unknown', 'M', 'T', 'E10+', 'K-A', 'AO', 'EC', 'RP'],\n",
       "      dtype=object)"
      ]
     },
     "execution_count": 45,
     "metadata": {},
     "output_type": "execute_result"
    }
   ],
   "source": [
    "# Step 4. Create a user profile for each region\n",
    "# For each region (NA, EU, JP), determine:\n",
    "# The top five platforms. Describe variations in their market shares from region to region.\n",
    "# The top five genres. Explain the difference.\n",
    "# Do ESRB ratings affect sales in individual regions?\n",
    "\n",
    "\n",
    "na_platform = df.groupby('platform')['na_sales'].sum().sort_values(ascending=False).head(5)\n",
    "eu_platform = df.groupby('platform')['eu_sales'].sum().sort_values(ascending=False).head(5)\n",
    "jp_platform = df.groupby('platform')['jp_sales'].sum().sort_values(ascending=False).head(5)\n",
    "\n",
    "na_genres = df.groupby('genre')['na_sales'].sum().sort_values(ascending=False).head(5)\n",
    "eu_genres = df.groupby('genre')['eu_sales'].sum().sort_values(ascending=False).head(5)\n",
    "jp_genres = df.groupby('genre')['jp_sales'].sum().sort_values(ascending=False).head(5)\n",
    "\n",
    "na_ratings = df.groupby('rating')['na_sales'].sum().sort_values(ascending=False)\n",
    "eu_ratings = df.groupby('rating')['eu_sales'].sum().sort_values(ascending=False)\n",
    "jp_ratings = df.groupby('rating')['jp_sales'].sum().sort_values(ascending=False)\n",
    "\n",
    "df['rating'].unique()"
   ]
  },
  {
   "cell_type": "code",
   "execution_count": 46,
   "id": "cb348943",
   "metadata": {},
   "outputs": [
    {
     "data": {
      "image/png": "[encoded data removed]",
      "text/plain": [
       "<Figure size 432x288 with 1 Axes>"
      ]
     },
     "metadata": {
      "needs_background": "light"
     },
     "output_type": "display_data"
    },
    {
     "data": {
      "text/plain": [
       "platform\n",
       "X360    585.84\n",
       "PS2     543.72\n",
       "Wii     412.77\n",
       "PS3     383.80\n",
       "PS      327.29\n",
       "Name: na_sales, dtype: float64"
      ]
     },
     "metadata": {},
     "output_type": "display_data"
    }
   ],
   "source": [
    "# North America Platform Sales\n",
    "\n",
    "plt.bar(na_platform.index, na_platform.values)\n",
    "plt.title('Top Platforms in North America')\n",
    "plt.xlabel('Platform')\n",
    "plt.ylabel('Total Sales (millions)')\n",
    "plt.show()\n",
    "\n",
    "display(na_platform)"
   ]
  },
  {
   "cell_type": "code",
   "execution_count": 47,
   "id": "b5299d28",
   "metadata": {},
   "outputs": [
    {
     "data": {
      "image/png": "[encoded data removed]",
      "text/plain": [
       "<Figure size 432x288 with 1 Axes>"
      ]
     },
     "metadata": {
      "needs_background": "light"
     },
     "output_type": "display_data"
    },
    {
     "data": {
      "text/plain": [
       "genre\n",
       "Action      818.22\n",
       "Sports      616.00\n",
       "Shooter     579.41\n",
       "Platform    426.10\n",
       "Misc        333.65\n",
       "Name: na_sales, dtype: float64"
      ]
     },
     "metadata": {},
     "output_type": "display_data"
    }
   ],
   "source": [
    "# North America Genre Sales\n",
    "\n",
    "plt.bar(na_genres.index, na_genres.values)\n",
    "plt.title('Top Genres in North America')\n",
    "plt.xlabel('Genre')\n",
    "plt.ylabel('Total Sales (millions)')\n",
    "plt.show()\n",
    "\n",
    "display(na_genres)"
   ]
  },
  {
   "cell_type": "code",
   "execution_count": 48,
   "id": "b9609a0e",
   "metadata": {},
   "outputs": [
    {
     "data": {
      "image/png": "[encoded data removed]",
      "text/plain": [
       "<Figure size 432x288 with 1 Axes>"
      ]
     },
     "metadata": {
      "needs_background": "light"
     },
     "output_type": "display_data"
    },
    {
     "name": "stdout",
     "output_type": "stream",
     "text": [
      "Correlation between NA sales and ESRB rating: -0.07704486371940042\n"
     ]
    }
   ],
   "source": [
    "# Map the ESRB rating to an encoded value\n",
    "df['rating_encoded'] = df['rating'].map({'E':1, 'M':2, 'T':3, 'E10+':4, 'K-A':5, 'AO':6, 'EC':7, 'RP':8})\n",
    "\n",
    "# Calculate the correlation between NA sales and encoded ESRB rating\n",
    "na_platform_esrb_corr= df['na_sales'].corr(df['rating_encoded'])\n",
    "\n",
    "# Create a scatter plot with different colors for each ESRB rating\n",
    "plt.scatter(df['rating_encoded'], df['na_sales'], c=df['rating_encoded'], cmap='viridis')\n",
    "\n",
    "# Add a legend to the plot\n",
    "legend_elements = [plt.Line2D([0], [0], marker='o', color='w', label='E',\n",
    "                               markerfacecolor='blue', markersize=10),\n",
    "                   plt.Line2D([0], [0], marker='o', color='w', label='M',\n",
    "                               markerfacecolor='green', markersize=10),\n",
    "                   plt.Line2D([0], [0], marker='o', color='w', label='T',\n",
    "                               markerfacecolor='red', markersize=10),\n",
    "                   plt.Line2D([0], [0], marker='o', color='w', label='E10+',\n",
    "                               markerfacecolor='yellow', markersize=10),\n",
    "                   plt.Line2D([0], [0], marker='o', color='w', label='K-A',\n",
    "                               markerfacecolor='purple', markersize=10),\n",
    "                   plt.Line2D([0], [0], marker='o', color='w', label='AO',\n",
    "                               markerfacecolor='orange', markersize=10),\n",
    "                   plt.Line2D([0], [0], marker='o', color='w', label='EC',\n",
    "                               markerfacecolor='pink', markersize=10),\n",
    "                   plt.Line2D([0], [0], marker='o', color='w', label='RP',\n",
    "                               markerfacecolor='brown', markersize=10)]\n",
    "plt.legend(handles=legend_elements, loc='upper right')\n",
    "\n",
    "# Set plot title and labels\n",
    "plt.title('NA Sales vs Encoded ESRB Rating')\n",
    "plt.xlabel('Encoded ESRB Rating')\n",
    "plt.ylabel('NA Sales (millions)')\n",
    "\n",
    "# Display the plot\n",
    "plt.show()\n",
    "\n",
    "# Print the correlation between NA sales and encoded ESRB rating\n",
    "print('Correlation between NA sales and ESRB rating:', na_platform_esrb_corr)"
   ]
  },
  {
   "cell_type": "code",
   "execution_count": 49,
   "id": "a20ee2cf",
   "metadata": {},
   "outputs": [
    {
     "data": {
      "image/png": "[encoded data removed]",
      "text/plain": [
       "<Figure size 432x288 with 1 Axes>"
      ]
     },
     "metadata": {
      "needs_background": "light"
     },
     "output_type": "display_data"
    },
    {
     "data": {
      "text/plain": [
       "platform\n",
       "PS3     324.88\n",
       "PS2     310.88\n",
       "X360    266.74\n",
       "Wii     241.29\n",
       "PS      207.38\n",
       "Name: eu_sales, dtype: float64"
      ]
     },
     "metadata": {},
     "output_type": "display_data"
    }
   ],
   "source": [
    "# Europe Platform Sales\n",
    "\n",
    "plt.bar(eu_platform.index, eu_platform.values)\n",
    "plt.title('Top Platforms in Europe')\n",
    "plt.xlabel('Platform')\n",
    "plt.ylabel('Total Sales (millions)')\n",
    "plt.show()\n",
    "\n",
    "display(eu_platform)"
   ]
  },
  {
   "cell_type": "code",
   "execution_count": 50,
   "id": "cd5732e4",
   "metadata": {},
   "outputs": [
    {
     "data": {
      "image/png": "[encoded data removed]",
      "text/plain": [
       "<Figure size 432x288 with 1 Axes>"
      ]
     },
     "metadata": {
      "needs_background": "light"
     },
     "output_type": "display_data"
    },
    {
     "data": {
      "text/plain": [
       "genre\n",
       "Action      818.22\n",
       "Sports      616.00\n",
       "Shooter     579.41\n",
       "Platform    426.10\n",
       "Misc        333.65\n",
       "Name: na_sales, dtype: float64"
      ]
     },
     "metadata": {},
     "output_type": "display_data"
    }
   ],
   "source": [
    "# Europe Genre Sales\n",
    "\n",
    "plt.bar(eu_genres.index, eu_genres.values)\n",
    "plt.title('Top Genres in North America')\n",
    "plt.xlabel('Genre')\n",
    "plt.ylabel('Total Sales (millions)')\n",
    "plt.show()\n",
    "\n",
    "display(na_genres)"
   ]
  },
  {
   "cell_type": "code",
   "execution_count": 51,
   "id": "08c468b1",
   "metadata": {},
   "outputs": [
    {
     "data": {
      "image/png": "[encoded data removed]",
      "text/plain": [
       "<Figure size 432x288 with 1 Axes>"
      ]
     },
     "metadata": {
      "needs_background": "light"
     },
     "output_type": "display_data"
    },
    {
     "name": "stdout",
     "output_type": "stream",
     "text": [
      "Correlation between NA sales and ESRB rating: -0.07385435269119789\n"
     ]
    }
   ],
   "source": [
    "eu_platform_esrb_corr= df['eu_sales'].corr(df['rating_encoded'])\n",
    "\n",
    "plt.scatter(df['rating_encoded'], df['eu_sales'], c=df['rating_encoded'], cmap='viridis')\n",
    "\n",
    "legend_elements = [plt.Line2D([0], [0], marker='o', color='w', label='E',\n",
    "                               markerfacecolor='blue', markersize=10),\n",
    "                   plt.Line2D([0], [0], marker='o', color='w', label='M',\n",
    "                               markerfacecolor='green', markersize=10),\n",
    "                   plt.Line2D([0], [0], marker='o', color='w', label='T',\n",
    "                               markerfacecolor='red', markersize=10),\n",
    "                   plt.Line2D([0], [0], marker='o', color='w', label='E10+',\n",
    "                               markerfacecolor='yellow', markersize=10),\n",
    "                   plt.Line2D([0], [0], marker='o', color='w', label='K-A',\n",
    "                               markerfacecolor='purple', markersize=10),\n",
    "                   plt.Line2D([0], [0], marker='o', color='w', label='AO',\n",
    "                               markerfacecolor='orange', markersize=10),\n",
    "                   plt.Line2D([0], [0], marker='o', color='w', label='EC',\n",
    "                               markerfacecolor='pink', markersize=10),\n",
    "                   plt.Line2D([0], [0], marker='o', color='w', label='RP',\n",
    "                               markerfacecolor='brown', markersize=10)]\n",
    "plt.legend(handles=legend_elements, loc='upper right')\n",
    "\n",
    "plt.title('EU Sales vs Encoded ESRB Rating')\n",
    "plt.xlabel('Encoded ESRB Rating')\n",
    "plt.ylabel('EU Sales (millions)')\n",
    "plt.show()\n",
    "\n",
    "\n",
    "print('Correlation between NA sales and ESRB rating:', eu_platform_esrb_corr)"
   ]
  },
  {
   "cell_type": "code",
   "execution_count": 52,
   "id": "1ca0a190",
   "metadata": {},
   "outputs": [
    {
     "data": {
      "image/png": "[encoded data removed]",
      "text/plain": [
       "<Figure size 432x288 with 1 Axes>"
      ]
     },
     "metadata": {
      "needs_background": "light"
     },
     "output_type": "display_data"
    },
    {
     "data": {
      "text/plain": [
       "platform\n",
       "DS      171.54\n",
       "PS      139.78\n",
       "PS2     136.75\n",
       "SNES    116.55\n",
       "3DS     100.39\n",
       "Name: jp_sales, dtype: float64"
      ]
     },
     "metadata": {},
     "output_type": "display_data"
    }
   ],
   "source": [
    "# Japan Platform Sales\n",
    "\n",
    "plt.bar(jp_platform.index, jp_platform.values)\n",
    "plt.title('Top Platforms in Japan')\n",
    "plt.xlabel('Platform')\n",
    "plt.ylabel('Total Sales (millions)')\n",
    "plt.show()\n",
    "\n",
    "display(jp_platform)"
   ]
  },
  {
   "cell_type": "code",
   "execution_count": 53,
   "id": "9b629743",
   "metadata": {},
   "outputs": [
    {
     "data": {
      "image/png": "[encoded data removed]",
      "text/plain": [
       "<Figure size 432x288 with 1 Axes>"
      ]
     },
     "metadata": {
      "needs_background": "light"
     },
     "output_type": "display_data"
    },
    {
     "data": {
      "text/plain": [
       "genre\n",
       "Role-Playing    353.03\n",
       "Action          158.85\n",
       "Sports          134.06\n",
       "Platform        130.49\n",
       "Misc            106.31\n",
       "Name: jp_sales, dtype: float64"
      ]
     },
     "metadata": {},
     "output_type": "display_data"
    }
   ],
   "source": [
    "# Japan Genre Sales\n",
    "\n",
    "plt.bar(jp_genres.index, jp_genres.values)\n",
    "plt.title('Top Genres in Japan')\n",
    "plt.xlabel('Genre')\n",
    "plt.ylabel('Total Sales (millions)')\n",
    "plt.show()\n",
    "\n",
    "display(jp_genres)"
   ]
  },
  {
   "cell_type": "code",
   "execution_count": 54,
   "id": "8d5c7bfc",
   "metadata": {},
   "outputs": [
    {
     "data": {
      "image/png": "[encoded data removed]",
      "text/plain": [
       "<Figure size 432x288 with 1 Axes>"
      ]
     },
     "metadata": {
      "needs_background": "light"
     },
     "output_type": "display_data"
    },
    {
     "name": "stdout",
     "output_type": "stream",
     "text": [
      "Correlation between NA sales and ESRB rating: -0.044559574745634004\n"
     ]
    }
   ],
   "source": [
    "jp_platform_esrb_corr= df['jp_sales'].corr(df['rating_encoded'])\n",
    "\n",
    "plt.scatter(df['rating_encoded'], df['jp_sales'], c=df['rating_encoded'], cmap='viridis')\n",
    "\n",
    "legend_elements = [plt.Line2D([0], [0], marker='o', color='w', label='E',\n",
    "                               markerfacecolor='blue', markersize=10),\n",
    "                   plt.Line2D([0], [0], marker='o', color='w', label='M',\n",
    "                               markerfacecolor='green', markersize=10),\n",
    "                   plt.Line2D([0], [0], marker='o', color='w', label='T',\n",
    "                               markerfacecolor='red', markersize=10),\n",
    "                   plt.Line2D([0], [0], marker='o', color='w', label='E10+',\n",
    "                               markerfacecolor='yellow', markersize=10),\n",
    "                   plt.Line2D([0], [0], marker='o', color='w', label='K-A',\n",
    "                               markerfacecolor='purple', markersize=10),\n",
    "                   plt.Line2D([0], [0], marker='o', color='w', label='AO',\n",
    "                               markerfacecolor='orange', markersize=10),\n",
    "                   plt.Line2D([0], [0], marker='o', color='w', label='EC',\n",
    "                               markerfacecolor='pink', markersize=10),\n",
    "                   plt.Line2D([0], [0], marker='o', color='w', label='RP',\n",
    "                               markerfacecolor='brown', markersize=10)]\n",
    "plt.legend(handles=legend_elements, loc='upper right')\n",
    "\n",
    "plt.title('JP Sales vs Encoded ESRB Rating')\n",
    "plt.xlabel('Encoded ESRB Rating')\n",
    "plt.ylabel('Japan Sales (millions)')\n",
    "plt.show()\n",
    "\n",
    "\n",
    "print('Correlation between NA sales and ESRB rating:', jp_platform_esrb_corr)"
   ]
  },
  {
   "cell_type": "markdown",
   "id": "d7817c4f",
   "metadata": {},
   "source": [
    "<div class=\"alert alert-info\" role=\"alert\">\n",
    "    \n",
    "Genre and platforms are relatively similiar in Europe and North America, with Xbox being more popular in North America and Playstation being more popular in Europe. Japan has the biggest difference in both genre and platform, with DS being the most popular platform and role-playing being the most popular genre. \n",
    "    \n",
    "ESRB ratings do not have a significant effect on sales in individual regions. \n",
    "    </div>"
   ]
  },
  {
   "cell_type": "markdown",
   "id": "3388723e",
   "metadata": {},
   "source": [
    "<div class=\"alert alert-block alert-success\">\n",
    "<b>Reviewer's comment</b> <a class=\"tocSkip\"></a>\n",
    "\n",
    "Well done!\n",
    "</div>"
   ]
  },
  {
   "cell_type": "code",
   "execution_count": 55,
   "id": "e8eb0f3f",
   "metadata": {},
   "outputs": [
    {
     "data": {
      "text/html": [
       "<div>\n",
       "<style scoped>\n",
       "    .dataframe tbody tr th:only-of-type {\n",
       "        vertical-align: middle;\n",
       "    }\n",
       "\n",
       "    .dataframe tbody tr th {\n",
       "        vertical-align: top;\n",
       "    }\n",
       "\n",
       "    .dataframe thead th {\n",
       "        text-align: right;\n",
       "    }\n",
       "</style>\n",
       "<table border=\"1\" class=\"dataframe\">\n",
       "  <thead>\n",
       "    <tr style=\"text-align: right;\">\n",
       "      <th></th>\n",
       "      <th>name</th>\n",
       "      <th>platform</th>\n",
       "      <th>year_of_release</th>\n",
       "      <th>genre</th>\n",
       "      <th>na_sales</th>\n",
       "      <th>eu_sales</th>\n",
       "      <th>jp_sales</th>\n",
       "      <th>other_sales</th>\n",
       "      <th>critic_score</th>\n",
       "      <th>user_score</th>\n",
       "      <th>rating</th>\n",
       "      <th>total_sales</th>\n",
       "      <th>rating_encoded</th>\n",
       "    </tr>\n",
       "  </thead>\n",
       "  <tbody>\n",
       "    <tr>\n",
       "      <th>0</th>\n",
       "      <td>Wii Sports</td>\n",
       "      <td>Wii</td>\n",
       "      <td>2006.0</td>\n",
       "      <td>Sports</td>\n",
       "      <td>41.36</td>\n",
       "      <td>28.96</td>\n",
       "      <td>3.77</td>\n",
       "      <td>8.45</td>\n",
       "      <td>76.0</td>\n",
       "      <td>8.0</td>\n",
       "      <td>E</td>\n",
       "      <td>82.54</td>\n",
       "      <td>1.0</td>\n",
       "    </tr>\n",
       "    <tr>\n",
       "      <th>1</th>\n",
       "      <td>Super Mario Bros.</td>\n",
       "      <td>NES</td>\n",
       "      <td>1985.0</td>\n",
       "      <td>Platform</td>\n",
       "      <td>29.08</td>\n",
       "      <td>3.58</td>\n",
       "      <td>6.81</td>\n",
       "      <td>0.77</td>\n",
       "      <td>NaN</td>\n",
       "      <td>NaN</td>\n",
       "      <td>unknown</td>\n",
       "      <td>40.24</td>\n",
       "      <td>NaN</td>\n",
       "    </tr>\n",
       "    <tr>\n",
       "      <th>2</th>\n",
       "      <td>Mario Kart Wii</td>\n",
       "      <td>Wii</td>\n",
       "      <td>2008.0</td>\n",
       "      <td>Racing</td>\n",
       "      <td>15.68</td>\n",
       "      <td>12.76</td>\n",
       "      <td>3.79</td>\n",
       "      <td>3.29</td>\n",
       "      <td>82.0</td>\n",
       "      <td>8.3</td>\n",
       "      <td>E</td>\n",
       "      <td>35.52</td>\n",
       "      <td>1.0</td>\n",
       "    </tr>\n",
       "    <tr>\n",
       "      <th>3</th>\n",
       "      <td>Wii Sports Resort</td>\n",
       "      <td>Wii</td>\n",
       "      <td>2009.0</td>\n",
       "      <td>Sports</td>\n",
       "      <td>15.61</td>\n",
       "      <td>10.93</td>\n",
       "      <td>3.28</td>\n",
       "      <td>2.95</td>\n",
       "      <td>80.0</td>\n",
       "      <td>8.0</td>\n",
       "      <td>E</td>\n",
       "      <td>32.77</td>\n",
       "      <td>1.0</td>\n",
       "    </tr>\n",
       "    <tr>\n",
       "      <th>4</th>\n",
       "      <td>Pokemon Red/Pokemon Blue</td>\n",
       "      <td>GB</td>\n",
       "      <td>1996.0</td>\n",
       "      <td>Role-Playing</td>\n",
       "      <td>11.27</td>\n",
       "      <td>8.89</td>\n",
       "      <td>10.22</td>\n",
       "      <td>1.00</td>\n",
       "      <td>NaN</td>\n",
       "      <td>NaN</td>\n",
       "      <td>unknown</td>\n",
       "      <td>31.38</td>\n",
       "      <td>NaN</td>\n",
       "    </tr>\n",
       "  </tbody>\n",
       "</table>\n",
       "</div>"
      ],
      "text/plain": [
       "                       name platform  year_of_release         genre  na_sales  \\\n",
       "0                Wii Sports      Wii           2006.0        Sports     41.36   \n",
       "1         Super Mario Bros.      NES           1985.0      Platform     29.08   \n",
       "2            Mario Kart Wii      Wii           2008.0        Racing     15.68   \n",
       "3         Wii Sports Resort      Wii           2009.0        Sports     15.61   \n",
       "4  Pokemon Red/Pokemon Blue       GB           1996.0  Role-Playing     11.27   \n",
       "\n",
       "   eu_sales  jp_sales  other_sales  critic_score  user_score   rating  \\\n",
       "0     28.96      3.77         8.45          76.0         8.0        E   \n",
       "1      3.58      6.81         0.77           NaN         NaN  unknown   \n",
       "2     12.76      3.79         3.29          82.0         8.3        E   \n",
       "3     10.93      3.28         2.95          80.0         8.0        E   \n",
       "4      8.89     10.22         1.00           NaN         NaN  unknown   \n",
       "\n",
       "   total_sales  rating_encoded  \n",
       "0        82.54             1.0  \n",
       "1        40.24             NaN  \n",
       "2        35.52             1.0  \n",
       "3        32.77             1.0  \n",
       "4        31.38             NaN  "
      ]
     },
     "execution_count": 55,
     "metadata": {},
     "output_type": "execute_result"
    }
   ],
   "source": [
    "# Step 5. Test the following hypotheses:\n",
    "#—Average user ratings of the Xbox One and PC platforms are the same.\n",
    "#—Average user ratings for the Action and Sports genres are different.\n",
    "#Set the alpha threshold value yourself.\n",
    "#Explain:\n",
    "#—How you formulated the null and alternative hypotheses\n",
    "#—What significance level you chose to test the hypotheses, and why\n",
    "\n",
    "df.head()"
   ]
  },
  {
   "cell_type": "code",
   "execution_count": 56,
   "id": "dc4d7ed3",
   "metadata": {},
   "outputs": [
    {
     "name": "stdout",
     "output_type": "stream",
     "text": [
      "nan\n",
      "We reject the hypothesis that the average user ratings of Xbox One and PC platforms are the same.\n"
     ]
    }
   ],
   "source": [
    "# Step 5. Test the following hypotheses:\n",
    "#—Average user ratings of the Xbox One and PC platforms are the same.\n",
    "\n",
    "xone_data = df[df['platform'] == 'XOne']['user_score']\n",
    "pc_data = df[df['platform'] == 'PC']['user_score']\n",
    "\n",
    "alpha = 0.05\n",
    "results = stats.ttest_ind(xone_data, pc_data)\n",
    "p_value = results.pvalue\n",
    "\n",
    "print(p_value)\n",
    "\n",
    "if p_value > alpha:\n",
    "    print(\"We fail to reject the hypothesis that the average user ratings of Xbox One and PC platforms are the same.\")\n",
    "else:\n",
    "    print(\"We reject the hypothesis that the average user ratings of Xbox One and PC platforms are the same.\")"
   ]
  },
  {
   "cell_type": "code",
   "execution_count": 57,
   "id": "5fb8eed5",
   "metadata": {},
   "outputs": [
    {
     "name": "stdout",
     "output_type": "stream",
     "text": [
      "54\n",
      "153\n"
     ]
    }
   ],
   "source": [
    "print(xone_data.isnull().sum())\n",
    "print(pc_data.isnull().sum())"
   ]
  },
  {
   "cell_type": "code",
   "execution_count": 58,
   "id": "f80562c7",
   "metadata": {},
   "outputs": [
    {
     "name": "stdout",
     "output_type": "stream",
     "text": [
      "1.3037979620149106e-05\n",
      "We reject the hypothesis that the average user ratings of Xbox One and PC platforms are the same.\n"
     ]
    }
   ],
   "source": [
    "xone_data = df[df['platform'] == 'XOne']['user_score'].dropna()\n",
    "pc_data = df[df['platform'] == 'PC']['user_score'].dropna()\n",
    "\n",
    "alpha = 0.05\n",
    "results = stats.ttest_ind(xone_data, pc_data)\n",
    "p_value = results.pvalue\n",
    "\n",
    "print(p_value)\n",
    "\n",
    "if p_value > alpha:\n",
    "    print(\"We fail to reject the hypothesis that the average user ratings of Xbox One and PC platforms are the same.\")\n",
    "else:\n",
    "    print(\"We reject the hypothesis that the average user ratings of Xbox One and PC platforms are the same.\")"
   ]
  },
  {
   "cell_type": "code",
   "execution_count": 59,
   "id": "c64426d7",
   "metadata": {},
   "outputs": [
    {
     "name": "stdout",
     "output_type": "stream",
     "text": [
      "p-value: 0.07370217419278534\n",
      "We can't reject the hypothesis\n"
     ]
    }
   ],
   "source": [
    "# Step 5. Test the following hypotheses:\n",
    "#—Average user ratings for the Action and Sports genres are different.\n",
    "\n",
    "action = df[df['genre'] == 'Action']['user_score'].dropna()\n",
    "sports = df[df['genre'] == 'Sports']['user_score'].dropna()\n",
    "\n",
    "alpha = 0.05\n",
    "results = stats.ttest_ind(action, sports, equal_var=False)\n",
    "\n",
    "print('p-value:', results.pvalue)\n",
    "\n",
    "if results.pvalue < alpha:\n",
    "    print(\"We reject the hypothesis\")\n",
    "else:\n",
    "    print(\"We can't reject the hypothesis\")"
   ]
  },
  {
   "cell_type": "markdown",
   "id": "c3953ca7",
   "metadata": {},
   "source": [
    "<div class=\"alert alert-info\" role=\"alert\">\n",
    "For the first hypothesis, the null hypothesis is that the average user ratings of the Xbox One and PC platforms are the same, while the alternative hypothesis is that they are different.\n",
    "\n",
    "For the second hypothesis, the null hypothesis is that the average user ratings for the Action and Sports genres are the same, while the alternative hypothesis is that they are different.\n",
    "\n",
    "A significance level of alpha = 0.05 was chosen to test the hypotheses. This means that if the p-value obtained from the test is less than or equal to 0.05, we reject the null hypothesis and conclude that there is evidence to support the alternative hypothesis. If the p-value is greater than 0.05, we fail to reject the null hypothesis and conclude that there is not enough evidence to support the alternative hypothesis. This significance level was chosen because it is commonly used in statistical analysis and provides a balance between making false positive and false negative errors.\n",
    "    </div>"
   ]
  },
  {
   "cell_type": "markdown",
   "id": "a138cc8c",
   "metadata": {},
   "source": [
    "<div class=\"alert alert-block alert-success\">\n",
    "<b>Reviewer's comment</b> <a class=\"tocSkip\"></a>\n",
    "\n",
    "Excellent.\n",
    "</div>"
   ]
  },
  {
   "cell_type": "markdown",
   "id": "5d7084a0",
   "metadata": {},
   "source": [
    "<div class=\"alert alert-info\" role=\"alert\">\n",
    "GENERAL CONCLUSION:\n",
    "\n",
    "Based on the analysis conducted in this project, several insights can be drawn:\n",
    "\n",
    "1. The most popular gaming platforms in North America are Xbox, PlayStation, and Nintendo, while in Europe and Japan, PlayStation and Nintendo dominate the market.\n",
    "\n",
    "2. The most popular gaming genres in terms of total sales are Action, Sports, Shooter, Role-Playing, and Platform. However, the popularity of these genres varies by region. For example, in Japan, Role-Playing games are the most popular, while in North America and Europe, Action and Sports games are the most popular.\n",
    "\n",
    "3. ESRB ratings have the biggest impact on game sales in North America, with games rated \"Mature\" and \"Teen\" selling more than games rated \"Everyone\" or \"Everyone 10+\". However, there is still a negative correlation between ESRB ratings and total sales. \n",
    "\n",
    "4. The average user ratings of Xbox One and PC platforms are significantly different.\n",
    "\n",
    "5. The average user ratings for the Action and Sports genres are not significantly different.\n",
    "\n",
    "These insights can be used by Ice to inform their advertising and marketing strategies for 2017, such as focusing on the most popular platforms and genres in each region and emphasizing those platforms and genres in their marketing. \n",
    "    </div>"
   ]
  },
  {
   "cell_type": "markdown",
   "id": "a292b15d",
   "metadata": {},
   "source": [
    "<div class=\"alert alert-block alert-success\">\n",
    "<b>Reviewer's comment</b> <a class=\"tocSkip\"></a>\n",
    "\n",
    "Great final conclusion!\n",
    "</div>"
   ]
  },
  {
   "cell_type": "markdown",
   "id": "a3d93c85",
   "metadata": {},
   "source": [
    "<div class=\"alert alert-block alert-success\">\n",
    "<b>Overall reviewer's comment v2</b> <a class=\"tocSkip\"></a>\n",
    "\n",
    "Now your project is a true \"A\". Congratulations!\n",
    "\n",
    "Your project has been accepted and you can go to the next sprint!\n",
    "</div>"
   ]
  },
  {
   "cell_type": "code",
   "execution_count": null,
   "id": "134f3b87",
   "metadata": {},
   "outputs": [],
   "source": []
  }
 ],
 "metadata": {
  "kernelspec": {
   "display_name": "Python 3 (ipykernel)",
   "language": "python",
   "name": "python3"
  },
  "language_info": {
   "codemirror_mode": {
    "name": "ipython",
    "version": 3
   },
   "file_extension": ".py",
   "mimetype": "text/x-python",
   "name": "python",
   "nbconvert_exporter": "python",
   "pygments_lexer": "ipython3",
   "version": "3.9.5"
  },
  "toc": {
   "base_numbering": 1,
   "nav_menu": {},
   "number_sections": true,
   "sideBar": true,
   "skip_h1_title": true,
   "title_cell": "Table of Contents",
   "title_sidebar": "Contents",
   "toc_cell": false,
   "toc_position": {},
   "toc_section_display": true,
   "toc_window_display": false
  }
 },
 "nbformat": 4,
 "nbformat_minor": 5
}
