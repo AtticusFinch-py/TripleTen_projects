{
 "cells": [
  {
   "cell_type": "markdown",
   "id": "b9993b63",
   "metadata": {},
   "source": [
    "<div style=\"background-color: #ADD8E6; padding: 20px; border-radius: 10px; box-shadow: 2px 2px 10px grey;\">\n",
    "\n",
    "#### Project Overview: Analysis of Taxi Rides in Chicago\n",
    "\n",
    "**Objective:**  \n",
    "The primary goal of this project was to analyze taxi ride data in Chicago, focusing on two key aspects: the volume of rides for different taxi companies and the distribution of ride drop-offs across various neighborhoods in Chicago. The project involved data manipulation, exploratory data analysis, and hypothesis testing to derive insights about taxi ride patterns.\n",
    "\n",
    "**Data Sources:**\n",
    "\n",
    "- **Taxi Companies and Ride Volumes:**  \n",
    "  This dataset (`project_sql_result_01.csv`) included information on different taxi companies and the number of rides they provided during a specific period in November 2017.\n",
    "\n",
    "- **Neighborhood Drop-Offs:**  \n",
    "  The second dataset (`project_sql_result_04.csv`) detailed the average number of rides ending in different Chicago neighborhoods for November 2017.\n",
    "\n",
    "- **Ride Durations under Different Weather Conditions:**  \n",
    "  A third dataset (`project_sql_result_07.csv`) provided data on rides from the Loop to O'Hare International Airport, including pickup times, weather conditions, and ride durations.\n",
    "\n",
    "**Methodology:**\n",
    "\n",
    "1. **Data Import and Validation:**  \n",
    "   Initially, the datasets were imported and examined for data integrity and correctness of data types.\n",
    "\n",
    "2. **Exploratory Data Analysis:**  \n",
    "   Conducted a detailed analysis of the datasets to identify patterns, specifically focusing on the most popular neighborhoods for taxi drop-offs and the leading taxi companies based on the number of rides.\n",
    "\n",
    "3. **Graphical Representation:**  \n",
    "   Developed visual representations (graphs) to effectively communicate the findings, including identifying the top 10 neighborhoods by drop-off numbers and the comparative analysis of taxi companies based on ride volumes.\n",
    "\n",
    "4. **Hypothesis Testing:**  \n",
    "   Formulated and tested a hypothesis regarding the impact of weather conditions (rainy Saturdays) on the duration of rides from the Loop to O'Hare International Airport. This involved statistical analysis and deciding on an appropriate significance level (alpha).\n",
    "\n",
    "**Key Findings and Conclusions:**\n",
    "\n",
    "- The analysis revealed dominant taxi companies in terms of ride volumes, highlighting Flash Cab and Taxi Affiliation Services as market leaders.\n",
    "- Top neighborhoods for drop-offs included the Loop, River North, and Streeterville, indicative of their popularity as destinations due to factors like central location and high activity levels.\n",
    "- The project also provided insights into the effects of weather conditions on ride durations.\n",
    "\n",
    "**Skills Demonstrated:**\n",
    "\n",
    "- Proficiency in Python for data analysis, including libraries like Pandas and Matplotlib.\n",
    "- Ability to conduct hypothesis testing and interpret statistical results.\n",
    "- Competence in translating complex data into understandable and actionable insights.\n",
    "\n",
    "**Value Delivered:**  \n",
    "This project not only showcases analytical and technical skills but also demonstrates an ability to derive meaningful insights from real-world data, offering valuable information for strategic decision-making in urban transportation and taxi service operations.\n",
    "\n",
    "</div>\n"
   ]
  },
  {
   "cell_type": "code",
   "execution_count": 1,
   "id": "d7f7d01e",
   "metadata": {},
   "outputs": [
    {
     "data": {
      "text/html": [
       "<div>\n",
       "<style scoped>\n",
       "    .dataframe tbody tr th:only-of-type {\n",
       "        vertical-align: middle;\n",
       "    }\n",
       "\n",
       "    .dataframe tbody tr th {\n",
       "        vertical-align: top;\n",
       "    }\n",
       "\n",
       "    .dataframe thead th {\n",
       "        text-align: right;\n",
       "    }\n",
       "</style>\n",
       "<table border=\"1\" class=\"dataframe\">\n",
       "  <thead>\n",
       "    <tr style=\"text-align: right;\">\n",
       "      <th></th>\n",
       "      <th>company_name</th>\n",
       "      <th>trips_amount</th>\n",
       "    </tr>\n",
       "  </thead>\n",
       "  <tbody>\n",
       "    <tr>\n",
       "      <th>0</th>\n",
       "      <td>Flash Cab</td>\n",
       "      <td>19558</td>\n",
       "    </tr>\n",
       "    <tr>\n",
       "      <th>1</th>\n",
       "      <td>Taxi Affiliation Services</td>\n",
       "      <td>11422</td>\n",
       "    </tr>\n",
       "    <tr>\n",
       "      <th>2</th>\n",
       "      <td>Medallion Leasing</td>\n",
       "      <td>10367</td>\n",
       "    </tr>\n",
       "    <tr>\n",
       "      <th>3</th>\n",
       "      <td>Yellow Cab</td>\n",
       "      <td>9888</td>\n",
       "    </tr>\n",
       "    <tr>\n",
       "      <th>4</th>\n",
       "      <td>Taxi Affiliation Service Yellow</td>\n",
       "      <td>9299</td>\n",
       "    </tr>\n",
       "  </tbody>\n",
       "</table>\n",
       "</div>"
      ],
      "text/plain": [
       "                      company_name  trips_amount\n",
       "0                        Flash Cab         19558\n",
       "1        Taxi Affiliation Services         11422\n",
       "2                Medallion Leasing         10367\n",
       "3                       Yellow Cab          9888\n",
       "4  Taxi Affiliation Service Yellow          9299"
      ]
     },
     "execution_count": 1,
     "metadata": {},
     "output_type": "execute_result"
    }
   ],
   "source": [
    "import pandas as pd\n",
    "import matplotlib.pyplot as plt\n",
    "from scipy import stats\n",
    "\n",
    "# Import Files\n",
    "df = pd.read_csv('/datasets/project_sql_result_01.csv')\n",
    "df.head()"
   ]
  },
  {
   "cell_type": "code",
   "execution_count": 2,
   "id": "6720c4b5",
   "metadata": {},
   "outputs": [
    {
     "name": "stdout",
     "output_type": "stream",
     "text": [
      "<class 'pandas.core.frame.DataFrame'>\n",
      "RangeIndex: 64 entries, 0 to 63\n",
      "Data columns (total 2 columns):\n",
      " #   Column        Non-Null Count  Dtype \n",
      "---  ------        --------------  ----- \n",
      " 0   company_name  64 non-null     object\n",
      " 1   trips_amount  64 non-null     int64 \n",
      "dtypes: int64(1), object(1)\n",
      "memory usage: 1.1+ KB\n"
     ]
    }
   ],
   "source": [
    "df.info()"
   ]
  },
  {
   "cell_type": "code",
   "execution_count": 3,
   "id": "7967ff29",
   "metadata": {},
   "outputs": [
    {
     "data": {
      "text/html": [
       "<div>\n",
       "<style scoped>\n",
       "    .dataframe tbody tr th:only-of-type {\n",
       "        vertical-align: middle;\n",
       "    }\n",
       "\n",
       "    .dataframe tbody tr th {\n",
       "        vertical-align: top;\n",
       "    }\n",
       "\n",
       "    .dataframe thead th {\n",
       "        text-align: right;\n",
       "    }\n",
       "</style>\n",
       "<table border=\"1\" class=\"dataframe\">\n",
       "  <thead>\n",
       "    <tr style=\"text-align: right;\">\n",
       "      <th></th>\n",
       "      <th>dropoff_location_name</th>\n",
       "      <th>average_trips</th>\n",
       "    </tr>\n",
       "  </thead>\n",
       "  <tbody>\n",
       "    <tr>\n",
       "      <th>0</th>\n",
       "      <td>Loop</td>\n",
       "      <td>10727.466667</td>\n",
       "    </tr>\n",
       "    <tr>\n",
       "      <th>1</th>\n",
       "      <td>River North</td>\n",
       "      <td>9523.666667</td>\n",
       "    </tr>\n",
       "    <tr>\n",
       "      <th>2</th>\n",
       "      <td>Streeterville</td>\n",
       "      <td>6664.666667</td>\n",
       "    </tr>\n",
       "    <tr>\n",
       "      <th>3</th>\n",
       "      <td>West Loop</td>\n",
       "      <td>5163.666667</td>\n",
       "    </tr>\n",
       "    <tr>\n",
       "      <th>4</th>\n",
       "      <td>O'Hare</td>\n",
       "      <td>2546.900000</td>\n",
       "    </tr>\n",
       "  </tbody>\n",
       "</table>\n",
       "</div>"
      ],
      "text/plain": [
       "  dropoff_location_name  average_trips\n",
       "0                  Loop   10727.466667\n",
       "1           River North    9523.666667\n",
       "2         Streeterville    6664.666667\n",
       "3             West Loop    5163.666667\n",
       "4                O'Hare    2546.900000"
      ]
     },
     "execution_count": 3,
     "metadata": {},
     "output_type": "execute_result"
    }
   ],
   "source": [
    "#Import files\n",
    "df_2 = pd.read_csv('/datasets/project_sql_result_04.csv')\n",
    "\n",
    "#study the data they contain\n",
    "df_2.head()"
   ]
  },
  {
   "cell_type": "code",
   "execution_count": 4,
   "id": "63967a03",
   "metadata": {},
   "outputs": [
    {
     "name": "stdout",
     "output_type": "stream",
     "text": [
      "<class 'pandas.core.frame.DataFrame'>\n",
      "RangeIndex: 64 entries, 0 to 63\n",
      "Data columns (total 2 columns):\n",
      " #   Column        Non-Null Count  Dtype \n",
      "---  ------        --------------  ----- \n",
      " 0   company_name  64 non-null     object\n",
      " 1   trips_amount  64 non-null     int64 \n",
      "dtypes: int64(1), object(1)\n",
      "memory usage: 1.1+ KB\n"
     ]
    }
   ],
   "source": [
    "#study the data they contain\n",
    "df.info()"
   ]
  },
  {
   "cell_type": "code",
   "execution_count": 6,
   "id": "15472a80",
   "metadata": {},
   "outputs": [
    {
     "name": "stdout",
     "output_type": "stream",
     "text": [
      "company_name    0\n",
      "trips_amount    0\n",
      "dtype: int64\n",
      "----------------------------------------\n",
      "dropoff_location_name    0\n",
      "average_trips            0\n",
      "dtype: int64\n"
     ]
    }
   ],
   "source": [
    "#study the data they contain\n",
    "print(df.isnull().sum()) \n",
    "print('-'*40)\n",
    "print(df_2.isnull().sum())"
   ]
  },
  {
   "cell_type": "code",
   "execution_count": 7,
   "id": "23434fee",
   "metadata": {},
   "outputs": [
    {
     "name": "stdout",
     "output_type": "stream",
     "text": [
      "<class 'pandas.core.frame.DataFrame'>\n",
      "RangeIndex: 94 entries, 0 to 93\n",
      "Data columns (total 2 columns):\n",
      " #   Column                 Non-Null Count  Dtype  \n",
      "---  ------                 --------------  -----  \n",
      " 0   dropoff_location_name  94 non-null     object \n",
      " 1   average_trips          94 non-null     float64\n",
      "dtypes: float64(1), object(1)\n",
      "memory usage: 1.6+ KB\n"
     ]
    }
   ],
   "source": [
    "#study the data they contain\n",
    "#make sure the data types are correct\n",
    "\n",
    "trip_amount_df = df\n",
    "dropoffs_df = df_2\n",
    "\n",
    "dropoffs_df['average_trips'] = dropoffs_df['average_trips'].astype(float)\n",
    "dropoffs_df.info()"
   ]
  },
  {
   "cell_type": "markdown",
   "id": "f180830b",
   "metadata": {},
   "source": [
    "<div style=\"background-color: #ADD8E6; padding: 20px; border-radius: 10px; box-shadow: 2px 2px 10px grey;\">\n",
    "Changed average_trips to float since float is the value type in that column. \n",
    "</div>"
   ]
  },
  {
   "cell_type": "code",
   "execution_count": 8,
   "id": "c9a1ca8d",
   "metadata": {},
   "outputs": [
    {
     "data": {
      "text/html": [
       "<div>\n",
       "<style scoped>\n",
       "    .dataframe tbody tr th:only-of-type {\n",
       "        vertical-align: middle;\n",
       "    }\n",
       "\n",
       "    .dataframe tbody tr th {\n",
       "        vertical-align: top;\n",
       "    }\n",
       "\n",
       "    .dataframe thead th {\n",
       "        text-align: right;\n",
       "    }\n",
       "</style>\n",
       "<table border=\"1\" class=\"dataframe\">\n",
       "  <thead>\n",
       "    <tr style=\"text-align: right;\">\n",
       "      <th></th>\n",
       "      <th>dropoff_location_name</th>\n",
       "      <th>average_trips</th>\n",
       "    </tr>\n",
       "  </thead>\n",
       "  <tbody>\n",
       "    <tr>\n",
       "      <th>0</th>\n",
       "      <td>Loop</td>\n",
       "      <td>10727.466667</td>\n",
       "    </tr>\n",
       "    <tr>\n",
       "      <th>1</th>\n",
       "      <td>River North</td>\n",
       "      <td>9523.666667</td>\n",
       "    </tr>\n",
       "    <tr>\n",
       "      <th>2</th>\n",
       "      <td>Streeterville</td>\n",
       "      <td>6664.666667</td>\n",
       "    </tr>\n",
       "    <tr>\n",
       "      <th>3</th>\n",
       "      <td>West Loop</td>\n",
       "      <td>5163.666667</td>\n",
       "    </tr>\n",
       "    <tr>\n",
       "      <th>4</th>\n",
       "      <td>O'Hare</td>\n",
       "      <td>2546.900000</td>\n",
       "    </tr>\n",
       "    <tr>\n",
       "      <th>5</th>\n",
       "      <td>Lake View</td>\n",
       "      <td>2420.966667</td>\n",
       "    </tr>\n",
       "    <tr>\n",
       "      <th>6</th>\n",
       "      <td>Grant Park</td>\n",
       "      <td>2068.533333</td>\n",
       "    </tr>\n",
       "    <tr>\n",
       "      <th>7</th>\n",
       "      <td>Museum Campus</td>\n",
       "      <td>1510.000000</td>\n",
       "    </tr>\n",
       "    <tr>\n",
       "      <th>8</th>\n",
       "      <td>Gold Coast</td>\n",
       "      <td>1364.233333</td>\n",
       "    </tr>\n",
       "    <tr>\n",
       "      <th>9</th>\n",
       "      <td>Sheffield &amp; DePaul</td>\n",
       "      <td>1259.766667</td>\n",
       "    </tr>\n",
       "  </tbody>\n",
       "</table>\n",
       "</div>"
      ],
      "text/plain": [
       "  dropoff_location_name  average_trips\n",
       "0                  Loop   10727.466667\n",
       "1           River North    9523.666667\n",
       "2         Streeterville    6664.666667\n",
       "3             West Loop    5163.666667\n",
       "4                O'Hare    2546.900000\n",
       "5             Lake View    2420.966667\n",
       "6            Grant Park    2068.533333\n",
       "7         Museum Campus    1510.000000\n",
       "8            Gold Coast    1364.233333\n",
       "9    Sheffield & DePaul    1259.766667"
      ]
     },
     "execution_count": 8,
     "metadata": {},
     "output_type": "execute_result"
    }
   ],
   "source": [
    "#identify the top 10 neighborhoods in terms of drop-offs\n",
    "\n",
    "top_10_neighborhoods = dropoffs_df.nlargest(10, 'average_trips')\n",
    "top_10_neighborhoods"
   ]
  },
  {
   "cell_type": "code",
   "execution_count": 9,
   "id": "3bc28591",
   "metadata": {},
   "outputs": [
    {
     "data": {
      "image/png": "[encoded data removed]",
      "text/plain": [
       "<Figure size 720x432 with 1 Axes>"
      ]
     },
     "metadata": {
      "needs_background": "light"
     },
     "output_type": "display_data"
    }
   ],
   "source": [
    "#make graphs: taxi companies and number of rides, top 10 neighborhoods by number of dropoffs\n",
    "\n",
    "# Extract the data from trip_amount_df for the top 20 companies\n",
    "top_20_companies = trip_amount_df.nlargest(20, 'trips_amount')\n",
    "companies = top_20_companies['company_name']\n",
    "rides_amount = top_20_companies['trips_amount']\n",
    "\n",
    "# Create a bar plot\n",
    "plt.figure(figsize=(10, 6))\n",
    "plt.bar(companies, rides_amount)\n",
    "plt.xlabel('Taxi Companies')\n",
    "plt.ylabel('Number of Rides')\n",
    "plt.title('Number of Rides by Top 20 Taxi Companies')\n",
    "plt.xticks(rotation=90)\n",
    "plt.tight_layout()\n",
    "\n",
    "# Show the plot\n",
    "plt.show()"
   ]
  },
  {
   "cell_type": "code",
   "execution_count": 10,
   "id": "9a7e77a8",
   "metadata": {},
   "outputs": [
    {
     "data": {
      "image/png": "[encoded data removed]",
      "text/plain": [
       "<Figure size 720x432 with 1 Axes>"
      ]
     },
     "metadata": {
      "needs_background": "light"
     },
     "output_type": "display_data"
    }
   ],
   "source": [
    "# Extract the data from the top_10_neighborhoods DataFrame\n",
    "neighborhoods = top_10_neighborhoods['dropoff_location_name']\n",
    "dropoff_counts = top_10_neighborhoods['average_trips']\n",
    "\n",
    "# Create a bar plot\n",
    "plt.figure(figsize=(10, 6))\n",
    "plt.barh(neighborhoods, dropoff_counts)\n",
    "plt.xlabel('Number of Drop-offs')\n",
    "plt.ylabel('Neighborhoods')\n",
    "plt.title('Top 10 Neighborhoods by Number of Drop-offs')\n",
    "plt.tight_layout()\n",
    "\n",
    "# Show the plot\n",
    "plt.show()"
   ]
  },
  {
   "cell_type": "markdown",
   "id": "a1d7d73e",
   "metadata": {},
   "source": [
    "<div style=\"background-color: #ADD8E6; padding: 20px; border-radius: 10px; box-shadow: 2px 2px 10px grey;\">\n",
    "\n",
    "### Summary of Taxi Ride Analysis\n",
    "\n",
    "- **Top Taxi Companies:**  \n",
    "  The analysis shows that **Flash Cab** and **Taxi Affiliation Services** have the highest number of rides among the top 20 taxi companies. Their significantly higher ride volumes indicate their popularity and dominance in the market.\n",
    "\n",
    "- **Gradual Decrease in Rides:**  \n",
    "  As we move down the list of companies, there's a noticeable gradual decrease in the number of rides. This trend underscores the market concentration in the hands of the top companies.\n",
    "\n",
    "- **Top Neighborhoods by Number of Drop-offs:**  \n",
    "  The neighborhoods with the highest number of taxi drop-offs are **The Loop**, **River North**, and **Streeterville**, followed by the **West Loop** and **O'Hare**. Their high drop-off counts point towards their popularity as destinations, likely attributed to their central locations and vibrant activity levels encompassing commercial and entertainment areas.\n",
    "\n",
    "- **Significance of O'Hare:**  \n",
    "  O'Hare International Airport, being one of the top neighborhoods for drop-offs, emphasizes its role as a major transportation hub in Chicago.\n",
    "\n",
    "- **Overall Insights:**  \n",
    "  These findings reveal notable patterns and preferences in taxi usage. Flash Cab and Taxi Affiliation Services emerge as leading service providers. Simultaneously, areas like The Loop, River North, and Streeterville are key destinations, highlighting the demand dynamics for taxi services in Chicago. This information is crucial for understanding market needs and planning efficient taxi operations in the city.\n",
    "\n",
    "</div>"
   ]
  },
  {
   "cell_type": "markdown",
   "id": "191cf754",
   "metadata": {},
   "source": [
    "<div class=\"alert alert-success\">\n",
    "<b>Reviewer's comment</b>\n",
    "\n",
    "Top taxi companies and dropoff locations were identified successfully! Nice analysis!\n",
    "\n",
    "</div>"
   ]
  },
  {
   "cell_type": "code",
   "execution_count": 11,
   "id": "091c21e9",
   "metadata": {},
   "outputs": [
    {
     "data": {
      "text/html": [
       "<div>\n",
       "<style scoped>\n",
       "    .dataframe tbody tr th:only-of-type {\n",
       "        vertical-align: middle;\n",
       "    }\n",
       "\n",
       "    .dataframe tbody tr th {\n",
       "        vertical-align: top;\n",
       "    }\n",
       "\n",
       "    .dataframe thead th {\n",
       "        text-align: right;\n",
       "    }\n",
       "</style>\n",
       "<table border=\"1\" class=\"dataframe\">\n",
       "  <thead>\n",
       "    <tr style=\"text-align: right;\">\n",
       "      <th></th>\n",
       "      <th>start_ts</th>\n",
       "      <th>weather_conditions</th>\n",
       "      <th>duration_seconds</th>\n",
       "    </tr>\n",
       "  </thead>\n",
       "  <tbody>\n",
       "    <tr>\n",
       "      <th>0</th>\n",
       "      <td>2017-11-25 16:00:00</td>\n",
       "      <td>Good</td>\n",
       "      <td>2410.0</td>\n",
       "    </tr>\n",
       "    <tr>\n",
       "      <th>1</th>\n",
       "      <td>2017-11-25 14:00:00</td>\n",
       "      <td>Good</td>\n",
       "      <td>1920.0</td>\n",
       "    </tr>\n",
       "    <tr>\n",
       "      <th>2</th>\n",
       "      <td>2017-11-25 12:00:00</td>\n",
       "      <td>Good</td>\n",
       "      <td>1543.0</td>\n",
       "    </tr>\n",
       "    <tr>\n",
       "      <th>3</th>\n",
       "      <td>2017-11-04 10:00:00</td>\n",
       "      <td>Good</td>\n",
       "      <td>2512.0</td>\n",
       "    </tr>\n",
       "    <tr>\n",
       "      <th>4</th>\n",
       "      <td>2017-11-11 07:00:00</td>\n",
       "      <td>Good</td>\n",
       "      <td>1440.0</td>\n",
       "    </tr>\n",
       "  </tbody>\n",
       "</table>\n",
       "</div>"
      ],
      "text/plain": [
       "              start_ts weather_conditions  duration_seconds\n",
       "0  2017-11-25 16:00:00               Good            2410.0\n",
       "1  2017-11-25 14:00:00               Good            1920.0\n",
       "2  2017-11-25 12:00:00               Good            1543.0\n",
       "3  2017-11-04 10:00:00               Good            2512.0\n",
       "4  2017-11-11 07:00:00               Good            1440.0"
      ]
     },
     "execution_count": 11,
     "metadata": {},
     "output_type": "execute_result"
    }
   ],
   "source": [
    "data = pd.read_csv('/datasets/project_sql_result_07.csv')\n",
    "data.head()"
   ]
  },
  {
   "cell_type": "code",
   "execution_count": 12,
   "id": "58c595a7",
   "metadata": {},
   "outputs": [
    {
     "data": {
      "text/plain": [
       "array(['Good', 'Bad'], dtype=object)"
      ]
     },
     "execution_count": 12,
     "metadata": {},
     "output_type": "execute_result"
    }
   ],
   "source": [
    "data['weather_conditions'].unique()"
   ]
  },
  {
   "cell_type": "code",
   "execution_count": 14,
   "id": "032662cc",
   "metadata": {},
   "outputs": [
    {
     "name": "stdout",
     "output_type": "stream",
     "text": [
      "The average duration of rides from the Loop to O'Hare International Airport significantly changes on rainy Saturdays.\n"
     ]
    }
   ],
   "source": [
    "# Filter the data for rainy Saturdays\n",
    "rainy_saturdays_data = data[(data['weather_conditions'] == 'Bad') & (pd.to_datetime(data['start_ts']).dt.weekday == 5)]\n",
    "\n",
    "# Separate the duration data for rainy Saturdays and other days\n",
    "rainy_saturdays_duration = rainy_saturdays_data['duration_seconds']\n",
    "other_days_duration = data[(data['weather_conditions'] != 'Bad') | (pd.to_datetime(data['start_ts']).dt.weekday != 5)]['duration_seconds']\n",
    "\n",
    "# Perform a t-test to compare the means of rainy Saturdays and other days\n",
    "alpha = 0.05  # Significance level\n",
    "\n",
    "_, p_value = stats.ttest_ind(rainy_saturdays_duration, other_days_duration, equal_var=False)\n",
    "\n",
    "# Compare the p-value to the significance level\n",
    "if p_value < alpha:\n",
    "    print(\"The average duration of rides from the Loop to O'Hare International Airport significantly changes on rainy Saturdays.\")\n",
    "else:\n",
    "    print(\"There is no significant difference in the average duration of rides from the Loop to O'Hare International Airport on rainy Saturdays.\")"
   ]
  },
  {
   "cell_type": "markdown",
   "id": "c28c57be",
   "metadata": {},
   "source": [
    "<div class=\"alert alert-success\">\n",
    "<b>Reviewer's comment</b>\n",
    "\n",
    "The null and alternative hypotheses were formulated correctly, and appropriate test was used and the conclusion is consistent with test results\n",
    "\n",
    "</div>"
   ]
  },
  {
   "cell_type": "code",
   "execution_count": null,
   "id": "7e8646a6",
   "metadata": {},
   "outputs": [],
   "source": []
  }
 ],
 "metadata": {
  "kernelspec": {
   "display_name": "Python 3 (ipykernel)",
   "language": "python",
   "name": "python3"
  },
  "language_info": {
   "codemirror_mode": {
    "name": "ipython",
    "version": 3
   },
   "file_extension": ".py",
   "mimetype": "text/x-python",
   "name": "python",
   "nbconvert_exporter": "python",
   "pygments_lexer": "ipython3",
   "version": "3.9.5"
  },
  "toc": {
   "base_numbering": 1,
   "nav_menu": {},
   "number_sections": true,
   "sideBar": true,
   "skip_h1_title": true,
   "title_cell": "Table of Contents",
   "title_sidebar": "Contents",
   "toc_cell": false,
   "toc_position": {},
   "toc_section_display": true,
   "toc_window_display": false
  }
 },
 "nbformat": 4,
 "nbformat_minor": 5
}
